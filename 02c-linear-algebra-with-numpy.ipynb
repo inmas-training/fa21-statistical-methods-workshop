{
  "nbformat": 4,
  "nbformat_minor": 0,
  "metadata": {
    "celltoolbar": "Slideshow",
    "kernelspec": {
      "display_name": "Python 3",
      "language": "python",
      "name": "python3"
    },
    "language_info": {
      "codemirror_mode": {
        "name": "ipython",
        "version": 3
      },
      "file_extension": ".py",
      "mimetype": "text/x-python",
      "name": "python",
      "nbconvert_exporter": "python",
      "pygments_lexer": "ipython3",
      "version": "3.7.0"
    },
    "colab": {
      "name": "02c-linear-algebra-with-numpy.ipynb",
      "provenance": [],
      "collapsed_sections": [],
      "toc_visible": true,
      "include_colab_link": true
    }
  },
  "cells": [
    {
      "cell_type": "markdown",
      "metadata": {
        "id": "view-in-github",
        "colab_type": "text"
      },
      "source": [
        "<a href=\"https://colab.research.google.com/github/inmas-training/fa21-statistical-methods-workshop/blob/main/02c-linear-algebra-with-numpy.ipynb\" target=\"_parent\"><img src=\"https://colab.research.google.com/assets/colab-badge.svg\" alt=\"Open In Colab\"/></a>"
      ]
    },
    {
      "cell_type": "markdown",
      "metadata": {
        "id": "ylpJ4uLa82RQ"
      },
      "source": [
        "# Overview \n",
        "\n",
        "Within this notebook, we introduce different linear algebra operations in Python using the [NumPy library](https://numpy.org/). NumPy is advantageous to use for its numerical stability and access to lower-level matrix operations through a Basic Linear Algebra Subprograms (BLAS). \n",
        "\n",
        "For more details, please see NumPy's documentation:\n",
        "\n",
        "- <https://numpy.org/doc/stable/reference/index.html>\n",
        "\n",
        "For help with writing in the MathJax flavor of $\\LaTeX$, please see: \n",
        "\n",
        "- <https://math.meta.stackexchange.com/questions/5020/mathjax-basic-tutorial-and-quick-reference>"
      ]
    },
    {
      "cell_type": "markdown",
      "metadata": {
        "id": "gYEZIY6WeWb5"
      },
      "source": [
        "### (Hidden) LaTeX command preamble \n",
        "\n",
        "$$\n",
        "% Define a bordermatrix with top and left-oriented labels\n",
        "\\newcommand{lbordermatrix}[3]{\n",
        "  \\begin{matrix} & \\begin{matrix} #1 \\end{matrix} \\\\\n",
        "  \\begin{matrix} #2 \\end{matrix} \n",
        "  \\hspace{-1em} & #3 \n",
        "  \\end{matrix}\n",
        "}\n",
        "% Define a dependency on the color package for MathJax to load it\n",
        "\\require{color} \n",
        "% Add macro commands for matrix coloring\n",
        "\\newcommand{\\highlightcolor}[2]{\\colorbox{#1}{$\\displaystyle #2$}}\n",
        "\\newcommand{\\highlightcol}[1]{\\colorbox{yellow}{$\\displaystyle #1$}}\n",
        "\\newcommand{\\highlightrow}[1]{\\colorbox{lightblue}{$\\displaystyle #1$}}\n",
        "% Experimental highlighting with CSS thrown in.\n",
        "\\newcommand{\\highlightbb}[1]{\\bbox[orange,5px,border:2px solid red]{#1}}\n",
        "$$\n",
        "\n",
        "\n",
        "<!-- \n",
        "Misc: MathJax doesn't support \\bordermatrix, so we must embed a new command.\n",
        "c.f. https://github.com/mathjax/MathJax/issues/2031\n",
        " -->"
      ]
    },
    {
      "cell_type": "markdown",
      "metadata": {
        "id": "HFnMvQxNgIQp"
      },
      "source": [
        "# Diagnostics"
      ]
    },
    {
      "cell_type": "code",
      "metadata": {
        "id": "7NXeOMIS4Qot",
        "cellView": "form",
        "colab": {
          "base_uri": "https://localhost:8080/"
        },
        "outputId": "579dae0c-a449-4958-cbdd-d0b92a3ada1a"
      },
      "source": [
        "#@title (Hidden) Diagnostic Check\n",
        "import os\n",
        "import sys\n",
        "import pandas as pd\n",
        "import numpy as np\n",
        "%tensorflow_version 2.x\n",
        "import tensorflow as tf\n",
        "\n",
        "print(f\"python: {sys.version}\")\n",
        "print(f\"pandas: {np.__version__}\")\n",
        "print(f\"tensorflow: {tf.__version__}\")\n",
        "# Detect if a GPU is present\n",
        "gpus = tf.config.list_physical_devices('GPU')\n",
        "\n",
        "if gpus:\n",
        "  print(f\"GPU Enabled: True\")\n",
        "else:\n",
        "  print(f\"GPU Enabled: False\")\n",
        "\n",
        "try:\n",
        "  from google.colab import drive\n",
        "  is_google_colab = True\n",
        "\n",
        "  print(\"Notebook is on Google CoLab\")\n",
        "except:\n",
        "  is_google_colab = False\n",
        "  print(\"Notebook is being run locally or through another source.\")\n"
      ],
      "execution_count": null,
      "outputs": [
        {
          "output_type": "stream",
          "text": [
            "python: 3.6.9 (default, Oct  8 2020, 12:12:24) \n",
            "[GCC 8.4.0]\n",
            "pandas: 1.19.5\n",
            "tensorflow: 2.4.1\n",
            "GPU Enabled: False\n",
            "Notebook is on Google CoLab\n"
          ],
          "name": "stdout"
        }
      ]
    },
    {
      "cell_type": "markdown",
      "metadata": {
        "id": "vDwz-KgX8w0D"
      },
      "source": [
        "# Linear algebra"
      ]
    },
    {
      "cell_type": "markdown",
      "metadata": {
        "id": "ukRMYc419Sah"
      },
      "source": [
        "To begin, we note that NumPy is an external package. Thus, we'll load the `NumPy` package under the namespace `np`."
      ]
    },
    {
      "cell_type": "code",
      "metadata": {
        "ExecuteTime": {
          "end_time": "2019-01-22T06:59:37.697347Z",
          "start_time": "2019-01-22T06:59:36.344203Z"
        },
        "id": "KbNSLq0_8w0J"
      },
      "source": [
        "import numpy as np"
      ],
      "execution_count": null,
      "outputs": []
    },
    {
      "cell_type": "markdown",
      "metadata": {
        "id": "LE-jIHESAM0O"
      },
      "source": [
        "From here, we'll look at: \n",
        "\n",
        "- **Scalars:** A single number\n",
        "- **Vectors:** An array of numbers\n",
        "- **Matrices:** A two dimensional (2D) array of numbers. \n",
        "- **Tensors:** An _p_-dimensional array with $p > 2$.\n"
      ]
    },
    {
      "cell_type": "markdown",
      "metadata": {
        "id": "ZOQB0A8V8w0K"
      },
      "source": [
        "## Scalars\n",
        "\n",
        "Scalar values represent a single value. In practice, this would be saying:\n",
        "\n",
        "$$a = 1$$\n",
        "\n",
        "Scalars can take on many different types:\n",
        "\n",
        "- boolean: `True` or `False`\n",
        "- integers or whole numbers: -42, -1, 0, 5, 32\n",
        "- double, float, or decimal numbers: -1.2, 0.0, .66666, 3.14\n",
        "\n",
        "For an extended overview of different data types for NumPy's scalar support please see: <https://numpy.org/doc/stable/user/basics.types.html>\n",
        "\n"
      ]
    },
    {
      "cell_type": "markdown",
      "metadata": {
        "id": "MVz2fO9bJxgJ"
      },
      "source": [
        "### Working with Scalars in NumPy\n",
        "\n",
        "Let's try different algebraic operations with two integer values or whole numbers, $x$ and $y$:"
      ]
    },
    {
      "cell_type": "code",
      "metadata": {
        "ExecuteTime": {
          "end_time": "2019-01-22T06:59:37.723391Z",
          "start_time": "2019-01-22T06:59:37.701297Z"
        },
        "colab": {
          "base_uri": "https://localhost:8080/"
        },
        "id": "fsN3Lusm8w0K",
        "outputId": "935c408a-e816-4a9c-e7ff-44762c99f52e"
      },
      "source": [
        "# Integers\n",
        "x = np.int64(2)\n",
        "y = np.int64(3)\n",
        "\n",
        "print('x + y = ', x + y)\n",
        "print('x * y = ', x * y)\n",
        "print('x / y = ', x / y)\n",
        "print('x ** y = ', np.power(x,y))"
      ],
      "execution_count": null,
      "outputs": [
        {
          "output_type": "stream",
          "text": [
            "x + y =  5\n",
            "x * y =  6\n",
            "x / y =  0.6666666666666666\n",
            "x ** y =  8\n"
          ],
          "name": "stdout"
        }
      ]
    },
    {
      "cell_type": "markdown",
      "metadata": {
        "id": "N3IsusAS-TYE"
      },
      "source": [
        "What if we had a decimal number? "
      ]
    },
    {
      "cell_type": "code",
      "metadata": {
        "colab": {
          "base_uri": "https://localhost:8080/"
        },
        "id": "kpfUpj1q-SKq",
        "outputId": "53af108c-c93c-4f2d-da19-1e484a04d63c"
      },
      "source": [
        "# Doubles\n",
        "x = np.float64(1.1)\n",
        "y = np.float64(2.5)\n",
        "\n",
        "print('x + y = ', x + y)\n",
        "print('x * y = ', x * y)\n",
        "print('x / y = ', x / y)\n",
        "print('x ** y = ', np.power(x,y))"
      ],
      "execution_count": null,
      "outputs": [
        {
          "output_type": "stream",
          "text": [
            "x + y =  3.6\n",
            "x * y =  2.75\n",
            "x / y =  0.44000000000000006\n",
            "x ** y =  1.2690587062858836\n"
          ],
          "name": "stdout"
        }
      ]
    },
    {
      "cell_type": "markdown",
      "metadata": {
        "id": "yRrY6A438w0M"
      },
      "source": [
        "How could you tell if a NumPy object was scalar? Check if the object's:\n",
        "\n",
        "1. Dimensions are 0\n",
        "1. Size is 1\n",
        "1. Shape is an empty tuple, e.g. `()`."
      ]
    },
    {
      "cell_type": "code",
      "metadata": {
        "ExecuteTime": {
          "end_time": "2019-01-22T06:59:37.743361Z",
          "start_time": "2019-01-22T06:59:37.728689Z"
        },
        "colab": {
          "base_uri": "https://localhost:8080/"
        },
        "id": "Dk7prK8G8w0N",
        "outputId": "e0bab99e-219d-4cf5-f793-4afde5315c90"
      },
      "source": [
        "# Sample of a single scalar value\n",
        "a = np.int64(1)\n",
        "\n",
        "# Number of Dimensions\n",
        "a.ndim"
      ],
      "execution_count": null,
      "outputs": [
        {
          "output_type": "execute_result",
          "data": {
            "text/plain": [
              "0"
            ]
          },
          "metadata": {
            "tags": []
          },
          "execution_count": 5
        }
      ]
    },
    {
      "cell_type": "code",
      "metadata": {
        "colab": {
          "base_uri": "https://localhost:8080/"
        },
        "id": "wxPspO64_z3l",
        "outputId": "5884f150-464c-4534-ed14-5a26e752b2d3"
      },
      "source": [
        "# Number of Elements\n",
        "a.size "
      ],
      "execution_count": null,
      "outputs": [
        {
          "output_type": "execute_result",
          "data": {
            "text/plain": [
              "1"
            ]
          },
          "metadata": {
            "tags": []
          },
          "execution_count": 6
        }
      ]
    },
    {
      "cell_type": "code",
      "metadata": {
        "colab": {
          "base_uri": "https://localhost:8080/"
        },
        "id": "Id1-PgfD_0vD",
        "outputId": "3eef1b38-3f87-49fb-864f-644ee18d6890"
      },
      "source": [
        "# See tuple of Array Dimensions\n",
        "a.shape"
      ],
      "execution_count": null,
      "outputs": [
        {
          "output_type": "execute_result",
          "data": {
            "text/plain": [
              "()"
            ]
          },
          "metadata": {
            "tags": []
          },
          "execution_count": 7
        }
      ]
    },
    {
      "cell_type": "markdown",
      "metadata": {
        "id": "YJ2MUL9Z8w0N"
      },
      "source": [
        "## Vectors\n",
        "\n",
        "Vectors are arrays of numbers e.g.\n",
        "\n",
        "$$\\mathbf{x}_{n \\times 1} = \\begin{bmatrix} x_1 \\\\ x_2 \\\\ \\cdots \\\\ x_n \\end{bmatrix}_{n \\times 1}$$\n",
        "\n",
        "Depending on the dimensions of the vector, it can either be **row** or **column**-based. This can be determined by looking at dimensions of the vector. Frequently, the dimensions will be written as a subscript next to\n",
        "the name of the vector variable. \n",
        "\n",
        "For instance, the original example would be a **column** vector.\n",
        "\n",
        "In the case of a _row_ vector, we would need: \n",
        "\n",
        "$$\\mathbf{x}_{1 \\times n} = \\begin{bmatrix} x_1 & x_2 & \\cdots & x_n \\end{bmatrix}_{1 \\times n}$$\n",
        "\n",
        "As an example, consider the collection of numbers given as $1, 2, 3, 4$.\n",
        "\n",
        "They could be arrange as either:\n",
        "\n",
        "$$\\begin{align}\n",
        "\\mathbf{x}_{4 \\times 1} &= \\begin{bmatrix} 1 \\\\ 2 \\\\ 3 \\\\ 4 \\end{bmatrix}_{4 \\times 1} \\\\\n",
        "&\\text{Or} \\\\\n",
        "\\mathbf{x}_{1 \\times 4} &= \\begin{bmatrix} 1 & 2 & 3 & 4 \\end{bmatrix}_{4 \\times 1}\n",
        "\\end{align}$$\n",
        "\n",
        "\n"
      ]
    },
    {
      "cell_type": "markdown",
      "metadata": {
        "id": "CaD9XpYeIWGB"
      },
      "source": [
        "### Vectors in NumPy\n",
        "\n",
        "If they are implemented in NumPy, we would have:\n"
      ]
    },
    {
      "cell_type": "code",
      "metadata": {
        "colab": {
          "base_uri": "https://localhost:8080/"
        },
        "id": "PB3Wtpb8BXaD",
        "outputId": "b2975491-6c00-480d-8118-eff88256b6cb"
      },
      "source": [
        "x = np.array([[1], [2], [3], [4]])\n",
        "print(f\"x is a column vector with dimensions {x.shape} and elements:\\n {x}\")"
      ],
      "execution_count": null,
      "outputs": [
        {
          "output_type": "stream",
          "text": [
            "x is a column vector with dimensions (4, 1) and elements:\n",
            " [[1]\n",
            " [2]\n",
            " [3]\n",
            " [4]]\n"
          ],
          "name": "stdout"
        }
      ]
    },
    {
      "cell_type": "markdown",
      "metadata": {
        "id": "jXaRiZIIVEpF"
      },
      "source": [
        "**Note:** In this format, each element (or row) is denoted by square brackets, e.g.`[]` around the value. These elements are then grouped together by another square bracket, e.g. `[[1], [2]]` gives `[[1], [2]]`.\n",
        "\n",
        "Next, we consider the **row-vector** format: "
      ]
    },
    {
      "cell_type": "code",
      "metadata": {
        "colab": {
          "base_uri": "https://localhost:8080/"
        },
        "id": "Q0MxFS2gC0HQ",
        "outputId": "d347d591-ff7b-4581-8fba-178631795540"
      },
      "source": [
        "x = np.array([1, 2, 3, 4])\n",
        "print(f\"x is a row vector with dimensions {x.shape} and elements:\\n {x}\")"
      ],
      "execution_count": null,
      "outputs": [
        {
          "output_type": "stream",
          "text": [
            "x is a row vector with dimensions (4,) and elements:\n",
            " [1 2 3 4]\n"
          ],
          "name": "stdout"
        }
      ]
    },
    {
      "cell_type": "markdown",
      "metadata": {
        "id": "V7Z4Jpv5EaNE"
      },
      "source": [
        "What? Why isn't NumPy adding a second dimension in comparison to the column-vector? \n",
        "\n",
        "**Short version:** Only one \"view\"/set of indices is required to describe elements in a row-vector as it is mainly a collection of elements. Meanwhile, in a column-vector there are\n",
        "two sets of indices required to describe the row and the column location of an element despite the column location being fixed to 1. "
      ]
    },
    {
      "cell_type": "markdown",
      "metadata": {
        "id": "wwwU2F3MHZDk"
      },
      "source": [
        "Sometimes this property is desirable. Other times, one would seek to create a new view that has two indices. This is possible using the [`.reshape()`](https://numpy.org/doc/stable/reference/generated/numpy.reshape.html) method."
      ]
    },
    {
      "cell_type": "code",
      "metadata": {
        "colab": {
          "base_uri": "https://localhost:8080/"
        },
        "id": "Nj_UGFZPGbhS",
        "outputId": "036aafdb-ffab-47fe-c35a-690614197611"
      },
      "source": [
        "y = x.reshape((1, x.shape[0]))\n",
        "print(f\"y is a row vector with dimensions {y.shape} and elements:\\n {y}\")"
      ],
      "execution_count": null,
      "outputs": [
        {
          "output_type": "stream",
          "text": [
            "y is a row vector with dimensions (1, 4) and elements:\n",
            " [[1 2 3 4]]\n"
          ],
          "name": "stdout"
        }
      ]
    },
    {
      "cell_type": "markdown",
      "metadata": {
        "id": "OOy29XWdHkgn"
      },
      "source": [
        "**Note:** `y` now has two dimensions and as such displays elements surrounded by double brackets, e.g. `[[ ]]`, which indicate two indices are now present. "
      ]
    },
    {
      "cell_type": "markdown",
      "metadata": {
        "id": "5o2Kw-9BIM7X"
      },
      "source": [
        "### Accessing a single vector-value.\n",
        "\n",
        "Recall that Python uses a zero-based indexing system. Thus, we have indices setup as:\n",
        "\n",
        "```\n",
        "index =     0    1    2    3    \n",
        "         ┌────┬────┬────┬────┐\n",
        "    x =  │  2 │  4 │  9 │  5 │\n",
        "         └────┴────┴────┴────┘\n",
        "```\n",
        "\n",
        "So, to retrieve the third-value, we would need to use `2` as the position. \n"
      ]
    },
    {
      "cell_type": "code",
      "metadata": {
        "colab": {
          "base_uri": "https://localhost:8080/"
        },
        "id": "pRNzCYdFILrs",
        "outputId": "a92a475c-b553-4cd3-83d1-a9f6e7f57022"
      },
      "source": [
        "# Create a series of vectors\n",
        "x = np.array([2, 4, 9, 5])\n",
        "\n",
        "# Retrieve third value\n",
        "x_3 = x[2]\n",
        "\n",
        "print(f\"Third value of x is {x_3}\")"
      ],
      "execution_count": null,
      "outputs": [
        {
          "output_type": "stream",
          "text": [
            "Third value of x is 9\n"
          ],
          "name": "stdout"
        }
      ]
    },
    {
      "cell_type": "markdown",
      "metadata": {
        "id": "TFuP1Eh9NNoH"
      },
      "source": [
        "To access the first element, we would use `0`:"
      ]
    },
    {
      "cell_type": "code",
      "metadata": {
        "colab": {
          "base_uri": "https://localhost:8080/"
        },
        "id": "aaWPMMlWNFZs",
        "outputId": "5b63678c-c504-47a8-ae1b-a10bd895a424"
      },
      "source": [
        "# Retrieve first value in the vector\n",
        "x_1 = x[0]\n",
        "\n",
        "print(f\"First value of x is {x_1}\")"
      ],
      "execution_count": null,
      "outputs": [
        {
          "output_type": "stream",
          "text": [
            "First value of x is 2\n"
          ],
          "name": "stdout"
        }
      ]
    },
    {
      "cell_type": "markdown",
      "metadata": {
        "id": "xNxdglGvUUFu"
      },
      "source": [
        "#### Your Turn: Vector Access\n",
        "\n",
        "Consider a vector with $m$ values. How could one retrieve the last value?"
      ]
    },
    {
      "cell_type": "code",
      "metadata": {
        "id": "Lw0NDskfZxEf"
      },
      "source": [
        "## code here"
      ],
      "execution_count": null,
      "outputs": []
    },
    {
      "cell_type": "markdown",
      "metadata": {
        "id": "SUEJs07UJ7ng"
      },
      "source": [
        "### Creating Ranges or Sequences\n",
        "\n",
        "Frequently, you may wish to create a series of increasing values. Generally, constructing such a vector by-hand can be problematic."
      ]
    },
    {
      "cell_type": "code",
      "metadata": {
        "ExecuteTime": {
          "end_time": "2019-01-22T06:59:37.759425Z",
          "start_time": "2019-01-22T06:59:37.748844Z"
        },
        "colab": {
          "base_uri": "https://localhost:8080/"
        },
        "id": "UhmEXPBv8w0N",
        "outputId": "5c615d90-4a1a-4b17-a1b2-8612d4df52e7"
      },
      "source": [
        "x = np.arange(4) + 1\n",
        "print(f\"x = {x}\") \n",
        "\n",
        "# equivalent to\n",
        "y = np.array([1, 2, 3, 4])\n",
        "print(f\"y = {y}\")"
      ],
      "execution_count": null,
      "outputs": [
        {
          "output_type": "stream",
          "text": [
            "x = [1 2 3 4]\n",
            "y = [1 2 3 4]\n"
          ],
          "name": "stdout"
        }
      ]
    },
    {
      "cell_type": "markdown",
      "metadata": {
        "id": "v0q_C6ulKO_w"
      },
      "source": [
        "#### Your Turn: Matching indices\n",
        "\n",
        "Why was the plus 1 (`+ 1`) added after `np.arange(4)`? \n"
      ]
    },
    {
      "cell_type": "code",
      "metadata": {
        "id": "j_3-Rv5WSaax"
      },
      "source": [
        "## code here"
      ],
      "execution_count": null,
      "outputs": []
    },
    {
      "cell_type": "markdown",
      "metadata": {
        "id": "5jdRehHF8w0O"
      },
      "source": [
        "### Element-wise algebraic operations \n"
      ]
    },
    {
      "cell_type": "markdown",
      "metadata": {
        "id": "4KgaADy68w0P"
      },
      "source": [
        "Vectors have a nice property of being able to _apply_ a mathematical operations\n",
        "across all elements in a succient manner. \n",
        "We'll see later that this enables faster operations through parallelization (or perform actions simultaneously instead of one-after-another). For now, note that\n",
        "standard operations are possible on an element-wise basis or the same location in each vector is operated on. Let's examine some possible \"a x plus y\" (\"AXPY\") operations.\n",
        "\n",
        "For instance, we have element-wise addition: \n",
        "\n",
        "\n",
        "$$\\begin{align}\n",
        "\\mathbf{x}_{4 \\times 1} &= \\begin{bmatrix} 1 \\\\ 2 \\\\ 3 \\\\ 4 \\end{bmatrix}_{4 \\times 1}, \\mathbf{y}_{4 \\times 1} = \\begin{bmatrix} 5 \\\\ 6 \\\\ 7 \\\\ 8 \\end{bmatrix}_{4 \\times 1} \\\\ \n",
        "\\mathbf{x}_{4 \\times 1} + \\mathbf{y}_{4 \\times 1} &= \\begin{bmatrix} 1 \\\\ 2 \\\\ 3 \\\\ 4 \\end{bmatrix}_{4 \\times 1} + \\begin{bmatrix} 5 \\\\ 6 \\\\ 7 \\\\ 8 \\end{bmatrix}_{4 \\times 1} = \\begin{bmatrix} 1 + 5 \\\\ 2 + 6 \\\\ 3 + 7 \\\\ 4 + 8 \\end{bmatrix}_{4 \\times 1} = \\begin{bmatrix} 6 \\\\ 8 \\\\ 10 \\\\ 12 \\end{bmatrix}_{4 \\times 1} \\\\ \n",
        "\\end{align}$$\n",
        "\n",
        "\n",
        "In the case of a scalar-vector multiplication, one would have:\n",
        "\n",
        "$$\\begin{align}\n",
        "a &= 3 \\\\\n",
        "a \\mathbf{x}_{4 \\times 1} &= a\\begin{bmatrix} 1 \\\\ 2 \\\\ 3 \\\\ 4 \\end{bmatrix}_{4 \\times 1} = \\begin{bmatrix} a \\\\ 2a \\\\ 3a \\\\ 4a \\end{bmatrix}_{4 \\times 1} = \\begin{bmatrix} 3 \\\\ 6 \\\\ 9 \\\\ 12 \\end{bmatrix}_{4 \\times 1} \\\\\n",
        "\\end{align}$$\n",
        "\n",
        "Lastly, we can perform subtraction in an \"a x plus y\" (\"AXPY\") operation with:\n",
        "\n",
        "$$\\begin{align}\n",
        "a &= -1 \\\\\n",
        "a \\mathbf{x}_{4 \\times 1} + \\mathbf{y}_{4 \\times 1} &= (-1)\\begin{bmatrix} 1 \\\\ 2 \\\\ 3 \\\\ 4 \\end{bmatrix}_{4 \\times 1} + \\begin{bmatrix} 5 \\\\ 6 \\\\ 7 \\\\ 8 \\end{bmatrix}_{4 \\times 1} = \\begin{bmatrix} -1 + 5 \\\\ -2 + 6 \\\\ -3 + 7 \\\\ -4 + 8 \\end{bmatrix}_{4 \\times 1} = \\begin{bmatrix} 4 \\\\ 4 \\\\ 4 \\\\ 4 \\end{bmatrix}_{4 \\times 1} \\\\ \n",
        "\\end{align}$$\n",
        "\n",
        "\n"
      ]
    },
    {
      "cell_type": "code",
      "metadata": {
        "ExecuteTime": {
          "end_time": "2019-01-22T06:59:37.819085Z",
          "start_time": "2019-01-22T06:59:37.806667Z"
        },
        "colab": {
          "base_uri": "https://localhost:8080/"
        },
        "id": "a5iRS2sy8w0P",
        "outputId": "b83469d3-ba43-4a2b-931b-334ada41f188"
      },
      "source": [
        "a = 3\n",
        "x = np.arange(4) + 1\n",
        "print(f\"x has:\\n {x}\")\n",
        "y = np.arange(5, 9, 1)\n",
        "print(f\"y has:\\n {y}\")\n",
        "\n",
        "print(f\"a * x: \\n {a * x}\")\n",
        "\n",
        "a = -1\n",
        "print(f\"a * x + y: \\n {a * x + y}\")"
      ],
      "execution_count": null,
      "outputs": [
        {
          "output_type": "stream",
          "text": [
            "x has:\n",
            " [1 2 3 4]\n",
            "y has:\n",
            " [5 6 7 8]\n",
            "a * x: \n",
            " [ 3  6  9 12]\n",
            "a * x + y: \n",
            " [4 4 4 4]\n"
          ],
          "name": "stdout"
        }
      ]
    },
    {
      "cell_type": "markdown",
      "metadata": {
        "id": "ogmEb4ICKyyn"
      },
      "source": [
        "### Transposition\n",
        "\n",
        "Taking the transpose of a vector will change it shape. Fundamentally, the transpose of a row vector is a column vector and vice versa.\n",
        "\n",
        "Consider: \n",
        "\n",
        "$$\n",
        "\\begin{align}\n",
        "\\mathbf{x}_{1 \\times n} &= \\begin{bmatrix}\n",
        "x_1 & x_2 & \\cdots & x_n\n",
        "\\end{bmatrix}_{1 \\times n} \\\\\n",
        "&\\text{Taking the tranpose} \\\\\n",
        "\\mathbf{x}^T_{n \\times 1} &= \\begin{bmatrix}\n",
        "x_1 \\\\ x_2 \\\\ \\cdots \\\\ x_n\n",
        "\\end{bmatrix}_{n \\times 1}\n",
        "\\end{align}\n",
        "$$\n"
      ]
    },
    {
      "cell_type": "code",
      "metadata": {
        "colab": {
          "base_uri": "https://localhost:8080/"
        },
        "id": "9tVT7_g2K59z",
        "outputId": "77f660c1-361a-48f6-9906-847208f1647d"
      },
      "source": [
        "# Construct a 2D vector sequence\n",
        "x = np.arange(1, 5, 1)[np.newaxis]\n",
        "print(f\"x: \\n {x} \\n\")\n",
        "\n",
        "# Take the tranpose\n",
        "x_tranpose = x.T\n",
        "print(f\"x_tranpose: \\n {x_tranpose} \\n\")\n",
        "\n",
        "# Observe shape dimension\n",
        "print(f\"x shape is {x.shape} and x_tranpose shape is {x_tranpose.shape}\")"
      ],
      "execution_count": null,
      "outputs": [
        {
          "output_type": "stream",
          "text": [
            "x: \n",
            " [[1 2 3 4]] \n",
            "\n",
            "x_tranpose: \n",
            " [[1]\n",
            " [2]\n",
            " [3]\n",
            " [4]] \n",
            "\n",
            "x shape is (1, 4) and x_tranpose shape is (4, 1)\n"
          ],
          "name": "stdout"
        }
      ]
    },
    {
      "cell_type": "markdown",
      "metadata": {
        "id": "hs6SraoFO_sg"
      },
      "source": [
        "**Note:** `[np.newaxis]` adds a second index without having to use `.reshape()`. "
      ]
    },
    {
      "cell_type": "markdown",
      "metadata": {
        "id": "lZ3Q7Hfv8w0P"
      },
      "source": [
        "## Matrices\n",
        "\n",
        "Matrices consist of a series of vectors aligned either by orientation (row or column) to form a two-dimensional (2D) object. \n",
        "\n",
        "In the matrix $\\mathbf{A}$, we have the entry $a_{ij}$ representing the $i$-th row and $j$-th column. In a 1-based indexing system, we have:\n",
        "\n",
        "\n",
        "$$\\mathbf{A} = \n",
        "\\begin{bmatrix}\n",
        " a_{11} & a_{12} & \\cdots & a_{1m} \\\\\n",
        " a_{21} & a_{22} & \\cdots & a_{2m} \\\\\n",
        "\\vdots & \\vdots & \\ddots & \\vdots \\\\\n",
        " a_{n1} & a_{n2} & \\cdots & a_{nm} \\\\\n",
        "\\end{bmatrix}_{n \\times m}\n",
        "$$\n",
        "\n",
        "However, the indexes here are not representative of the 0-based indexing system in Python. Instead, each index value must be 1 less from both the desired row and column.\n",
        "\n",
        "$$\n",
        "\\mathbf{A}_{4 \\times 4} = \\lbordermatrix{\n",
        "  % columns\n",
        "  \\hphantom{{0}}0\\hphantom{{00}} & \n",
        "  1\\hphantom{{00}} & \n",
        "  2\\hphantom{{00}} & \n",
        "  3\\hphantom{{00}}\n",
        "}{0 \\\\ 1 \\\\ 2 \\\\ 3}{\n",
        "  \\begin{bmatrix} \n",
        "   a_{00} & a_{01} & a_{02} & a_{03} \\\\\n",
        "   a_{10} & a_{11} & a_{12} & a_{13} \\\\ \n",
        "   a_{20} & a_{21} & a_{22} & a_{23} \\\\\n",
        "   a_{30} & a_{31} & a_{32} & a_{33} \n",
        "  \\end{bmatrix}\n",
        "}_{4 \\times 4}\n",
        "$$\n",
        "\n",
        "**Note:** $a_{11}$ would be found at $a_{00}$ in NumPy.\n",
        "\n",
        "Having said this, we consider all matrix entries be operating in the real numberspace, e.g. $a_{ij} \\in \\mathbb{R}^{n \\times m}$."
      ]
    },
    {
      "cell_type": "markdown",
      "metadata": {
        "id": "uE0j_n69H9SQ"
      },
      "source": [
        "### Matrices in NumPy\n",
        "\n",
        "NumPy offers `np.array()` and `np.matrix()` to construct 2-dimensional matrices. Even when constructing matrices, the preferred approach is to use `np.array()` with appropriate square brackets setting columns and rows. \n",
        "\n",
        "**Note:** `np.matrix()` is scheduled to be [removed in the future](https://numpy.org/doc/stable/reference/generated/numpy.matrix.html)."
      ]
    },
    {
      "cell_type": "markdown",
      "metadata": {
        "id": "Kl8ExDf5I6Zm"
      },
      "source": [
        "Matrices are constructed by first using a set of square brackets, e.g. `[]`, to denote the matrix. From there, the matrix is constructed by systematically adding rows grouped together by square brackets. Consider the following matrix:\n",
        "\n",
        "$$\\mathbf{A} = \n",
        "\\begin{bmatrix}\n",
        " 1 & 2 & 3 \\\\\n",
        " 4 & 5 & 6 \\\\\n",
        "\\end{bmatrix}_{2 \\times 3}\n",
        "$$\n",
        "\n",
        "This could be created with:"
      ]
    },
    {
      "cell_type": "code",
      "metadata": {
        "colab": {
          "base_uri": "https://localhost:8080/"
        },
        "id": "GqjOqtSoKNdo",
        "outputId": "0ba3795e-3949-41bc-da25-1e7771c6e8a0"
      },
      "source": [
        "A = np.array(\n",
        "    [           # Start matrix\n",
        "     [1, 2, 3], # Row 1\n",
        "     [4, 5, 6]  # Row 2\n",
        "    ]           # End matrix\n",
        "  )\n",
        "print(f\"Matrix A looks like:\\n {A}\")"
      ],
      "execution_count": null,
      "outputs": [
        {
          "output_type": "stream",
          "text": [
            "Matrix A looks like:\n",
            " [[1 2 3]\n",
            " [4 5 6]]\n"
          ],
          "name": "stdout"
        }
      ]
    },
    {
      "cell_type": "markdown",
      "metadata": {
        "id": "bsz3Fbc0Il4G"
      },
      "source": [
        "When testing code, constructing matrices with ranges set to specific dimensions is useful. In this case, the `.reshape()` method enables a 1D vector from `np.arange()` to be structured in a two-dimensional view. "
      ]
    },
    {
      "cell_type": "code",
      "metadata": {
        "ExecuteTime": {
          "end_time": "2019-01-22T06:59:37.845855Z",
          "start_time": "2019-01-22T06:59:37.832911Z"
        },
        "colab": {
          "base_uri": "https://localhost:8080/"
        },
        "id": "6oWUafhY8w0Q",
        "outputId": "2a32ea0d-9cb6-46fd-e3b7-8d3ccb38550b"
      },
      "source": [
        "# Long way\n",
        "A = np.array(\n",
        "    [                     # Start matrix\n",
        "     [0, 1, 2, 3, 4],     # Row 1\n",
        "     [5, 6, 7, 8, 9],     # Row 2\n",
        "     [10, 11, 12, 13, 14],# Row 3\n",
        "     [15, 16, 17, 18, 19] # Row 4\n",
        "    ]                     # End matrix\n",
        "  )\n",
        "print(f\"Matrix A looks like:\\n {A}\\n\")\n",
        "\n",
        "# Concise way\n",
        "A = np.arange(20).reshape((4,5))\n",
        "print(f\"Matrix A generated by reshaping:\\n {A}\")"
      ],
      "execution_count": null,
      "outputs": [
        {
          "output_type": "stream",
          "text": [
            "Matrix A looks like:\n",
            " [[ 0  1  2  3  4]\n",
            " [ 5  6  7  8  9]\n",
            " [10 11 12 13 14]\n",
            " [15 16 17 18 19]]\n",
            "\n",
            "Matrix A generated by reshaping:\n",
            " [[ 0  1  2  3  4]\n",
            " [ 5  6  7  8  9]\n",
            " [10 11 12 13 14]\n",
            " [15 16 17 18 19]]\n"
          ],
          "name": "stdout"
        }
      ]
    },
    {
      "cell_type": "markdown",
      "metadata": {
        "id": "6JXsRrJHKicb"
      },
      "source": [
        "### Creating Special Matrices (ones, zeros, random values, ...)\n",
        "\n",
        "There are times when matrices should be filled with specific values for all elements. For those cases, consider using:\n",
        "\n",
        "- `np.ones()` for a vector of ones.\n",
        "- `np.zeros()` for a vector of zeros.\n",
        "\n",
        "Each function takes either a single integer to generate a vector or a **tuple** containing the dimensions of the matrix. For instance, `(3, 2)` would generate a matrix with 3 rows and 2 columns."
      ]
    },
    {
      "cell_type": "code",
      "metadata": {
        "ExecuteTime": {
          "end_time": "2019-01-22T06:59:37.790373Z",
          "start_time": "2019-01-22T06:59:37.765817Z"
        },
        "colab": {
          "base_uri": "https://localhost:8080/"
        },
        "id": "6qwjyi4h8w0O",
        "outputId": "3ee6184d-3da1-459d-a2e0-cf0fb53eb226"
      },
      "source": [
        "W_matrix = np.ones((3, 2))\n",
        "print(f\"W_matrix of ones:\\n{W_matrix}\\n\")\n",
        "\n",
        "x_vec = np.ones(3)\n",
        "print(f\"x_vec of ones: {x_vec}\\n\")\n",
        "\n",
        "Y_matrix = np.zeros((3, 2))\n",
        "print(f\"Y_matrix of zeros:\\n{Y_matrix}\\n\")\n",
        "\n",
        "z_vec = np.zeros(3)\n",
        "print(f\"z_vec of zeros: {z_vec}\")"
      ],
      "execution_count": null,
      "outputs": [
        {
          "output_type": "stream",
          "text": [
            "W_matrix of ones:\n",
            "[[1. 1.]\n",
            " [1. 1.]\n",
            " [1. 1.]]\n",
            "\n",
            "x_vec of ones: [1. 1. 1.]\n",
            "\n",
            "Y_matrix of zeros:\n",
            "[[0. 0.]\n",
            " [0. 0.]\n",
            " [0. 0.]]\n",
            "\n",
            "z_vec of zeros: [0. 0. 0.]\n"
          ],
          "name": "stdout"
        }
      ]
    },
    {
      "cell_type": "markdown",
      "metadata": {
        "id": "tzfawj0uRODI"
      },
      "source": [
        "For random values, consider using: \n",
        "\n",
        "- [`np.random.randint()`](https://numpy.org/doc/stable/reference/random/generated/numpy.random.randint.html): for a vector of random integers.\n",
        "- [`np.random.rand()`](https://numpy.org/doc/stable/reference/random/generated/numpy.random.rand.html) for a vector of random samples from a Uniform distribution, `u ~ U[0, 1]`.\n",
        "- [`np.random.randn()`](https://numpy.org/doc/stable/reference/random/generated/numpy.random.randn.html): for a vector of random samples from a standard Normal distribution, `Z ~ N[0, 1]`.\n",
        "\n",
        "To ensure reproducible random numbers, make sure to set a seed using [`np.random.seed(a_number_here)`](https://numpy.org/doc/stable/reference/random/generated/numpy.random.seed.html).\n",
        "\n",
        "Unlike the prior functions, these functions require each dimension to be written as a function parameter. So, to generate a 2 x 5 matrix, one would use:\n",
        "`np.random.randfunction(2, 5)`.\n"
      ]
    },
    {
      "cell_type": "markdown",
      "metadata": {
        "id": "7L8HozXoTHcd"
      },
      "source": [
        "Sample random integers"
      ]
    },
    {
      "cell_type": "code",
      "metadata": {
        "colab": {
          "base_uri": "https://localhost:8080/"
        },
        "id": "nrhQLhXJTG-L",
        "outputId": "b95dcf2e-6d1b-4e23-f436-3b2aae3a03dd"
      },
      "source": [
        "# Set a seed for reproducibility\n",
        "np.random.seed(341)\n",
        "\n",
        "# Sample a random sequence\n",
        "v_1 = np.random.randint(10, size = 5)\n",
        "print(f\"v_1 = \\n {v_1} \\n\")\n",
        "\n",
        "# Sample with a different seed\n",
        "np.random.seed(1512)\n",
        "v_2 = np.random.randint(10, size = 5)\n",
        "print(f\"v_2 = \\n {v_2} \\n\")\n",
        "\n",
        "# Sample with the same seed\n",
        "np.random.seed(1512)\n",
        "v_3 = np.random.randint(10, size = 5)\n",
        "print(f\"v_3 = \\n {v_3} \\n\")"
      ],
      "execution_count": null,
      "outputs": [
        {
          "output_type": "stream",
          "text": [
            "v_1 = \n",
            " [3 5 3 7 2] \n",
            "\n",
            "v_2 = \n",
            " [1 1 5 1 7] \n",
            "\n",
            "v_3 = \n",
            " [1 1 5 1 7] \n",
            "\n"
          ],
          "name": "stdout"
        }
      ]
    },
    {
      "cell_type": "markdown",
      "metadata": {
        "id": "ZPTg3E3fTxwp"
      },
      "source": [
        "Sample from a uniform distribution. "
      ]
    },
    {
      "cell_type": "code",
      "metadata": {
        "colab": {
          "base_uri": "https://localhost:8080/"
        },
        "id": "zfAXVrl8T03x",
        "outputId": "d820bc84-6a6a-48c5-883d-22880f6191ac"
      },
      "source": [
        "# Set a seed for reproducibility\n",
        "np.random.seed(341)\n",
        "\n",
        "# Sample from a Uniform Distribution, e.g. u ~ U[0, 1]\n",
        "u = np.random.rand(5)\n",
        "print(f\"u ~ U[0, 1]: \\n {u}\\n\")\n",
        "\n",
        "# Sample from a Uniform Distribution, e.g. u ~ U[0, 1]\n",
        "u_mat = np.random.rand(3, 2)\n",
        "print(f\"u_mat ~ U[0, 1]: \\n {u_mat}\")"
      ],
      "execution_count": null,
      "outputs": [
        {
          "output_type": "stream",
          "text": [
            "u ~ U[0, 1]: \n",
            " [0.2651669  0.92647858 0.72987223 0.93945584 0.81705294]\n",
            "\n",
            "u_mat ~ U[0, 1]: \n",
            " [[0.80915501 0.07984923]\n",
            " [0.03411085 0.16149582]\n",
            " [0.85389694 0.45250823]]\n"
          ],
          "name": "stdout"
        }
      ]
    },
    {
      "cell_type": "markdown",
      "metadata": {
        "id": "Q-6q8mGkTFlK"
      },
      "source": [
        "Sample from Normal Distribution"
      ]
    },
    {
      "cell_type": "code",
      "metadata": {
        "colab": {
          "base_uri": "https://localhost:8080/"
        },
        "id": "S924N4kHRRQC",
        "outputId": "1fb2800f-d2d6-456e-dcb4-31e331b9479a"
      },
      "source": [
        "# Set a seed for reproducibility\n",
        "np.random.seed(1337)\n",
        "\n",
        "# Sample from a standard Normal distribution, e.g. x ~ N(0, 1)\n",
        "z = np.random.randn(5)\n",
        "print(f\"z ~ N(0, 1) = \\n {z} \\n\")\n",
        "\n",
        "# Sample from a Normal distribution with mean 3 and standard deviation 2\n",
        "# e.g. x ~ N(mu, sigma^2)\n",
        "mu = 3\n",
        "sigma = 2\n",
        "x = sigma * np.random.randn(5) + mu\n",
        "print(f\"x ~ N({mu}, {sigma}^2) = \\n {x}\")"
      ],
      "execution_count": null,
      "outputs": [
        {
          "output_type": "stream",
          "text": [
            "z ~ N(0, 1) = \n",
            " [-0.70318731 -0.49028236 -0.32181433 -1.75507872  0.20666447] \n",
            "\n",
            "x ~ N(3, 2^2) = \n",
            " [-1.02252915  1.88549858  3.67443402  6.09767194  0.25852688]\n"
          ],
          "name": "stdout"
        }
      ]
    },
    {
      "cell_type": "markdown",
      "metadata": {
        "id": "y4-7YXucPUfM"
      },
      "source": [
        "Be careful which random number function is being used! "
      ]
    },
    {
      "cell_type": "code",
      "metadata": {
        "colab": {
          "base_uri": "https://localhost:8080/",
          "height": 241
        },
        "id": "t72W4Mj7PUFs",
        "outputId": "4b9db99a-0167-44f2-b6ef-5526e22987eb"
      },
      "source": [
        "# Enable plots in notebook\n",
        "%matplotlib inline\n",
        "\n",
        "# Import plotting library\n",
        "import matplotlib.pyplot as plt\n",
        "\n",
        "# Retrieve color maps\n",
        "from matplotlib import cm\n",
        "\n",
        "# Set seed for reproducibility\n",
        "np.random.seed(3151)\n",
        "\n",
        "# Simulate data\n",
        "normal_data = np.random.randn(30, 30)*np.sqrt(2)\n",
        "uniform_data = np.random.rand(30, 30)\n",
        "\n",
        "# Combine\n",
        "simulated_data = [normal_data, uniform_data]\n",
        "plot_titles = ['X ~ N(0, 2)', 'u ~ U[0, 1]']\n",
        "\n",
        "# Generate plot\n",
        "fig, axs = plt.subplots(1, 2, figsize=(6, 3), constrained_layout = True)\n",
        "for [ax, title, data] in zip(axs, plot_titles, simulated_data):\n",
        "  # Heatmap of simulated data by coordinate\n",
        "  psm = ax.pcolormesh(data, cmap = cm.get_cmap('viridis', 256),\n",
        "                      rasterized = True, vmin = -4, vmax = 4)\n",
        "  ax.set_title(title)\n",
        "  # Attach color bar\n",
        "  fig.colorbar(psm, ax = ax)\n",
        "plt.show()"
      ],
      "execution_count": null,
      "outputs": [
        {
          "output_type": "display_data",
          "data": {
            "image/png": "[encoded data removed]",
            "text/plain": [
              "<Figure size 432x216 with 4 Axes>"
            ]
          },
          "metadata": {
            "tags": [],
            "needs_background": "light"
          }
        }
      ]
    },
    {
      "cell_type": "markdown",
      "metadata": {
        "id": "nZeu1NTYVeVV"
      },
      "source": [
        "### Accessing Matrix Values in a Contiguous Manner\n",
        "\n",
        "Consider the following matrix: \n",
        "\n",
        "$$\\mathbf{A}_{4 \\times 4} = \\begin{bmatrix}\n",
        " 1 & 5 &  9 & 13 \\\\\n",
        " 2 & 6 & 10 & 14 \\\\\n",
        " 3 & 7 & 11 & 15 \\\\\n",
        " 4 & 8 & 12 & 16\n",
        "\\end{bmatrix}_{4 \\times 4}$$\n"
      ]
    },
    {
      "cell_type": "markdown",
      "metadata": {
        "id": "Xp6v-EJsZ9jd"
      },
      "source": [
        "#### Single-value retrieval \n",
        "\n",
        "Elements in $\\mathbf{A}$ are able to be retrieved by specifying row $i$ and column $j$. Requesting an element at a specific row and column location, requires: **`M[row, column]`**.  \n",
        "\n",
        "For example, accessing element $a_{0, 1}$ in a zero-based index matrix would give $5$, e.g. \n",
        "\n",
        "$$\n",
        "\\mathbf{A}_{4 \\times 4} = \\lbordermatrix{\n",
        "  % columns\n",
        "  0 & \n",
        "  1 & \n",
        "  \\hphantom{{0}}2 & \n",
        "  \\hphantom{{0}}3\\hphantom{{0}}\n",
        "  }{0 \\\\ 1 \\\\ 2 \\\\ 3}{\n",
        "  \\begin{bmatrix} \n",
        "  1&\\color{red}{5}&9&13 \\\\\n",
        "   2 & 6 & 10 & 14 \\\\ \n",
        "   3 & 7 & 11 & 15 \\\\\n",
        "   4 & 8 & 12 & 16 \n",
        "  \\end{bmatrix}\n",
        "}_{4 \\times 4}\n",
        "$$\n",
        "\n",
        "<!-- Old matrix setup, slightly off.\n",
        "$$\\begin{matrix}\n",
        "&\\begin{matrix}0 & 1 & 2 & 3\\end{matrix} \\\\\n",
        "\\begin{matrix}0\\\\ 1 \\\\ 2 \\\\ 3 \\end{matrix} & \n",
        "\\begin{bmatrix}\n",
        " 1 & \\color{red}{5} &  9 & 13 \\\\\n",
        " 2 & 6 & 10 & 14 \\\\\n",
        " 3 & 7 & 11 & 15 \\\\\n",
        " 4 & 8 & 12 & 16\n",
        "\\end{bmatrix}_{4 \\times 4}\n",
        "\\end{matrix}$$ -->\n"
      ]
    },
    {
      "cell_type": "code",
      "metadata": {
        "colab": {
          "base_uri": "https://localhost:8080/"
        },
        "id": "KNB2rlwNWZf_",
        "outputId": "db0e9ba3-6704-4f90-a4f5-e16569d0e25b"
      },
      "source": [
        "A = (np.arange(16) + 1).reshape((4, 4)).T\n",
        "print(f\"Matrix A looks like: \\n {A} \\n\")\n",
        "\n",
        "# Recall, we need to use zero-based indexing\n",
        "a_ij = A[0, 1]\n",
        "print(f\"At row 1 and column 2, the element a_{1,2} = {a_ij}\")"
      ],
      "execution_count": null,
      "outputs": [
        {
          "output_type": "stream",
          "text": [
            "Matrix A looks like: \n",
            " [[ 1  5  9 13]\n",
            " [ 2  6 10 14]\n",
            " [ 3  7 11 15]\n",
            " [ 4  8 12 16]] \n",
            "\n",
            "At row 1 and column 2, the element a_(1, 2) = 5\n"
          ],
          "name": "stdout"
        }
      ]
    },
    {
      "cell_type": "markdown",
      "metadata": {
        "id": "Zl_UDUiQYQTY"
      },
      "source": [
        "#### Row retrieval \n",
        "\n",
        "Retrieving an entire row is possible with **`M[row, :]`** or **`M[row, ]`**. \n",
        "For the second index, either `:` or a blank entry will result in the entire index being selected. \n",
        "\n",
        "To retrieve the first row from A, we would use `A[0, :]` or `A[0,]`\n",
        "\n",
        "$$\n",
        "\\mathbf{A}_{4 \\times 4} = \\lbordermatrix{\n",
        "  % columns\n",
        "  0 & \n",
        "  1 & \n",
        "  \\hphantom{{0}}2 & \n",
        "  \\hphantom{{0}}3\\hphantom{{0}}\n",
        "  }{0 \\\\ 1 \\\\ 2 \\\\ 3}{\n",
        "  \\begin{bmatrix} \n",
        "   \\color{red}{1} & \\color{red}{5} & \\color{red}{9} & \\color{red}{13} \\\\\n",
        "   2 & 6 & 10 & 14 \\\\ \n",
        "   3 & 7 & 11 & 15 \\\\\n",
        "   4 & 8 & 12 & 16 \n",
        "  \\end{bmatrix}\n",
        "}_{4 \\times 4}\n",
        "$$\n",
        "\n",
        "**Note:**  The colon (`:`) operator refers to slicing or creating a subset of the original object. For more details, see [NumPy's indexing section](https://numpy.org/doc/stable/reference/arrays.indexing.html)."
      ]
    },
    {
      "cell_type": "code",
      "metadata": {
        "colab": {
          "base_uri": "https://localhost:8080/"
        },
        "id": "Sd_1Jz1sijlV",
        "outputId": "d3af4e22-06b8-4261-e31b-d783ab2bed9e"
      },
      "source": [
        "A = (np.arange(16) + 1).reshape((4, 4)).T\n",
        "print(f\"Matrix A looks like: \\n {A} \\n\")\n",
        "\n",
        "# Recall, we need to use zero-based indexing\n",
        "A_0j = A[0, :]\n",
        "print(f\"Obtaining values in row 1 with a colon in the column location results in A_{{0,j}} = \\n {A_0j}\")\n",
        "A_0j_blank = A[0, ]\n",
        "print(f\"Obtaining values in row 1 with a blank column index gives A_{{0,j}} = \\n {A_0j_blank}\")"
      ],
      "execution_count": null,
      "outputs": [
        {
          "output_type": "stream",
          "text": [
            "Matrix A looks like: \n",
            " [[ 1  5  9 13]\n",
            " [ 2  6 10 14]\n",
            " [ 3  7 11 15]\n",
            " [ 4  8 12 16]] \n",
            "\n",
            "Obtaining values in row 1 with a colon in the column location results in A_{0,j} = \n",
            " [ 1  5  9 13]\n",
            "Obtaining values in row 1 with a blank column index gives A_{0,j} = \n",
            " [ 1  5  9 13]\n"
          ],
          "name": "stdout"
        }
      ]
    },
    {
      "cell_type": "markdown",
      "metadata": {
        "id": "XzV6Owa6kbFe"
      },
      "source": [
        "#### Column retrieval \n",
        "\n",
        "Obtaining a single column would be given by using **`M[:, column]`**. \n",
        "\n",
        "To retrieve the fourth column from A, we would use `A[:, 3]`. \n",
        "\n",
        "$$\n",
        "\\mathbf{A}_{4 \\times 4} = \\lbordermatrix{\n",
        "  % columns\n",
        "  0 & \n",
        "  1 & \n",
        "  \\hphantom{{0}}2 & \n",
        "  \\hphantom{{0}}3\\hphantom{{0}}}{0 \\\\ 1 \\\\ 2 \\\\ 3}{\n",
        "  \\begin{bmatrix} \n",
        "   1 & 5 &  9 & \\color{red}{13} \\\\\n",
        "   2 & 6 & 10 & \\color{red}{14} \\\\ \n",
        "   3 & 7 & 11 & \\color{red}{15} \\\\\n",
        "   4 & 8 & 12 & \\color{red}{16} \n",
        "  \\end{bmatrix}\n",
        "}_{4 \\times 4}\n",
        "$$\n",
        "\n",
        "**Note:**  The colon (`:`) operator refers to slicing or creating a subset of the original object. For more details, see [NumPy's indexing section](https://numpy.org/doc/stable/reference/arrays.indexing.html)."
      ]
    },
    {
      "cell_type": "code",
      "metadata": {
        "colab": {
          "base_uri": "https://localhost:8080/"
        },
        "id": "uIvXKFBMkbFs",
        "outputId": "326013b1-73a5-40a5-bc2b-134689576a20"
      },
      "source": [
        "A = (np.arange(16) + 1).reshape((4, 4)).T\n",
        "print(f\"Matrix A looks like: \\n {A} \\n\")\n",
        "\n",
        "# Recall, we need to use zero-based indexing\n",
        "A_i3 = A[:, 3]\n",
        "print(f\"Retrieving values in column 1, gives A_{{i,3}} = \\n {A_i3} \\n\")\n",
        "print(f\"Shape of A_{{i,3}} is {A_i3.shape} \")"
      ],
      "execution_count": null,
      "outputs": [
        {
          "output_type": "stream",
          "text": [
            "Matrix A looks like: \n",
            " [[ 1  5  9 13]\n",
            " [ 2  6 10 14]\n",
            " [ 3  7 11 15]\n",
            " [ 4  8 12 16]] \n",
            "\n",
            "Retrieving values in column 1, gives A_{i,3} = \n",
            " [13 14 15 16] \n",
            "\n",
            "Shape of A_{i,3} is (4,) \n"
          ],
          "name": "stdout"
        }
      ]
    },
    {
      "cell_type": "markdown",
      "metadata": {
        "id": "sA2qngtZlqpr"
      },
      "source": [
        "When retrieving both rows and columsn, the dimension subset across is removed resulting in a one-dimensional vector."
      ]
    },
    {
      "cell_type": "markdown",
      "metadata": {
        "id": "2Hw2LKvVWf4W"
      },
      "source": [
        "#### Submatrix retrieval\n",
        "\n",
        "In the next subset operation, the goal is to retrieve a submatrix. Submatrices require one range for each index. Moreover, the indices here are given by $\\left[\\text{start}, \\text{stop}\\right)$ or $\\text{start} \\le x < \\text{stop}$. In this case, the start of the range is included and the end is excluded. As a result, when supplying the two different indices, make sure to add one to the end position of the position desired. Thus, a submatrix is accessible with: **`M[start_row:(stop_row + 1), start_col:(end_col+1)]`**. \n",
        "\n",
        "The colon operator is specified by `start:stop:increment`. If `increment` is not given, the default step size is 1. So, `0:3` would generate `0, 1, 2` and `0:4` would give `0, 1, 2, 3`. If the increment size changed to `2`, then `0:3:2` provides `0, 2` and `0:4:2` would yield `0, 2`.\n",
        "\n",
        "As an example, the submatrix defined by row 1 to row 2 and column 1 to column 2 would be obtained with: `A[1:3, 1:3]`. \n",
        "\n",
        "$$\n",
        "\\mathbf{A}_{4 \\times 4} = \\lbordermatrix{\n",
        "  % columns\n",
        "  0 & \n",
        "  1 & \n",
        "  \\hphantom{{0}}2 & \n",
        "  \\hphantom{{0}}3\\hphantom{{0}}\n",
        "  }{0 \\\\ 1 \\\\ 2 \\\\ 3}{\n",
        "  \\begin{bmatrix} \n",
        "   1 & 5 &  9 & 13 \\\\\n",
        "   2 & \\color{red}{6} & \\color{red}{10} & 14 \\\\ \n",
        "   3 & \\color{red}{7} & \\color{red}{11} & 15 \\\\\n",
        "   4 & 8 & 12 & 16 \n",
        "  \\end{bmatrix}\n",
        "}_{4 \\times 4}\n",
        "$$\n"
      ]
    },
    {
      "cell_type": "code",
      "metadata": {
        "colab": {
          "base_uri": "https://localhost:8080/"
        },
        "id": "SGrDoBSUXGgt",
        "outputId": "82c26025-6c48-43af-ff46-499847defa30"
      },
      "source": [
        "A = (np.arange(16) + 1).reshape((4, 4)).T\n",
        "print(f\"Matrix A looks like: \\n {A} \\n\")\n",
        "\n",
        "# Recall, we need to use zero-based indexing and one additional value\n",
        "A_inner = A[1:3, 1:3]\n",
        "print(f\"Retrieving values in Row 1 - 2 and Column 1 - 2, results in A_{{inner}} = \\n {A_inner} \\n\")\n",
        "print(f\"Shape of A_{{inner}} is {A_inner.shape} \")"
      ],
      "execution_count": null,
      "outputs": [
        {
          "output_type": "stream",
          "text": [
            "Matrix A looks like: \n",
            " [[ 1  5  9 13]\n",
            " [ 2  6 10 14]\n",
            " [ 3  7 11 15]\n",
            " [ 4  8 12 16]] \n",
            "\n",
            "Retrieving values in Row 1 - 2 and Column 1 - 2, results in A_{inner} = \n",
            " [[ 6 10]\n",
            " [ 7 11]] \n",
            "\n",
            "Shape of A_{inner} is (2, 2) \n"
          ],
          "name": "stdout"
        }
      ]
    },
    {
      "cell_type": "markdown",
      "metadata": {
        "id": "6EgV-vqFaIii"
      },
      "source": [
        "### Accessing Matrix Values in a Non-Contiguous Manner\n",
        "\n",
        "Unlike the prior section, the goal is to obtain elements that are not immediately next to each other. \n",
        "\n",
        "As an example, let's aim to obtain values only at the odd indices. This would give: `[(Row 1, Column 1), (Row 3, Column 1), (Row 1, Column 3), (Row 3, Column 3)]`. \n",
        "\n",
        "$$\n",
        "\\mathbf{A}_{4 \\times 4} = \\lbordermatrix{\n",
        "  % columns\n",
        "  0 & \n",
        "  1 & \n",
        "  \\hphantom{{0}}2 & \n",
        "  \\hphantom{{0}}3\\hphantom{{0}}\n",
        "  }{0 \\\\ 1 \\\\ 2 \\\\ 3}{\n",
        "  \\begin{bmatrix} \n",
        "   1 & 5 &  9 & 13 \\\\\n",
        "   2 & \\color{red}{6} & 10 & \\color{red}{14} \\\\ \n",
        "   3 & 7 & 11 & 15 \\\\\n",
        "   4 & \\color{red}{8} & 12 & \\color{red}{16} \n",
        "  \\end{bmatrix}\n",
        "}_{4 \\times 4}\n",
        "$$\n",
        "\n",
        "Non-contiguous views require equal coordinates for both row and column indices given in a **List** data structure.\n",
        "\n",
        "Another approach would be to use the colon/slice (`:`) operator previously shown to obtain a submatrix.  By default, the colon operator has an incremental step of 1, e.g. `start:stop:increment` Specifying the range `1:4` or `1:4:1` would result in: `1,2,3,4`. However, in the\n"
      ]
    },
    {
      "cell_type": "code",
      "metadata": {
        "colab": {
          "base_uri": "https://localhost:8080/"
        },
        "id": "tcqbCWnMduNy",
        "outputId": "c0eeed0e-c1c9-471c-b1f1-308d0e0c6feb"
      },
      "source": [
        "A = (np.arange(16) + 1).reshape((4, 4)).T\n",
        "print(f\"Matrix A looks like: \\n {A} \\n\")\n",
        "\n",
        "# Recall, we need to use zero-based indexing\n",
        "A_nc = A[(1, 3, 1, 3), (1, 1, 3, 3)]\n",
        "print(f\"Non-contiguous view of A_{{nc}} = \\n {A_nc} \\n\")\n",
        "print(f\"Shape of A_{{i,3}} is {A_nc.shape}\")"
      ],
      "execution_count": null,
      "outputs": [
        {
          "output_type": "stream",
          "text": [
            "Matrix A looks like: \n",
            " [[ 1  5  9 13]\n",
            " [ 2  6 10 14]\n",
            " [ 3  7 11 15]\n",
            " [ 4  8 12 16]] \n",
            "\n",
            "Non-contiguous view of A_{nc} = \n",
            " [ 6  8 14 16] \n",
            "\n",
            "Shape of A_{i,3} is (4,)\n"
          ],
          "name": "stdout"
        }
      ]
    },
    {
      "cell_type": "markdown",
      "metadata": {
        "id": "WnGuwNfRKlN5"
      },
      "source": [
        "\n",
        "\n",
        "### Transposing a Matrix\n",
        "\n"
      ]
    },
    {
      "cell_type": "markdown",
      "metadata": {
        "id": "S91xEUxv8w0Q"
      },
      "source": [
        "Transposition is the art of rotating the matrix's dimensions and contents. In particular, the operation is mathematically defined as $B = A^T$ when $b_{ij} = a_{ji}$ for any $i$ and $j$. We can transpose the matrix through `.T`.  As an example, consider:\n",
        "\n",
        "$$\n",
        "\\mathbf{A}_{2 \\times 2} = \\lbordermatrix{0 & 1}{0 \\\\ 1}{\n",
        "  \\begin{bmatrix} \n",
        "   \\color{blue}{1} & \\color{orange}{3} \\\\\n",
        "   \\color{pink}{2} & \\color{red}{4} \\\\\n",
        "  \\end{bmatrix}\n",
        "}_{2 \\times 2}\n",
        "$$\n",
        "\n",
        "The transpose of $\\mathbf{A}$ is then:\n",
        "\n",
        "$$\n",
        "\\mathbf{A}^T_{2 \\times 2} = \\lbordermatrix{0 & 1}{0 \\\\ 1}{\n",
        "  \\begin{bmatrix} \n",
        "   \\color{blue}{1} & \\color{pink}{2} \\\\\n",
        "   \\color{orange}{3} & \\color{red}{4} \\\\\n",
        "  \\end{bmatrix}\n",
        "}_{2 \\times 2} \n",
        "$$\n",
        "\n",
        "Till now, we've largely worked with square matrices, which have an equal number of rows as columns, $n = m$. This operation holds even if the number of columns and rows are not equal, $n \\neq m$. For example, we have:\n",
        "\n",
        "$$\n",
        "\\mathbf{B}_{2 \\times 3} = \\lbordermatrix{0 & 1 & 2}{0 \\\\ 1}{\n",
        "  \\begin{bmatrix} \n",
        "   \\color{blue}{1} & \\color{orange}{3} & \\color{yellow}{5} \\\\\n",
        "   \\color{pink}{2} & \\color{red}{4} & \\color{green}{6} \\\\\n",
        "  \\end{bmatrix}\n",
        "}_{2 \\times 3}\n",
        "$$\n",
        "\n",
        "The tranpose of $\\mathbf{B}$ would be: \n",
        "\n",
        "$$\n",
        "\\mathbf{B}^T_{3 \\times 2} = \\lbordermatrix{0 & 1}{0 \\\\ 1 \\\\ 2}{\n",
        "  \\begin{bmatrix} \n",
        "   \\color{blue}{1} & \\color{pink}{2} \\\\\n",
        "   \\color{orange}{3} & \\color{red}{4} \\\\\n",
        "   \\color{yellow}{5} & \\color{green}{6} \\\\\n",
        "  \\end{bmatrix}\n",
        "}_{3 \\times 2} \n",
        "$$\n"
      ]
    },
    {
      "cell_type": "code",
      "metadata": {
        "id": "4sX1qSeKKkj-",
        "colab": {
          "base_uri": "https://localhost:8080/"
        },
        "outputId": "5c7dece0-2ad9-43fd-d13b-84677785d48c"
      },
      "source": [
        "A = (np.arange(4) + 1).reshape((2, 2)).T\n",
        "print(f\"Matrix A looks like: \\n {A} \\n\")\n",
        "\n",
        "A_t = A.T\n",
        "print(f\"Matrix A tranposed looks like: \\n {A_t} \\n\")\n"
      ],
      "execution_count": null,
      "outputs": [
        {
          "output_type": "stream",
          "text": [
            "Matrix A looks like: \n",
            " [[1 3]\n",
            " [2 4]] \n",
            "\n",
            "Matrix A tranposed looks like: \n",
            " [[1 2]\n",
            " [3 4]] \n",
            "\n"
          ],
          "name": "stdout"
        }
      ]
    },
    {
      "cell_type": "code",
      "metadata": {
        "colab": {
          "base_uri": "https://localhost:8080/"
        },
        "id": "88DqfDzi1bmi",
        "outputId": "4cabd4c7-d298-4176-91c4-7e5cc4e95fdd"
      },
      "source": [
        "B = (np.arange(6) + 1).reshape((3, 2)).T\n",
        "print(f\"Matrix B looks like: \\n {B} \\n\")\n",
        "\n",
        "B_t = B.T\n",
        "print(f\"Matrix B tranposed looks like: \\n {B_t} \\n\")\n"
      ],
      "execution_count": null,
      "outputs": [
        {
          "output_type": "stream",
          "text": [
            "Matrix B looks like: \n",
            " [[1 3 5]\n",
            " [2 4 6]] \n",
            "\n",
            "Matrix B tranposed looks like: \n",
            " [[1 2]\n",
            " [3 4]\n",
            " [5 6]] \n",
            "\n"
          ],
          "name": "stdout"
        }
      ]
    },
    {
      "cell_type": "markdown",
      "metadata": {
        "id": "MCruxTGp8w0U"
      },
      "source": [
        "### Dot/Scalar/Inner Product\n",
        "\n",
        "The dot product (a.k.a scalar product or inner product) is defined as:\n",
        "\n",
        "$$\n",
        "\\langle \\mathbf{\\color{red}a}, \\mathbf{\\color{blue}b} \\rangle = \\mathbf{\\color{red}a}^T\\cdot\\mathbf{\\color{blue}b}=\\sum_{i=1}^n {\\color{red}a}_i{\\color{blue}b}_i={\\color{red}a}_1{\\color{blue}b}_1+{\\color{red}a}_2{\\color{blue}b}_2+\\cdots+{\\color{red}a}_n{\\color{blue}b}_n\n",
        "$$\n",
        "\n",
        "The dot product provides a summation over the product of two equal-length sequences of numbers. Under linear regression, the dot product is the action performed to obtain a _single_ prediction given a set of variables.\n",
        "\n",
        "$$\n",
        "\\langle \\mathbf{\\color{red}x}, \\mathbf{\\color{blue}\\beta} \\rangle = \\mathbf{\\color{red}x}^T \\mathbf{\\color{blue}\\beta} = \\sum_{p=1}^P {\\color{red}x}_i{\\color{blue}\\beta}_i={\\color{red}x}_1{\\color{blue}\\beta}_1+{\\color{red}x}_2{\\color{blue}\\beta}_2+\\cdots+{\\color{red}x}_p{\\color{blue}\\beta}_p\n",
        "$$\n"
      ]
    },
    {
      "cell_type": "markdown",
      "metadata": {
        "id": "BloIxucDRTE0"
      },
      "source": [
        "\n",
        "As a practical example, consider:\n",
        "\n",
        "$$\n",
        "\\begin{align}\n",
        "\\mathbf{\\color{red}a}^T_{1 \\times 3} = \n",
        "\\begin{bmatrix}\n",
        "\\color{red}{4} & \\color{red}{1} & \\color{red}{-3}\n",
        "\\end{bmatrix}_{1 \\times 3}&, \n",
        "\\mathbf{\\color{blue}b}_{3 \\times 1} = \n",
        " \\begin{bmatrix}\n",
        " \\color{blue}{5} \\\\ \n",
        " \\color{blue}{-2} \\\\ \n",
        " \\color{blue}{-8}\n",
        " \\end{bmatrix}_{3 \\times 1} \\\\\n",
        "\\mathbf{\\color{red}a}^T_{1 \\times 3} \\mathbf{\\color{blue}b}_{3 \\times 1} = \n",
        "%\n",
        "\\begin{bmatrix}\n",
        "  \\color{red}{4} &  \\color{red}{1} & \\color{red}{-3} \\\\\n",
        "\\end{bmatrix} \n",
        "%\n",
        "\\cdot \n",
        "%\n",
        " \\begin{bmatrix}\n",
        " \\color{blue}{5} \\\\ \n",
        " \\color{blue}{-2} \\\\ \n",
        " \\color{blue}{-8}\n",
        " \\end{bmatrix} &= \n",
        " (\\color{red}{4} \\times \\color{blue}{5}) + \n",
        " (\\color{red}{1} \\times \\color{blue}{-2}) + \n",
        " (\\color{red}{-3}\\times \\color{blue}{-8}) \\\\\n",
        "&= 20 - 2 + 24 \\\\\n",
        "&= 42\n",
        "\\end{align}\n",
        "$$"
      ]
    },
    {
      "cell_type": "code",
      "metadata": {
        "colab": {
          "base_uri": "https://localhost:8080/"
        },
        "id": "mlDJEULdKpKo",
        "outputId": "b08014a4-0683-4feb-d2db-14e9c4e92eaf"
      },
      "source": [
        "a = np.array([4, 1, -3]).T\n",
        "b = np.array([5, -2, -8])\n",
        "np.dot(a, b)"
      ],
      "execution_count": null,
      "outputs": [
        {
          "output_type": "execute_result",
          "data": {
            "text/plain": [
              "42"
            ]
          },
          "metadata": {
            "tags": []
          },
          "execution_count": 30
        }
      ]
    },
    {
      "cell_type": "markdown",
      "metadata": {
        "id": "QS0wZ_HGI81U"
      },
      "source": [
        "To further emphasize the summation over a product, consider what happens when one vector is filled with ones and the other is a linear sequence."
      ]
    },
    {
      "cell_type": "code",
      "metadata": {
        "ExecuteTime": {
          "end_time": "2019-01-22T06:59:37.947256Z",
          "start_time": "2019-01-22T06:59:37.936840Z"
        },
        "colab": {
          "base_uri": "https://localhost:8080/"
        },
        "id": "5GOCBjjc8w0U",
        "outputId": "7bccfc88-32f4-4858-8b53-967e238eb564"
      },
      "source": [
        "# Generate data\n",
        "x = np.arange(4) + 1\n",
        "y = np.ones(4)\n",
        "\n",
        "# Perform dot product\n",
        "dot_product = np.dot(x, y)\n",
        "\n",
        "# Show results\n",
        "print(f\"x = \\n{x}\\n\")\n",
        "print(f\"y = \\n{y}\\n\")\n",
        "print(f\"x.y = {dot_product}\")"
      ],
      "execution_count": null,
      "outputs": [
        {
          "output_type": "stream",
          "text": [
            "x = \n",
            "[1 2 3 4]\n",
            "\n",
            "y = \n",
            "[1. 1. 1. 1.]\n",
            "\n",
            "x.y = 10.0\n"
          ],
          "name": "stdout"
        }
      ]
    },
    {
      "cell_type": "markdown",
      "metadata": {
        "id": "2TSEYIa58w0U"
      },
      "source": [
        "The dot product may also be computed by performing an element-wise multiplication and, then, obtaining the sum. However, this approach is less efficient as it doesn't take advantage of BLAS features."
      ]
    },
    {
      "cell_type": "code",
      "metadata": {
        "ExecuteTime": {
          "end_time": "2019-01-22T06:59:37.958753Z",
          "start_time": "2019-01-22T06:59:37.950028Z"
        },
        "colab": {
          "base_uri": "https://localhost:8080/"
        },
        "id": "8QFKC8tO8w0V",
        "outputId": "d3f058c3-d85c-4a12-a507-c0123bbeaea9"
      },
      "source": [
        "np.sum(x * y)"
      ],
      "execution_count": null,
      "outputs": [
        {
          "output_type": "execute_result",
          "data": {
            "text/plain": [
              "10.0"
            ]
          },
          "metadata": {
            "tags": []
          },
          "execution_count": 32
        }
      ]
    },
    {
      "cell_type": "markdown",
      "metadata": {
        "id": "VAyRJWGN8w0V"
      },
      "source": [
        "### Matrix-vector Multiplication\n",
        "\n",
        "Consider the following matrix $A \\in \\mathbb{R}^{n \\times m}$ and vector $x \\in \\mathbb{R}^{m}$:\n",
        "\n",
        "$$\\mathbf{A}_{n \\times m} = \\begin{bmatrix}\n",
        " a_{11} & a_{12} & \\cdots & a_{1m} \\\\\n",
        " a_{21} & a_{22} & \\cdots & a_{2m} \\\\\n",
        "\\vdots & \\vdots & \\ddots & \\vdots \\\\\n",
        " a_{n1} & a_{n2} & \\cdots & a_{nm} \\\\\n",
        "\\end{bmatrix},\\quad\\mathbf{x}=\\begin{bmatrix}\n",
        " x_{1}  \\\\\n",
        " x_{2} \\\\\n",
        "\\vdots\\\\\n",
        " x_{m}\\\\\n",
        "\\end{bmatrix}_{m \\times 1} $$\n",
        "\n",
        "We can repeatitively use the dot product $n$ times for each row in the matrix to slowly build up the matrix-vector product. \n",
        "\n",
        "$$\\mathbf{A}_{n \\times m} \\mathbf{x}_{m \\times 1} =\n",
        "\\begin{bmatrix}\n",
        "\\cdots & \\mathbf{a}^T_{1} &...  \\\\\n",
        "\\cdots & \\mathbf{a}^T_{2} & \\cdots \\\\\n",
        " & \\vdots &  \\\\\n",
        " \\cdots &\\mathbf{a}^T_n & \\cdots \\\\\n",
        "\\end{bmatrix}_{n \\times m}\n",
        "\\begin{bmatrix}\n",
        " x_{1}  \\\\\n",
        " x_{2} \\\\\n",
        "\\vdots\\\\\n",
        " x_{m}\\\\\n",
        "\\end{bmatrix}_{m \\times 1}\n",
        "= \\begin{bmatrix}\n",
        " \\mathbf{a}^T_{1} \\mathbf{x}  \\\\\n",
        " \\mathbf{a}^T_{2} \\mathbf{x} \\\\\n",
        "\\vdots\\\\\n",
        " \\mathbf{a}^T_{n} \\mathbf{x}\\\\\n",
        "\\end{bmatrix}_{n \\times 1}\n",
        "$$\n",
        "\n",
        "We'll see the matrix-vector multplication occur frequently within dense neural networks when going from layer-to-layer.\n"
      ]
    },
    {
      "cell_type": "markdown",
      "metadata": {
        "id": "k3ro4epsSOnt"
      },
      "source": [
        "As an example, consider the following matrix and vector: \n",
        "\n",
        "$$\n",
        "\\mathbf{A}_{3 \\times 2} = \\begin{bmatrix}\n",
        " \\color{blue}{1} & \\color{blue}{4} \\\\\n",
        " \\color{orange}{2} & \\color{orange}{5} \\\\\n",
        " \\color{green}{3} & \\color{green}{6}  \\\\\n",
        "\\end{bmatrix}_{3 \\times 2},\\quad\\mathbf{x}_{2 \\times 1} = \\begin{bmatrix}\n",
        " \\color{purple}{7} \\\\\n",
        " \\color{purple}{8} \\\\\n",
        "\\end{bmatrix}_{2 \\times 1}$$\n",
        "\n",
        "Then, the matrix-vector product would be:\n",
        "$$\\mathbf{A}_{3 \\times 2}\\mathbf{x}_{2 \\times 1}=\n",
        "\\begin{bmatrix}\n",
        " \\color{blue}{1} & \\color{blue}{4} \\\\\n",
        " \\color{orange}{2} & \\color{orange}{5} \\\\\n",
        " \\color{green}{3} & \\color{green}{6}  \\\\\n",
        "\\end{bmatrix}_{3 \\times 2} \\begin{bmatrix}\n",
        " \\color{purple}{7} \\\\\n",
        " \\color{purple}{8} \\\\\n",
        "\\end{bmatrix}_{2 \\times 1}\n",
        "= \\begin{bmatrix}\n",
        " {\\color{blue}{1}} \\times {\\color{purple}{7}} + {\\color{blue}{4}} \\times {\\color{purple}{8}}  \\\\\n",
        " {\\color{orange}{2}} \\times {\\color{purple}{7}} + {\\color{orange}{5}} \\times {\\color{purple}{8}}  \\\\\n",
        " {\\color{green}{3}} \\times {\\color{purple}{7}} + {\\color{green}{6}} \\times {\\color{purple}{8}}  \\\\\n",
        "\\end{bmatrix} \n",
        "= \\begin{bmatrix}\n",
        " 39  \\\\\n",
        " 54  \\\\\n",
        " 69  \\\\\n",
        "\\end{bmatrix}\n",
        "$$"
      ]
    },
    {
      "cell_type": "code",
      "metadata": {
        "ExecuteTime": {
          "end_time": "2019-01-22T06:59:37.972681Z",
          "start_time": "2019-01-22T06:59:37.961622Z"
        },
        "colab": {
          "base_uri": "https://localhost:8080/"
        },
        "id": "2JzfADpT8w0V",
        "outputId": "a0c1dde3-f68b-4deb-86ac-b9139d6c7ebc"
      },
      "source": [
        "# Setup matrix and vector\n",
        "A = (np.arange(6) + 1).reshape((2, 3)).T\n",
        "x = (np.arange(2) + 7).reshape((2, 1))\n",
        "print(f\"A:\\n{A}\\n\")\n",
        "print(f\"x:\\n{x}\\n\")\n",
        "\n",
        "# Perform matrix-vector multiplication with dot\n",
        "matrix_vec_multiplication = np.dot(A, x)\n",
        "print(f\"Matrix-vector multiplication of Ax: \\n {matrix_vec_multiplication} \\n\")"
      ],
      "execution_count": null,
      "outputs": [
        {
          "output_type": "stream",
          "text": [
            "A:\n",
            "[[1 4]\n",
            " [2 5]\n",
            " [3 6]]\n",
            "\n",
            "x:\n",
            "[[7]\n",
            " [8]]\n",
            "\n",
            "Matrix-vector multiplication of Ax: \n",
            " [[39]\n",
            " [54]\n",
            " [69]] \n",
            "\n"
          ],
          "name": "stdout"
        }
      ]
    },
    {
      "cell_type": "markdown",
      "metadata": {
        "id": "fsylSTx58w0W"
      },
      "source": [
        "### Matrix-matrix multiplication\n",
        "\n",
        "Given two matrices, $A \\in \\mathbb{R}^{n \\times m}$ and $B \\in \\mathbb{R}^{m \\times p}$:\n",
        "\n",
        "$$A=\\begin{bmatrix}\n",
        " a_{11} & a_{12} & \\cdots & a_{1k} \\\\\n",
        " a_{21} & a_{22} & \\cdots & a_{2k} \\\\\n",
        "\\vdots & \\vdots & \\ddots & \\vdots \\\\\n",
        " a_{n1} & a_{n2} & \\cdots & a_{nk} \\\\\n",
        "\\end{bmatrix},\\quad\n",
        "B=\\begin{bmatrix}\n",
        " b_{11} & b_{12} & \\cdots & b_{1m} \\\\\n",
        " b_{21} & b_{22} & \\cdots & b_{2m} \\\\\n",
        "\\vdots & \\vdots & \\ddots & \\vdots \\\\\n",
        " b_{k1} & b_{k2} & \\cdots & b_{km} \\\\\n",
        "\\end{bmatrix}$$"
      ]
    },
    {
      "cell_type": "markdown",
      "metadata": {
        "id": "Sf1RV4AH8w0W"
      },
      "source": [
        "With the matrix-vector multiplication being an extension of the dot-product, we have matrix-matrix multiplication as an extension of the matrix-vector approach.\n",
        "As a result, the matrix-vector multiplication occurs $p$ times. Hence, we have an $m \\times p$ matrix as the final product.\n",
        "\n",
        "**Note:** The number of columns in $\\mathbf{A}$ must be equivalent to the number of rows in $\\mathbf{B}$. \n",
        "\n",
        "$$\\mathbf{A}_{n \\times m} \\mathbf{B}_{m \\times p} = \\begin{bmatrix}\n",
        "\\cdots & \\mathbf{a}^T_{1} & \\cdots  \\\\\n",
        "\\cdots & \\mathbf{a}^T_{2} & \\cdots \\\\\n",
        " & \\vdots &  \\\\\n",
        " \\cdots &\\mathbf{a}^T_m & \\cdots \\\\\n",
        "\\end{bmatrix}_{n \\times m}\n",
        "\\begin{bmatrix}\n",
        "\\vdots & \\vdots &  & \\vdots \\\\\n",
        " \\mathbf{b}_{1} & \\mathbf{b}_{2} & \\cdots & \\mathbf{b}_{p} \\\\\n",
        " \\vdots & \\vdots &  &\\vdots\\\\\n",
        "\\end{bmatrix}_{m \\times p}\n",
        "= \\begin{bmatrix}\n",
        "\\mathbf{a}^T_{1} \\mathbf{b}_1 & \\mathbf{a}^T_{1}\\mathbf{b}_2& \\cdots & \\mathbf{a}^T_{1} \\mathbf{b}_p \\\\\n",
        " \\mathbf{a}^T_{2}\\mathbf{b}_1 & \\mathbf{a}^T_{2} \\mathbf{b}_2 & \\cdots & \\mathbf{a}^T_{2} \\mathbf{b}_p \\\\\n",
        " \\vdots & \\vdots & \\ddots &\\vdots\\\\\n",
        "\\mathbf{a}^T_{m} \\mathbf{b}_1 & \\mathbf{a}^T_{m}\\mathbf{b}_2& \\cdots& \\mathbf{a}^T_{m} \\mathbf{b}_p\n",
        "\\end{bmatrix}_{m \\times p}\n",
        "$$\n",
        "\n",
        "Interesting way of looking at matrix-matrix multiplication no?\n"
      ]
    },
    {
      "cell_type": "markdown",
      "metadata": {
        "id": "xpDkL6mubF2d"
      },
      "source": [
        "As was the case in previous entries, let's take a look at the matrix-matrix multplication by adding a few numbers:\n",
        "\n",
        "\n",
        "$$\n",
        "\\mathbf{A}_{3 \\times 2} = \\begin{bmatrix}\n",
        " \\color{blue}{1} & \\color{blue}{4} \\\\\n",
        " \\color{orange}{2} & \\color{orange}{5} \\\\\n",
        " \\color{green}{3} & \\color{green}{6}  \\\\\n",
        "\\end{bmatrix}_{3 \\times 2},\\quad\\mathbf{B}_{2 \\times 2} = \\begin{bmatrix}\n",
        " \\color{purple}{7} & \\color{RedOrange}{9} \\\\\n",
        " \\color{purple}{8} & \\color{RedOrange}{10} \\\\\n",
        "\\end{bmatrix}_{2 \\times 2}$$\n",
        "\n",
        "Then, the matrix-matrix product would be:\n",
        "$$\\mathbf{A}_{3 \\times 2}\\mathbf{B}_{2 \\times 2}=\n",
        "\\begin{bmatrix}\n",
        " \\color{blue}{1} & \\color{blue}{4} \\\\\n",
        " \\color{orange}{2} & \\color{orange}{5} \\\\\n",
        " \\color{green}{3} & \\color{green}{6}  \\\\\n",
        "\\end{bmatrix}_{3 \\times 2} \\begin{bmatrix}\n",
        " \\color{purple}{7} & \\color{RedOrange}{9} \\\\\n",
        " \\color{purple}{8} & \\color{RedOrange}{10} \\\\\n",
        "\\end{bmatrix}_{2 \\times 2}\n",
        "= \\begin{bmatrix}\n",
        " {\\color{blue}{1}} \\times {\\color{purple}{7}} + {\\color{blue}{4}} \\times {\\color{purple}{8}} & {\\color{blue}{1}} \\times {\\color{RedOrange}{9}} + {\\color{blue}{4}} \\times {\\color{RedOrange}{10}}  \\\\\n",
        " {\\color{orange}{2}} \\times {\\color{purple}{7}} + {\\color{orange}{5}} \\times {\\color{purple}{8}} & {\\color{orange}{2}} \\times {\\color{RedOrange}{9}} + {\\color{orange}{5}} \\times {\\color{RedOrange}{10}} \\\\\n",
        " {\\color{green}{3}} \\times {\\color{purple}{7}} + {\\color{green}{6}} \\times {\\color{purple}{8}} &  {\\color{green}{3}} \\times {\\color{RedOrange}{9}} + {\\color{green}{6}} \\times {\\color{RedOrange}{10}} \\\\\n",
        "\\end{bmatrix}_{3 \\times 2} \n",
        "= \\begin{bmatrix}\n",
        " 39 & 49 \\\\\n",
        " 54 & 68 \\\\\n",
        " 69 & 87 \\\\\n",
        "\\end{bmatrix}_{3 \\times 2} \n",
        "$$"
      ]
    },
    {
      "cell_type": "code",
      "metadata": {
        "ExecuteTime": {
          "end_time": "2019-01-22T06:59:38.003462Z",
          "start_time": "2019-01-22T06:59:37.989098Z"
        },
        "colab": {
          "base_uri": "https://localhost:8080/"
        },
        "id": "jbU7IiGA8w0X",
        "outputId": "6c5b2c28-8e50-4740-9d40-6eb51dc90bc5"
      },
      "source": [
        "# Setup both matrices\n",
        "A = (np.arange(6) + 1).reshape((2, 3)).T\n",
        "B = (np.arange(4) + 7).reshape((2, 2)).T\n",
        "print(f\"A:\\n{A}\\n\")\n",
        "print(f\"B:\\n{B}\\n\")\n",
        "\n",
        "# Perform matrix-vector multiplication with dot\n",
        "matrix_matrix_multiplication = np.dot(A, B)\n",
        "print(f\"Matrix-matrix multiplication of AB: \\n {matrix_matrix_multiplication} \\n\")"
      ],
      "execution_count": null,
      "outputs": [
        {
          "output_type": "stream",
          "text": [
            "A:\n",
            "[[1 4]\n",
            " [2 5]\n",
            " [3 6]]\n",
            "\n",
            "B:\n",
            "[[ 7  9]\n",
            " [ 8 10]]\n",
            "\n",
            "Matrix-matrix multiplication of AB: \n",
            " [[39 49]\n",
            " [54 68]\n",
            " [69 87]] \n",
            "\n"
          ],
          "name": "stdout"
        }
      ]
    },
    {
      "cell_type": "markdown",
      "metadata": {
        "id": "BEM4bPVaXiaH"
      },
      "source": [
        "### Matrix Multiplication Hiccups\n",
        "\n",
        "One common mistake when using NumPy is to perform matrix multiplication using `*` or `@` and `np.matmul(A, B)`. These operators are not performing a matrix multiplication!\n"
      ]
    },
    {
      "cell_type": "markdown",
      "metadata": {
        "id": "SThLICb0jNc8"
      },
      "source": [
        "#### Hadamard product / Element-wise multiplication\n",
        "\n",
        "The `*` operator is performing element-wise multiplication. Element-wise multiplication is known as the \"Hadamard product\". We present a definition of the hadamard product next.\n",
        "\n",
        "Given two matrices $\\mathbf{A}, \\mathbf{B} \\in \\mathbb{R}^{n \\times m}$, we have:\n",
        "\n",
        "$$\\begin{align}\n",
        "(\\mathbf{A} \\circ \\mathbf{B})_{ij} &= (\\mathbf{A} \\odot \\mathbf{B})_{ij} \\\\\n",
        "&= (\\mathbf{A})_{ij} (\\mathbf{B})_{ij} \\\\\n",
        "&=\\begin{bmatrix}\n",
        " a_{11}b_{11} & a_{12}b_{12} & \\cdots & a_{1m}b_{1m} \\\\\n",
        " a_{21}b_{21} & a_{22}b_{22} & \\cdots & a_{2m}b_{2m} \\\\\n",
        "\\vdots & \\vdots & \\ddots & \\vdots \\\\\n",
        " a_{n1}b_{n1} & a_{n2}b_{n1} & \\cdots & a_{nm}b_{nm} \\\\\n",
        "\\end{bmatrix}_{n \\times m}\n",
        "\\end{align}$$"
      ]
    },
    {
      "cell_type": "code",
      "metadata": {
        "colab": {
          "base_uri": "https://localhost:8080/"
        },
        "id": "rHJjbNBSjKAN",
        "outputId": "83bd74f0-f664-4675-9c1e-afcd5596f313"
      },
      "source": [
        "# Setup two matrices\n",
        "A = (np.arange(9) + 1).reshape((3, 3)).T\n",
        "B = (np.arange(9) + 2).reshape((3, 3)).T\n",
        "print(f\"A:\\n{A}\\n\")\n",
        "print(f\"B:\\n{B}\\n\")\n",
        "\n",
        "# Perform element-wise multiplication\n",
        "element_wise_multiplication = A * B\n",
        "\n",
        "print(f\"Element-wise multiplication of A * B:\\n{element_wise_multiplication}\")"
      ],
      "execution_count": null,
      "outputs": [
        {
          "output_type": "stream",
          "text": [
            "A:\n",
            "[[1 4 7]\n",
            " [2 5 8]\n",
            " [3 6 9]]\n",
            "\n",
            "B:\n",
            "[[ 2  5  8]\n",
            " [ 3  6  9]\n",
            " [ 4  7 10]]\n",
            "\n",
            "Element-wise multiplication of A * B:\n",
            "[[ 2 20 56]\n",
            " [ 6 30 72]\n",
            " [12 42 90]]\n"
          ],
          "name": "stdout"
        }
      ]
    },
    {
      "cell_type": "markdown",
      "metadata": {
        "id": "94uECzUojKya"
      },
      "source": [
        "#### Danger: @ and matmul()\n",
        "\n",
        "On the other hand, both `@` and `np.matmul(A, B)` perform a very different matrix multiplication procedure. \n",
        "\n",
        "From [`np.matmul`'s documentation page](https://numpy.org/doc/stable/reference/generated/numpy.matmul.html):\n",
        "\n",
        "> `matmul` differs from `dot` in two important ways.\n",
        "> \n",
        "> - Multiplication by scalars is not allowed, use `*` instead.\n",
        "> - Stacks of matrices are broadcast together as if the matrices were elements,\n",
        ">   respecting the signature `(n,k),(k,m)->(n,m)`\n",
        "\n",
        "The last note emphasizes this function does not behave properly when working with tensors of order 3 or higher. (That is, it should be okay with matrix multiplication, but anything else may be incorrect!)"
      ]
    },
    {
      "cell_type": "code",
      "metadata": {
        "colab": {
          "base_uri": "https://localhost:8080/"
        },
        "id": "drC6mQUCmRrA",
        "outputId": "c56cab0f-504b-4643-dbb6-5ab3c60deb35"
      },
      "source": [
        "a = np.ones([9, 5, 7, 4])\n",
        "c = np.ones([9, 5, 4, 3])\n",
        "print(f\"Matrix-multiplication with `np.dot()` dimensions:\\n{np.dot(a, c).shape}\\n\")\n",
        "print(f\"Matrix-multiplication with `np.matmul()` dimensions:\\n{np.matmul(a, c).shape}\")"
      ],
      "execution_count": null,
      "outputs": [
        {
          "output_type": "stream",
          "text": [
            "Matrix-multiplication with `np.dot()` dimensions:\n",
            "(9, 5, 7, 9, 5, 3)\n",
            "\n",
            "Matrix-multiplication with `np.matmul()` dimensions:\n",
            "(9, 5, 7, 3)\n"
          ],
          "name": "stdout"
        }
      ]
    },
    {
      "cell_type": "markdown",
      "metadata": {
        "id": "a6stXZ_2hBRX"
      },
      "source": [
        "### Broadcasting\n",
        "\n",
        "With the discussion of matrix-products now complete, our attention turns to **Broadcasting** in NumPy. When two objects differ in shape dimension size, NumPy will try to recycle the \"smaller\" object to match the \"larger\" shape dimension. By doing so, NumPy is trying to create compatible shapes for the underlying operation to take place.\n",
        "\n",
        "From [NumPy Help Documentation: Broadcasting](https://numpy.org/doc/stable/user/basics.broadcasting.html):\n",
        "\n",
        "> NumPy compares their shapes element-wise. It starts with the trailing (i.e. rightmost) dimensions and works its way left. Two dimensions are compatible when\n",
        ">\n",
        "> - they are equal, or\n",
        "> - one of them is 1\n"
      ]
    },
    {
      "cell_type": "markdown",
      "metadata": {
        "id": "NA7VjkbZaUIb"
      },
      "source": [
        "![image.png](data:image/png;base64,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)"
      ]
    },
    {
      "cell_type": "markdown",
      "metadata": {
        "id": "9P-b1BX-sHJ8"
      },
      "source": [
        "In the case of a scalar, this means the scalar is replicated out $n$ times to match the length of the vector. "
      ]
    },
    {
      "cell_type": "code",
      "metadata": {
        "colab": {
          "base_uri": "https://localhost:8080/"
        },
        "id": "Jz-Tx3nyroaU",
        "outputId": "e6f354a8-b5c4-422f-f666-79e1796b18e4"
      },
      "source": [
        "a = 2\n",
        "x = np.array([1, 2, 3])\n",
        "print(f\"a*x: {a*x}\")"
      ],
      "execution_count": null,
      "outputs": [
        {
          "output_type": "stream",
          "text": [
            "a*x: [2 4 6]\n"
          ],
          "name": "stdout"
        }
      ]
    },
    {
      "cell_type": "markdown",
      "metadata": {
        "id": "tcl5EMrwsN2r"
      },
      "source": [
        "Another example would be applying a vector across a matrix."
      ]
    },
    {
      "cell_type": "code",
      "metadata": {
        "colab": {
          "base_uri": "https://localhost:8080/"
        },
        "id": "7HKJDnLzshYB",
        "outputId": "90675644-23dc-4416-fc4e-9bcf11c94253"
      },
      "source": [
        "A = np.array(\n",
        "    [\n",
        "     [1, 2, 3],\n",
        "     [4, 5, 6],\n",
        "     [7, 8, 9]\n",
        "    ]\n",
        ")\n",
        "x = np.array([10, 11, 12])\n",
        "\n",
        "print(f\"A: \\n{A}\\n\")\n",
        "print(f\"x: \\n{x}\\n\")\n",
        "print(f\"A*x: \\n{A*x}\")"
      ],
      "execution_count": null,
      "outputs": [
        {
          "output_type": "stream",
          "text": [
            "A: \n",
            "[[1 2 3]\n",
            " [4 5 6]\n",
            " [7 8 9]]\n",
            "\n",
            "x: \n",
            "[10 11 12]\n",
            "\n",
            "A*x: \n",
            "[[ 10  22  36]\n",
            " [ 40  55  72]\n",
            " [ 70  88 108]]\n"
          ],
          "name": "stdout"
        }
      ]
    },
    {
      "cell_type": "markdown",
      "metadata": {
        "id": "rkZQebvNsuT9"
      },
      "source": [
        "Lastly, we finish with an example that will trigger an error because the smaller shape cannot be broadcast to match the larger shape."
      ]
    },
    {
      "cell_type": "code",
      "metadata": {
        "colab": {
          "base_uri": "https://localhost:8080/",
          "height": 218
        },
        "id": "Orie9YFIsh-x",
        "outputId": "8e734f0b-783f-4dd3-920e-dadb63d03329"
      },
      "source": [
        "A = np.array(\n",
        "  [\n",
        "    [1, 2, 3],\n",
        "    [4, 5, 6]\n",
        "  ]\n",
        ")\n",
        "b = np.array([7, 8])\n",
        "\n",
        "A*b\n",
        "# operands could not be broadcast together with shapes (2,3) (2,) "
      ],
      "execution_count": null,
      "outputs": [
        {
          "output_type": "error",
          "ename": "ValueError",
          "evalue": "ignored",
          "traceback": [
            "\u001b[0;31m---------------------------------------------------------------------------\u001b[0m",
            "\u001b[0;31mValueError\u001b[0m                                Traceback (most recent call last)",
            "\u001b[0;32m<ipython-input-39-e1fd138f51f5>\u001b[0m in \u001b[0;36m<module>\u001b[0;34m()\u001b[0m\n\u001b[1;32m      7\u001b[0m \u001b[0mb\u001b[0m \u001b[0;34m=\u001b[0m \u001b[0mnp\u001b[0m\u001b[0;34m.\u001b[0m\u001b[0marray\u001b[0m\u001b[0;34m(\u001b[0m\u001b[0;34m[\u001b[0m\u001b[0;36m7\u001b[0m\u001b[0;34m,\u001b[0m \u001b[0;36m8\u001b[0m\u001b[0;34m]\u001b[0m\u001b[0;34m)\u001b[0m\u001b[0;34m\u001b[0m\u001b[0;34m\u001b[0m\u001b[0m\n\u001b[1;32m      8\u001b[0m \u001b[0;34m\u001b[0m\u001b[0m\n\u001b[0;32m----> 9\u001b[0;31m \u001b[0mA\u001b[0m\u001b[0;34m*\u001b[0m\u001b[0mb\u001b[0m\u001b[0;34m\u001b[0m\u001b[0;34m\u001b[0m\u001b[0m\n\u001b[0m\u001b[1;32m     10\u001b[0m \u001b[0;31m# operands could not be broadcast together with shapes (2,3) (2,)\u001b[0m\u001b[0;34m\u001b[0m\u001b[0;34m\u001b[0m\u001b[0;34m\u001b[0m\u001b[0m\n",
            "\u001b[0;31mValueError\u001b[0m: operands could not be broadcast together with shapes (2,3) (2,) "
          ]
        }
      ]
    },
    {
      "cell_type": "markdown",
      "metadata": {
        "id": "T8RhAB9Is-jL"
      },
      "source": [
        "We can ensure the broadcast occurs by adding a second dimension to `b`."
      ]
    },
    {
      "cell_type": "code",
      "metadata": {
        "colab": {
          "base_uri": "https://localhost:8080/"
        },
        "id": "3Y9DTxHSs6YC",
        "outputId": "501ee419-602e-44b7-f30f-22ed0f9d619a"
      },
      "source": [
        "b = np.array([7, 8]).reshape((2,1))\n",
        "\n",
        "A*b"
      ],
      "execution_count": null,
      "outputs": [
        {
          "output_type": "execute_result",
          "data": {
            "text/plain": [
              "array([[ 7, 14, 21],\n",
              "       [32, 40, 48]])"
            ]
          },
          "metadata": {
            "tags": []
          },
          "execution_count": 40
        }
      ]
    },
    {
      "cell_type": "markdown",
      "metadata": {
        "id": "iTBlCm4J8w0R"
      },
      "source": [
        "## Tensors\n",
        "\n",
        "Tensors represent a generic $p$-Dimensional object. If $p = 3$, the tensor would be called a cube that had (height, width, depth). In the context of Deep Learning, cubes would be used to hold the data for a _single_ **color** image's data. Color images are encoded under a Red-Green-Blue (RGB) dimensional scheme.\n",
        "\n",
        "If $p = 4$, then it would be called a **tesseract** or **4-dimensional hypercube**. However, as dimensionality increases, e.g. $p \\rightarrow \\infty$ , it quickly becomes easier to call it a $p$-dimensional object or tensor of order $p$."
      ]
    },
    {
      "cell_type": "markdown",
      "metadata": {
        "id": "2WkPuVhypJs9"
      },
      "source": [
        "### Cube: $3$-dimensional object\n",
        "\n",
        "For the first $p$-dimensional object, let's construct a cube or 3-dimensional tensor that has a depth of 4, height of 2, width of 3 or $4 \\times 2 \\times 3$. Unlike in other languages, NumPy places the \"depth\" before the height and width. Let's define each matrix inside of the cube prior to construction as:\n",
        "\n",
        "$$\\begin{align}\n",
        "\\mathbf{O}_{0, i, j} = \\mathbf{W}_{2 \\times 3} &= \\lbordermatrix{0 & 1 & 2}{0 \\\\ 1}{\n",
        "  \\begin{bmatrix} \n",
        "   \\color{blue}{1} & \\color{orange}{3} & \\color{yellow}{5} \\\\\n",
        "   \\color{pink}{2} & \\color{red}{4} & \\color{green}{6} \\\\\n",
        "  \\end{bmatrix}\n",
        "}_{2 \\times 3} \\\\\n",
        "\\mathbf{O}_{1, i, j} = \\mathbf{X}_{2 \\times 3} &= \\lbordermatrix{0 & 1 & 2}{0 \\\\ 1}{\n",
        "  \\begin{bmatrix} \n",
        "   \\color{blue}{7} & \\color{orange}{8} & \\color{yellow}{9} \\\\\n",
        "   \\color{pink}{10} & \\color{red}{11} & \\color{green}{12} \\\\\n",
        "  \\end{bmatrix}\n",
        "}_{2 \\times 3} \\\\\n",
        "\\mathbf{O}_{2, i, j} = \\mathbf{Y}_{2 \\times 3} &= \\lbordermatrix{0 & 1 & 2}{0 \\\\ 1}{\n",
        "  \\begin{bmatrix} \n",
        "   \\color{blue}{13} & \\color{orange}{14} & \\color{yellow}{15} \\\\\n",
        "   \\color{pink}{16} & \\color{red}{17} & \\color{green}{18} \\\\\n",
        "  \\end{bmatrix}\n",
        "}_{2 \\times 3} \\\\\n",
        "\\mathbf{O}_{3, i, j} = \\mathbf{Z}_{2 \\times 3} &= \\lbordermatrix{0 & 1 & 2}{0 \\\\ 1}{\n",
        "  \\begin{bmatrix} \n",
        "   \\color{blue}{19} & \\color{orange}{20} & \\color{yellow}{21} \\\\\n",
        "   \\color{pink}{22} & \\color{red}{23} & \\color{green}{24} \\\\\n",
        "  \\end{bmatrix}\n",
        "}_{2 \\times 3} \\\\\n",
        "\\end{align}$$\n",
        "\n",
        "Notice, we're storing a matrix within each \"slice\" of the cube.\n"
      ]
    },
    {
      "cell_type": "code",
      "metadata": {
        "ExecuteTime": {
          "end_time": "2019-01-22T06:59:37.880386Z",
          "start_time": "2019-01-22T06:59:37.869406Z"
        },
        "colab": {
          "base_uri": "https://localhost:8080/"
        },
        "id": "cDkocdDO8w0R",
        "outputId": "01d66ced-d9d4-4260-d198-d2cdfc4edf57"
      },
      "source": [
        "# Individually construct matrices\n",
        "W = np.array(\n",
        "    [[1, 2, 3], [4, 5, 6]]\n",
        ")\n",
        "X = np.array(\n",
        "    [[7, 8, 9], [10, 11, 12]]\n",
        ")\n",
        "Y = np.array(\n",
        "    [[13, 14, 15], [16, 17, 18]]\n",
        ")\n",
        "Z = np.array(\n",
        "    [[19, 20, 21], [22, 23, 24]]\n",
        ")\n",
        "\n",
        "# Combine matrices into cube\n",
        "O = np.array(\n",
        "    [\n",
        "     W, # Matrix 2 x 3\n",
        "     X, # Matrix 2 x 3\n",
        "     Y, # Matrix 2 x 3\n",
        "     Z, # Matrix 2 x 3\n",
        "    ]\n",
        "  )\n",
        "\n",
        "# Another approach is to use stack\n",
        "O_stacked = np.stack([W, X, Y, Z])\n",
        "\n",
        "# Alternatively, the matrices can be directly embedded\n",
        "O_inline = np.array(\n",
        "    [\n",
        "      [[1, 2, 3], [4, 5, 6]],       # Matrix 2 x 3\n",
        "      [[7, 8, 9], [10, 11, 12]],    # Matrix 2 x 3\n",
        "      [[13, 14, 15], [16, 17, 18]], # Matrix 2 x 3\n",
        "      [[19, 20, 21], [22, 23, 24]]  # Matrix 2 x 3\n",
        "    ]\n",
        "  )\n",
        "\n",
        "print(f\"X.shape: {X.shape}\")\n",
        "print(f\"X: \\n {X} \\n\")\n",
        "\n",
        "print(f\"Y.shape: {Y.shape}\")\n",
        "print(f\"Y: \\n {Y} \\n\")\n",
        "\n",
        "print(f\"Z.shape: {Z.shape}\")\n",
        "print(f\"Z: \\n {Z} \\n\")\n",
        "\n",
        "print(f\"O.shape: {O.shape}\")\n",
        "print(f\"O: \\n {O}\")"
      ],
      "execution_count": null,
      "outputs": [
        {
          "output_type": "stream",
          "text": [
            "X.shape: (2, 3)\n",
            "X: \n",
            " [[ 7  8  9]\n",
            " [10 11 12]] \n",
            "\n",
            "Y.shape: (2, 3)\n",
            "Y: \n",
            " [[13 14 15]\n",
            " [16 17 18]] \n",
            "\n",
            "Z.shape: (2, 3)\n",
            "Z: \n",
            " [[19 20 21]\n",
            " [22 23 24]] \n",
            "\n",
            "O.shape: (4, 2, 3)\n",
            "O: \n",
            " [[[ 1  2  3]\n",
            "  [ 4  5  6]]\n",
            "\n",
            " [[ 7  8  9]\n",
            "  [10 11 12]]\n",
            "\n",
            " [[13 14 15]\n",
            "  [16 17 18]]\n",
            "\n",
            " [[19 20 21]\n",
            "  [22 23 24]]]\n"
          ],
          "name": "stdout"
        }
      ]
    },
    {
      "cell_type": "markdown",
      "metadata": {
        "id": "AUlsbPUP8w0S"
      },
      "source": [
        "### Tensor Arithmetic\n",
        "\n",
        "For any two tensors $X$ and $Y$ with the same shape, we can perform the \"AXPY\" operation, $\\alpha X + Y$, and receive a tensor of a similar shape."
      ]
    },
    {
      "cell_type": "code",
      "metadata": {
        "ExecuteTime": {
          "end_time": "2019-01-22T06:59:37.896390Z",
          "start_time": "2019-01-22T06:59:37.883657Z"
        },
        "id": "ro1tQIXz8w0S",
        "colab": {
          "base_uri": "https://localhost:8080/"
        },
        "outputId": "6f00a5e2-5a33-4fbd-a1dd-f2d81ddab17c"
      },
      "source": [
        "a = -3\n",
        "x = np.ones(4)\n",
        "y = np.arange(4)\n",
        "\n",
        "ax = a * x\n",
        "ax_y = a * x + y\n",
        "\n",
        "print(f\"Shape of x: {x.shape}\")\n",
        "print(f\"Shape of y: {y.shape}\")\n",
        "print(f\"Shape of ax: {ax.shape} \\n Contents of ax: \\n {ax}\")\n",
        "print(f\"Shape of ax_y: {ax_y.shape} \\n Contents of ax_y: \\n {ax_y}\")"
      ],
      "execution_count": null,
      "outputs": [
        {
          "output_type": "stream",
          "text": [
            "Shape of x: (4,)\n",
            "Shape of y: (4,)\n",
            "Shape of ax: (4,) \n",
            " Contents of ax: \n",
            " [-3. -3. -3. -3.]\n",
            "Shape of ax_y: (4,) \n",
            " Contents of ax_y: \n",
            " [-3. -2. -1.  0.]\n"
          ],
          "name": "stdout"
        }
      ]
    },
    {
      "cell_type": "markdown",
      "metadata": {
        "id": "sPmK3WqV8w0S"
      },
      "source": [
        "## Functions for Tensors Across Axes\n",
        "\n",
        "Two operations that are useful are summations ($\\sum$) and products ($\\Pi$). Both provide a view into values held within a tensor. By default, either operation will be performed across all elements or \"all axes\". Axes in this context refers to the dimension a tensor has. In the case of a 2-dimensional tensor or matrix, we would have:\n",
        "\n",
        "- **Summation across all elements**\n",
        "\n",
        "$$\n",
        "\\sum_{i=0}^{n-1}\\sum_{j=0}^{m-1} a_{i,j} = a_{0,0} + a_{0,1} + \\cdots + a_{n-1, m-1}\n",
        "$$\n",
        "\n",
        "- **Multiplication across all elements**\n",
        "\n",
        "$$\n",
        "\\Pi_{i=0}^{n-1}\\Pi_{j=0}^{m-1} a_{i,j} = a_{0,0} \\times a_{0,1} \\times \\cdots \\times a_{n-1,m-1}\n",
        "$$\n",
        "\n",
        "As a practical example, we would have:\n",
        "\n",
        "$$\n",
        "\\mathbf{A}_{2 \\times 2} = \\lbordermatrix{0 & 1}{0 \\\\ 1}{\n",
        "  \\begin{bmatrix} \n",
        "   \\color{blue}{1} & \\color{orange}{3} \\\\\n",
        "   \\color{pink}{2} & \\color{red}{4} \\\\\n",
        "  \\end{bmatrix}\n",
        "}_{2 \\times 2}\n",
        "$$\n",
        "\n",
        "$$\n",
        "\\begin{align}\n",
        "\\sum_{i=0}^{n-1}\\sum_{j=0}^{m-1} a_{i,j} &= {\\color{blue}{1}} + {\\color{orange}{3}} + {\\color{pink}{2}} + {\\color{red}{4}} = 10 \\\\\n",
        "\\Pi_{i=0}^{n-1}\\Pi_{j=0}^{m-1} a_{i,j} &= {\\color{blue}{1}} \\times {\\color{orange}{3}} \\times {\\color{pink}{2}} \\times {\\color{red}{4}} = 24\n",
        "\\end{align}\n",
        "$$\n",
        "\n"
      ]
    },
    {
      "cell_type": "code",
      "metadata": {
        "ExecuteTime": {
          "end_time": "2019-01-22T06:59:37.911193Z",
          "start_time": "2019-01-22T06:59:37.899472Z"
        },
        "colab": {
          "base_uri": "https://localhost:8080/"
        },
        "id": "meQjKztg8w0S",
        "outputId": "368c8aa5-53bb-40dc-9dea-5c0a0d992930"
      },
      "source": [
        "# Construct data\n",
        "A = (np.arange(4)+1).reshape((2,2))\n",
        "print(f\"A = \\n{A}\\n\")\n",
        "\n",
        "# Calculate in an element-wise fashion\n",
        "sum_A = np.sum(A)\n",
        "prod_A = np.prod(A)\n",
        "\n",
        "# See results\n",
        "print(f\"Sum of A = {sum_A}, Product of A = {prod_A}\")"
      ],
      "execution_count": null,
      "outputs": [
        {
          "output_type": "stream",
          "text": [
            "A = \n",
            "[[1 2]\n",
            " [3 4]]\n",
            "\n",
            "Sum of A = 10, Product of A = 24\n"
          ],
          "name": "stdout"
        }
      ]
    },
    {
      "cell_type": "markdown",
      "metadata": {
        "id": "YcBE4-STrezG"
      },
      "source": [
        "The summation could also be converted quickly to an average of the matrix by dividing the summation with the total number of elements. \n",
        "\n",
        "$$\\operatorname{mean}(\\mathbf{A}) = \\frac{1}{nm}\\sum_{i=0}^{n-1}\\sum_{j=0}^{m-1} a_{i,j} = \\frac{1}{2\\cdot2}\\left( {\\color{blue}{1}} + {\\color{orange}{3}} + {\\color{pink}{2}} + {\\color{red}{4}} \\right) = \\frac{10}{4} = 2.5$$\n"
      ]
    },
    {
      "cell_type": "code",
      "metadata": {
        "colab": {
          "base_uri": "https://localhost:8080/"
        },
        "id": "8t6J2fnErn7t",
        "outputId": "8415a23d-75f9-492e-c566-9ef7eb429458"
      },
      "source": [
        "A = (np.arange(4)+1).reshape((2,2))\n",
        "print(f\"A: \\n{A}\\n\")\n",
        "\n",
        "n_elements_A = A.size\n",
        "print(f\"Number of Elements in A: {n_elements_A}\\n\")\n",
        "\n",
        "mean_A = np.mean(A)\n",
        "mean_by_sum_A = np.sum(A) / A.size\n",
        "\n",
        "print(f\"Mean of A: {mean_A}\")\n",
        "print(f\"Mean of A by sum and elements: {mean_by_sum_A}\")"
      ],
      "execution_count": null,
      "outputs": [
        {
          "output_type": "stream",
          "text": [
            "A: \n",
            "[[1 2]\n",
            " [3 4]]\n",
            "\n",
            "Number of Elements in A: 4\n",
            "\n",
            "Mean of A: 2.5\n",
            "Mean of A by sum and elements: 2.5\n"
          ],
          "name": "stdout"
        }
      ]
    },
    {
      "cell_type": "markdown",
      "metadata": {
        "id": "ZaV-8_Fp8w0T"
      },
      "source": [
        "## Axes-specific Operations \n",
        "\n",
        "Alternatively, we can choose to only look at specific dimensions by iterating over the axis associated with it. The most common axis operations are row-wise (`axis = 0`) and column-wise (`axis = 1`) summations.\n",
        "\n",
        "Let's define two operators for retrieving values in either a column or row-wise manner from the Matrix.\n",
        "\n",
        "- Row $i$ of matrix $\\mathbf{A}_{n \\times m}$ is denoted by either $\\operatorname{row}_{i}\\left(\\mathbf{A}\\right)$ or $ \\mathbf{A}_{i,*}$ such that: \n",
        "\n",
        "$$\\mathbf{A}_{i,*} = [a_{i1}\\>a_{i2}\\>\\ldots \\>a_{im}]$$\n",
        "\n",
        "- Column $j$ of matrix $\\mathbf{A}_{n \\times m}$ is denoted by either $\\operatorname{col}_{j}\\left(\\mathbf{A}\\right)$ or $ \\mathbf{A}_{*,j}$ such that:\n",
        "\n",
        "$$\\mathbf{A}_{*,j} = \\left[\\matrix{a_{1j}\\cr a_{2j}\\cr\\vdots\\cr a_{nj}\\cr}\\right]\\ .$$\n",
        "\n",
        "\n"
      ]
    },
    {
      "cell_type": "markdown",
      "metadata": {
        "id": "wXmejL2y2f4v"
      },
      "source": [
        "When talking about **row-wise** operations, we're describing action on **all rows** for **each column**.\n",
        "\n",
        "$$\n",
        "\\mathbf{A}_{4 \\times 4} = \\lbordermatrix{\n",
        "    % Columns\n",
        "    \\highlightcolor{lightblue}{0}\\hphantom{{0}} & \n",
        "    \\highlightcolor{orange}{1}   \\hphantom{{0}} & \n",
        "    \\highlightcolor{lightgrey}{2}\\hphantom{{0}} & \n",
        "    \\highlightcolor{pink}{3}     \\hphantom{{0}}\n",
        "  }{\n",
        "    % rows\n",
        "    0 \\\\ 1 \\\\ 2 \\\\ 3\n",
        "  }{\n",
        "  \\begin{bmatrix} \n",
        "   \\highlightcolor{lightblue}{a_{00}} & \\highlightcolor{orange}{a_{01}} & \\highlightcolor{lightgrey}{a_{02}} & \\highlightcolor{pink}{a_{03}} \\\\\n",
        "   \\highlightcolor{lightblue}{a_{10}} & \\highlightcolor{orange}{a_{11}} & \\highlightcolor{lightgrey}{a_{12}} & \\highlightcolor{pink}{a_{13}} \\\\ \n",
        "   \\highlightcolor{lightblue}{a_{20}} & \\highlightcolor{orange}{a_{21}} & \\highlightcolor{lightgrey}{a_{22}} & \\highlightcolor{pink}{a_{23}} \\\\\n",
        "   \\highlightcolor{lightblue}{a_{30}} & \\highlightcolor{orange}{a_{31}} & \\highlightcolor{lightgrey}{a_{32}} & \\highlightcolor{pink}{a_{33}} \n",
        "  \\end{bmatrix}\n",
        "}_{4 \\times 4}\n",
        "$$\n",
        "\n"
      ]
    },
    {
      "cell_type": "markdown",
      "metadata": {
        "id": "jl2qINf-WodH"
      },
      "source": [
        "If we were to take a row-wise summation, we would get: \n",
        "\n",
        "$$\n",
        "\\begin{align}\n",
        "c_j &= \\sum_{i=0}^{n-1} \\operatorname{col}_{j}(A) \\\\\n",
        "&= \\sum_{i=0}^{n-1} a_{i,j} = \n",
        "a_{0,j} + a_{1, j} + \\cdots + a_{n-1, j} \\\\\n",
        "&= \\lbordermatrix{\n",
        "    % Columns\n",
        "    \\hphantom{0}\\highlightcolor{lightblue}{j = 0}\\hphantom{000000} & \n",
        "    \\hphantom{000000}\\highlightcolor{orange}{j = 1}   \\hphantom{00000} & \n",
        "    \\hphantom{000000}\\highlightcolor{lightgrey}{j = 2}\\hphantom{00000} & \n",
        "    \\hphantom{00000000}\\highlightcolor{pink}{j = 3}     \\hphantom{0}\n",
        "  }{\n",
        "    % rows\n",
        "    0 \n",
        "  }{\n",
        "  \\begin{bmatrix} \n",
        "   \\highlightcolor{lightblue}{a_{00} + a_{10} + a_{30} + a_{30}} & \\highlightcolor{orange}{a_{01} + a_{11} + a_{21} + a_{31}} & \\highlightcolor{lightgrey}{a_{02} + a_{12} + a_{22} + a_{32}} & \\highlightcolor{pink}{a_{03} + a_{13} + a_{23} + a_{33}} \\\\\n",
        "  \\end{bmatrix}\n",
        "}_{1 \\times 4}\n",
        "\\end{align}\n",
        "$$"
      ]
    },
    {
      "cell_type": "markdown",
      "metadata": {
        "id": "8CMNB_uxWaBh"
      },
      "source": [
        "\n",
        "\n",
        "For **column-wise** operations, the action takes place on **all columns** for **each row**. \n",
        "\n",
        "$$\n",
        "\\mathbf{A}_{4 \\times 4} = \\lbordermatrix{\n",
        "  % columns\n",
        "  0\\hphantom{{00}} & \n",
        "  \\hphantom{{0}}1 & \n",
        "  \\hphantom{{00}}2\\hphantom{{0}} & \n",
        "  \\hphantom{{0}}3\\hphantom{{0}}\n",
        "  }{\n",
        "    % rows\n",
        "    \\highlightcolor{Orchid}{0} \\\\\n",
        "    \\highlightcolor{Goldenrod}{1} \\\\ \n",
        "    \\highlightcolor{Melon}{2} \\\\ \n",
        "    \\highlightcolor{Aquamarine}{3}}{\n",
        "  % Annotated matrix\n",
        "  \\begin{bmatrix} \n",
        "   \\highlightcolor{Orchid}{a_{00}} & \\highlightcolor{Orchid}{a_{01}} & \\highlightcolor{Orchid}{a_{02}} & \\highlightcolor{Orchid}{a_{03}} \\\\\n",
        "   \\highlightcolor{Goldenrod}{a_{10}} & \\highlightcolor{Goldenrod}{a_{11}} & \\highlightcolor{Goldenrod}{a_{12}} & \\highlightcolor{Goldenrod}{a_{13}} \\\\ \n",
        "   \\highlightcolor{Melon}{a_{20}} & \\highlightcolor{Melon}{a_{21}} & \\highlightcolor{Melon}{a_{22}} & \\highlightcolor{Melon}{a_{23}} \\\\\n",
        "   \\highlightcolor{Aquamarine}{a_{30}} & \\highlightcolor{Aquamarine}{a_{31}} & \\highlightcolor{Aquamarine}{a_{32}} & \\highlightcolor{Aquamarine}{a_{33}} \n",
        "  \\end{bmatrix}\n",
        "}_{4 \\times 4}\n",
        "$$"
      ]
    },
    {
      "cell_type": "markdown",
      "metadata": {
        "id": "xhHVhS1SWkW1"
      },
      "source": [
        "If we were to take a **column-wise** summation, we would get: \n",
        "\n",
        "$$\n",
        "\\begin{align}\n",
        "r_i &= \\sum_{j=0}^{m-1} \\operatorname{row}_{i}(A) \\\\\n",
        "&= \\sum_{j=0}^{m-1} a_{i,j} = \n",
        "a_{i,0} + a_{i, 1} + \\cdots + a_{i, m-1} \\\\\n",
        "&= \\lbordermatrix{\n",
        "    % Columns\n",
        "    0\n",
        "  }{\n",
        "    % rows\n",
        "    \\highlightcolor{Orchid}{j = 0} \\\\\n",
        "    \\highlightcolor{Goldenrod}{j = 1}    \\\\\n",
        "    \\highlightcolor{Melon}{j = 2} \\\\\n",
        "    \\highlightcolor{Aquamarine}{j = 3}   \n",
        "  }{\n",
        "  \\begin{bmatrix} \n",
        "   \\highlightcolor{Orchid}{a_{00} + a_{01} + a_{02} + a_{03}} \\\\\n",
        "   \\highlightcolor{Goldenrod}{a_{10} + a_{11} + a_{12} + a_{13}} \\\\\n",
        "   \\highlightcolor{Melon}{a_{20} + a_{21} + a_{22} + a_{23}} \\\\\n",
        "   \\highlightcolor{Aquamarine}{a_{30} + a_{31} + a_{32} + a_{33}} \n",
        "  \\end{bmatrix}\n",
        "}_{4 \\times 1}\n",
        "\\end{align}\n",
        "$$"
      ]
    },
    {
      "cell_type": "markdown",
      "metadata": {
        "id": "OwEAIv3F3PZA"
      },
      "source": [
        "\n",
        "For an example of row and column-wise summation, let's examine the following matrix:\n",
        "\n",
        "$$\n",
        "\\mathbf{A}_{3 \\times 2} = \\lbordermatrix{0 & 1}{0 \\\\ 1 \\\\ 2}{\n",
        "  \\begin{bmatrix} \n",
        "   1 & 2 \\\\\n",
        "   3 & 4 \\\\\n",
        "   5 & 6 \\\\\n",
        "  \\end{bmatrix}\n",
        "}_{3 \\times 2}$$\n",
        "\n",
        "If we perform a **row-wise** summation, this would give the total value for **each column**: \n",
        "\n",
        "$$\n",
        " \\mathbf{A}_{3 \\times 2} = \\lbordermatrix{\\highlightcolor{lightblue}{0} & \\highlightcolor{orange}{1}}{0 \\\\ 1 \\\\ 2}{\n",
        "  \\begin{bmatrix} \n",
        "   \\highlightcolor{lightblue}{1} & \\highlightcolor{orange}{2} \\\\\n",
        "   \\highlightcolor{lightblue}{3} & \\highlightcolor{orange}{4} \\\\\n",
        "   \\highlightcolor{lightblue}{5} & \\highlightcolor{orange}{6} \\\\\n",
        "  \\end{bmatrix}\n",
        "}_{3 \\times 2}$$\n",
        "\n",
        "$$\n",
        "\\begin{align}\n",
        "c_0 &= \\sum_{i=0}^{n-1} \\operatorname{col}_{0}(\\mathbf{A}) = 1 + 3 + 5 = \\highlightcolor{lightblue}{9}\\\\\n",
        "c_1 &= \\sum_{i=0}^{n-1} \\operatorname{col}_{1}(\\mathbf{A}) = 2 + 4 + 6 = \\highlightcolor{orange}{12}\\\\\n",
        "\\end{align}\n",
        "$$\n",
        "\n",
        "If we perform a **column-wise** summation, this would give the total value for **each row**: \n",
        "\n",
        "$$\n",
        " \\mathbf{A}_{3 \\times 2} = \\lbordermatrix{0 & 1}{\n",
        "   \\highlightcolor{Orchid}{0} \\\\ \n",
        "   \\highlightcolor{Goldenrod}{1} \\\\\n",
        "   \\highlightcolor{Melon}{2}\n",
        "  }{\n",
        "  \\begin{bmatrix} \n",
        "   \\highlightcolor{Orchid}{1} & \\highlightcolor{Orchid}{2} \\\\\n",
        "   \\highlightcolor{Goldenrod}{3} & \\highlightcolor{Goldenrod}{4} \\\\\n",
        "   \\highlightcolor{Melon}{5} & \\highlightcolor{Melon}{6} \\\\\n",
        "  \\end{bmatrix}\n",
        "}_{3 \\times 2}$$\n",
        "\n",
        "$$\n",
        "\\begin{align}\n",
        "r_0 &= \\sum_{j=0}^{m-1} \\operatorname{row}_{0}(\\mathbf{A}) = 1 + 2 = \\highlightcolor{Orchid}{9}\\\\\n",
        "r_1 &= \\sum_{j=0}^{m-1} \\operatorname{row}_{1}(\\mathbf{A}) = 3 + 4 = \\highlightcolor{Goldenrod}{7}\\\\\n",
        "r_2 &= \\sum_{j=0}^{m-1} \\operatorname{row}_{1}(\\mathbf{A}) = 5 + 6 = \\highlightcolor{Melon}{11}\\\\\n",
        "\\end{align}\n",
        "$$"
      ]
    },
    {
      "cell_type": "code",
      "metadata": {
        "ExecuteTime": {
          "end_time": "2019-01-22T06:59:37.922313Z",
          "start_time": "2019-01-22T06:59:37.914364Z"
        },
        "colab": {
          "base_uri": "https://localhost:8080/"
        },
        "id": "-8mRZ8Ox8w0T",
        "outputId": "0484c15e-b1e1-4750-e45d-7cedfd6725db"
      },
      "source": [
        "A = (np.arange(6)+1).reshape((3,2))\n",
        "print(f\"A: \\n{A}\\n\")\n",
        "\n",
        "A_col_sum = np.sum(A, axis = 0)\n",
        "print(f\"Column sum of A is A_{{:, j}}\\n{A_col_sum}\\n\")\n",
        "\n",
        "A_row_sum = np.sum(A, axis = 1)\n",
        "print(f\"Row sum of A is A_{{i, :}}\\n{A_row_sum.reshape((3,1))}\\n\")\n",
        "\n",
        "A_row_column_sum = np.sum(A, axis = (0, 1))\n",
        "print(f\"Across Row and Column sums of A is A_{{:, :}}\\n{A_row_column_sum}\")"
      ],
      "execution_count": null,
      "outputs": [
        {
          "output_type": "stream",
          "text": [
            "A: \n",
            "[[1 2]\n",
            " [3 4]\n",
            " [5 6]]\n",
            "\n",
            "Column sum of A is A_{:, j}\n",
            "[ 9 12]\n",
            "\n",
            "Row sum of A is A_{i, :}\n",
            "[[ 3]\n",
            " [ 7]\n",
            " [11]]\n",
            "\n",
            "Across Row and Column sums of A is A_{:, :}\n",
            "21\n"
          ],
          "name": "stdout"
        }
      ]
    },
    {
      "cell_type": "markdown",
      "metadata": {
        "id": "-R8G1mnzBAaR"
      },
      "source": [
        "One point of interest is what happens when summing across both Row and Column \n",
        "values. "
      ]
    },
    {
      "cell_type": "code",
      "metadata": {
        "colab": {
          "base_uri": "https://localhost:8080/"
        },
        "id": "XkFHHzlZBbMH",
        "outputId": "33683bf0-45af-4ed5-f9d2-22930ae41d96"
      },
      "source": [
        "A_sum = np.sum(A)\n",
        "print(f\"Sum of A is A_{{:, :}}\\n{A_sum}\")\n",
        "\n",
        "A_row_column_sum = np.sum(A, axis = (0, 1))\n",
        "print(f\"Across Row and Column sums of A is A_{{:, :}}\\n{A_row_column_sum}\")"
      ],
      "execution_count": null,
      "outputs": [
        {
          "output_type": "stream",
          "text": [
            "Sum of A is A_{:, :}\n",
            "21\n",
            "Across Row and Column sums of A is A_{:, :}\n",
            "21\n"
          ],
          "name": "stdout"
        }
      ]
    },
    {
      "cell_type": "markdown",
      "metadata": {
        "id": "L3HaMA-B8w0X"
      },
      "source": [
        "## Norms\n",
        "\n",
        "\n",
        "Norms are ways of measuring how large a matrices elements are. Usually, norms are used when comparing an estimated value with a true value. Consider the $p$-norm or $\\ell_p$ of a vector $\\mathbf{x}$ given as \n",
        "$$\\lVert \\mathbf{x}\\rVert_p = \\left({\\sum_{i=1}^{n} \\lvert{ x_i^p}\\rvert} \\right)^{1/p} = \\left({ \\lvert{ x_1^p}\\rvert + \\lvert{ x_2^p}\\rvert + \\cdots + \\lvert{ x_n^p}\\rvert }\\right)^{1/p},$$\n",
        "\n",
        "where $p$ is a real number such that $p \\ge 1$, $x_i$ refers to the $i$th location in vector $x$, and $\\lvert x_i \\rvert$ is absolute value of $x$ at element $i$.\n",
        "\n",
        "In the case of the $\\ell_1$ and $\\ell_2$ norms, we have:\n",
        "\n",
        "$$\\begin{align}\n",
        "\\lVert \\mathbf{x}\\rVert_1 &= \\sum_{i=1}^{n} \\lvert{ x_i^p}\\rvert = \\left({ \\lvert{ x_1}\\rvert + \\lvert{ x_2}\\rvert + \\cdots + \\lvert{ x_n}\\rvert }\\right) \\\\\n",
        "\\lVert \\mathbf{x}\\rVert_2 &= \\left({\\sum_{i=1}^{n} \\lvert{ x_i^2}\\rvert} \\right)^{1/2} = \\left({ \\lvert{ x_1^2}\\rvert + \\lvert{ x_2^2}\\rvert + \\cdots + \\lvert{ x_n^2}\\rvert }\\right)^{1/2} = \\sqrt{ \\lvert{ x_1^2}\\rvert + \\lvert{ x_2^2}\\rvert + \\cdots + \\lvert{ x_n^2}\\rvert }\n",
        "\\end{align}$$\n"
      ]
    },
    {
      "cell_type": "markdown",
      "metadata": {
        "id": "LRcheosjuMaW"
      },
      "source": [
        "### Calculating a Norm\n",
        "\n",
        "Norms can be calculated using built-in NumPy functions or by writing custom expressions. In particular, the $\\ell_1$ norm, is obtained with:"
      ]
    },
    {
      "cell_type": "code",
      "metadata": {
        "ExecuteTime": {
          "end_time": "2019-01-22T06:59:38.037641Z",
          "start_time": "2019-01-22T06:59:38.026628Z"
        },
        "colab": {
          "base_uri": "https://localhost:8080/"
        },
        "id": "zy4VFiaw8w0Y",
        "outputId": "50f28580-c13f-4cac-f917-897bdc95331c"
      },
      "source": [
        "# Built-in L_1 norm\n",
        "l1_norm_numpy = np.linalg.norm(x[:,np.newaxis], 1)\n",
        "\n",
        "# Custom calculation with NumPy\n",
        "l1_norm_custom = np.sum(np.abs(x))\n",
        "\n",
        "# L1-norms\n",
        "print(f\"L_1 norm built-in: {l1_norm_numpy} \\n\")\n",
        "print(f\"L_1 norm custom: {l1_norm_custom} \\n\")"
      ],
      "execution_count": null,
      "outputs": [
        {
          "output_type": "stream",
          "text": [
            "L_1 norm built-in: 4.0 \n",
            "\n",
            "L_1 norm custom: 4.0 \n",
            "\n"
          ],
          "name": "stdout"
        }
      ]
    },
    {
      "cell_type": "markdown",
      "metadata": {
        "id": "245TqZs48w0Y"
      },
      "source": [
        "To calculate the $\\ell_2$-norm, use:"
      ]
    },
    {
      "cell_type": "code",
      "metadata": {
        "ExecuteTime": {
          "end_time": "2019-01-22T06:59:38.023692Z",
          "start_time": "2019-01-22T06:59:38.010330Z"
        },
        "colab": {
          "base_uri": "https://localhost:8080/"
        },
        "id": "GpN9-T_G8w0X",
        "outputId": "beeed7f9-3ac9-4a19-cef3-b07bf96ae129"
      },
      "source": [
        "# Built-in\n",
        "l2_norm_numpy = np.linalg.norm(x[:,np.newaxis], 'fro')\n",
        "\n",
        "# or a custom calculation with NumPy\n",
        "l2_norm_custom = np.sqrt(np.sum(np.power(np.abs(x), 2)))\n",
        "\n",
        "print(f\"L_2 norm built-in: {l2_norm_numpy} \\n\")\n",
        "print(f\"L_2 norm custom: {l2_norm_custom} \\n\")"
      ],
      "execution_count": null,
      "outputs": [
        {
          "output_type": "stream",
          "text": [
            "L_2 norm built-in: 2.0 \n",
            "\n",
            "L_2 norm custom: 2.0 \n",
            "\n"
          ],
          "name": "stdout"
        }
      ]
    },
    {
      "cell_type": "markdown",
      "metadata": {
        "id": "0OFiy9_otJJA"
      },
      "source": [
        "#### Your Turn: Norm Parity\n",
        "\n",
        "When taking a norm, is the absolute value always required regardless of $\\ell_p$?"
      ]
    },
    {
      "cell_type": "markdown",
      "metadata": {
        "id": "jkHXYko-SgMU"
      },
      "source": [
        "----\n",
        "\n",
        "answer here \n",
        "\n",
        "--- "
      ]
    }
  ]
}