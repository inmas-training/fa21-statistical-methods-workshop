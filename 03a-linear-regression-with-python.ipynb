{
  "nbformat": 4,
  "nbformat_minor": 0,
  "metadata": {
    "colab": {
      "name": "03a-linear-regression-with-python",
      "provenance": [],
      "collapsed_sections": [],
      "toc_visible": true,
      "include_colab_link": true
    },
    "kernelspec": {
      "display_name": "Python 3",
      "language": "python",
      "name": "python3"
    },
    "language_info": {
      "codemirror_mode": {
        "name": "ipython",
        "version": 3
      },
      "file_extension": ".py",
      "mimetype": "text/x-python",
      "name": "python",
      "nbconvert_exporter": "python",
      "pygments_lexer": "ipython3",
      "version": "3.7.6"
    },
    "widgets": {
      "application/vnd.jupyter.widget-state+json": {
        "2d7e798bb94745208a823543e9c168de": {
          "model_module": "@jupyter-widgets/controls",
          "model_name": "VBoxModel",
          "model_module_version": "1.5.0",
          "state": {
            "_view_name": "VBoxView",
            "_dom_classes": [
              "widget-interact"
            ],
            "_model_name": "VBoxModel",
            "_view_module": "@jupyter-widgets/controls",
            "_model_module_version": "1.5.0",
            "_view_count": null,
            "_view_module_version": "1.5.0",
            "box_style": "",
            "layout": "IPY_MODEL_3e14cefec6144c44bc9a868327ca5930",
            "_model_module": "@jupyter-widgets/controls",
            "children": [
              "IPY_MODEL_9e7edf5a6f1f4c7fa0e754911dcd8b99",
              "IPY_MODEL_5869dac5f1284380abbaa7158441e338",
              "IPY_MODEL_f13921818b8c4692874e58b4c2d16871"
            ]
          }
        },
        "3e14cefec6144c44bc9a868327ca5930": {
          "model_module": "@jupyter-widgets/base",
          "model_name": "LayoutModel",
          "model_module_version": "1.2.0",
          "state": {
            "_view_name": "LayoutView",
            "grid_template_rows": null,
            "right": null,
            "justify_content": null,
            "_view_module": "@jupyter-widgets/base",
            "overflow": null,
            "_model_module_version": "1.2.0",
            "_view_count": null,
            "flex_flow": null,
            "width": null,
            "min_width": null,
            "border": null,
            "align_items": null,
            "bottom": null,
            "_model_module": "@jupyter-widgets/base",
            "top": null,
            "grid_column": null,
            "overflow_y": null,
            "overflow_x": null,
            "grid_auto_flow": null,
            "grid_area": null,
            "grid_template_columns": null,
            "flex": null,
            "_model_name": "LayoutModel",
            "justify_items": null,
            "grid_row": null,
            "max_height": null,
            "align_content": null,
            "visibility": null,
            "align_self": null,
            "height": null,
            "min_height": null,
            "padding": null,
            "grid_auto_rows": null,
            "grid_gap": null,
            "max_width": null,
            "order": null,
            "_view_module_version": "1.2.0",
            "grid_template_areas": null,
            "object_position": null,
            "object_fit": null,
            "grid_auto_columns": null,
            "margin": null,
            "display": null,
            "left": null
          }
        },
        "9e7edf5a6f1f4c7fa0e754911dcd8b99": {
          "model_module": "@jupyter-widgets/controls",
          "model_name": "FloatSliderModel",
          "model_module_version": "1.5.0",
          "state": {
            "_view_name": "FloatSliderView",
            "style": "IPY_MODEL_2f2de745f3c24bce9a6de1e07bbfeb25",
            "_dom_classes": [],
            "description": "beta_0",
            "step": 0.25,
            "_model_name": "FloatSliderModel",
            "orientation": "horizontal",
            "max": 10,
            "_view_module": "@jupyter-widgets/controls",
            "_model_module_version": "1.5.0",
            "value": 0,
            "_view_count": null,
            "disabled": false,
            "_view_module_version": "1.5.0",
            "min": -10,
            "continuous_update": true,
            "readout_format": ".2f",
            "description_tooltip": null,
            "readout": true,
            "_model_module": "@jupyter-widgets/controls",
            "layout": "IPY_MODEL_2ae695fd686042ed81dfaff83635c762"
          }
        },
        "5869dac5f1284380abbaa7158441e338": {
          "model_module": "@jupyter-widgets/controls",
          "model_name": "FloatSliderModel",
          "model_module_version": "1.5.0",
          "state": {
            "_view_name": "FloatSliderView",
            "style": "IPY_MODEL_af467bdfd13746748a12dc85791d56d9",
            "_dom_classes": [],
            "description": "beta_1",
            "step": 0.25,
            "_model_name": "FloatSliderModel",
            "orientation": "horizontal",
            "max": 10,
            "_view_module": "@jupyter-widgets/controls",
            "_model_module_version": "1.5.0",
            "value": 1,
            "_view_count": null,
            "disabled": false,
            "_view_module_version": "1.5.0",
            "min": -10,
            "continuous_update": true,
            "readout_format": ".2f",
            "description_tooltip": null,
            "readout": true,
            "_model_module": "@jupyter-widgets/controls",
            "layout": "IPY_MODEL_1526250a2d104b4584738d0b4c8e2458"
          }
        },
        "f13921818b8c4692874e58b4c2d16871": {
          "model_module": "@jupyter-widgets/output",
          "model_name": "OutputModel",
          "model_module_version": "1.0.0",
          "state": {
            "_view_name": "OutputView",
            "msg_id": "",
            "_dom_classes": [],
            "_model_name": "OutputModel",
            "outputs": [
              {
                "output_type": "display_data",
                "data": {
                  "image/png": "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\n",
                  "text/plain": "<Figure size 432x288 with 1 Axes>"
                },
                "metadata": {
                  "needs_background": "light"
                }
              }
            ],
            "_view_module": "@jupyter-widgets/output",
            "_model_module_version": "1.0.0",
            "_view_count": null,
            "_view_module_version": "1.0.0",
            "layout": "IPY_MODEL_c35916e387164600aa20427f11d0adfd",
            "_model_module": "@jupyter-widgets/output"
          }
        },
        "2f2de745f3c24bce9a6de1e07bbfeb25": {
          "model_module": "@jupyter-widgets/controls",
          "model_name": "SliderStyleModel",
          "model_module_version": "1.5.0",
          "state": {
            "_view_name": "StyleView",
            "handle_color": null,
            "_model_name": "SliderStyleModel",
            "description_width": "",
            "_view_module": "@jupyter-widgets/base",
            "_model_module_version": "1.5.0",
            "_view_count": null,
            "_view_module_version": "1.2.0",
            "_model_module": "@jupyter-widgets/controls"
          }
        },
        "2ae695fd686042ed81dfaff83635c762": {
          "model_module": "@jupyter-widgets/base",
          "model_name": "LayoutModel",
          "model_module_version": "1.2.0",
          "state": {
            "_view_name": "LayoutView",
            "grid_template_rows": null,
            "right": null,
            "justify_content": null,
            "_view_module": "@jupyter-widgets/base",
            "overflow": null,
            "_model_module_version": "1.2.0",
            "_view_count": null,
            "flex_flow": null,
            "width": null,
            "min_width": null,
            "border": null,
            "align_items": null,
            "bottom": null,
            "_model_module": "@jupyter-widgets/base",
            "top": null,
            "grid_column": null,
            "overflow_y": null,
            "overflow_x": null,
            "grid_auto_flow": null,
            "grid_area": null,
            "grid_template_columns": null,
            "flex": null,
            "_model_name": "LayoutModel",
            "justify_items": null,
            "grid_row": null,
            "max_height": null,
            "align_content": null,
            "visibility": null,
            "align_self": null,
            "height": null,
            "min_height": null,
            "padding": null,
            "grid_auto_rows": null,
            "grid_gap": null,
            "max_width": null,
            "order": null,
            "_view_module_version": "1.2.0",
            "grid_template_areas": null,
            "object_position": null,
            "object_fit": null,
            "grid_auto_columns": null,
            "margin": null,
            "display": null,
            "left": null
          }
        },
        "af467bdfd13746748a12dc85791d56d9": {
          "model_module": "@jupyter-widgets/controls",
          "model_name": "SliderStyleModel",
          "model_module_version": "1.5.0",
          "state": {
            "_view_name": "StyleView",
            "handle_color": null,
            "_model_name": "SliderStyleModel",
            "description_width": "",
            "_view_module": "@jupyter-widgets/base",
            "_model_module_version": "1.5.0",
            "_view_count": null,
            "_view_module_version": "1.2.0",
            "_model_module": "@jupyter-widgets/controls"
          }
        },
        "1526250a2d104b4584738d0b4c8e2458": {
          "model_module": "@jupyter-widgets/base",
          "model_name": "LayoutModel",
          "model_module_version": "1.2.0",
          "state": {
            "_view_name": "LayoutView",
            "grid_template_rows": null,
            "right": null,
            "justify_content": null,
            "_view_module": "@jupyter-widgets/base",
            "overflow": null,
            "_model_module_version": "1.2.0",
            "_view_count": null,
            "flex_flow": null,
            "width": null,
            "min_width": null,
            "border": null,
            "align_items": null,
            "bottom": null,
            "_model_module": "@jupyter-widgets/base",
            "top": null,
            "grid_column": null,
            "overflow_y": null,
            "overflow_x": null,
            "grid_auto_flow": null,
            "grid_area": null,
            "grid_template_columns": null,
            "flex": null,
            "_model_name": "LayoutModel",
            "justify_items": null,
            "grid_row": null,
            "max_height": null,
            "align_content": null,
            "visibility": null,
            "align_self": null,
            "height": null,
            "min_height": null,
            "padding": null,
            "grid_auto_rows": null,
            "grid_gap": null,
            "max_width": null,
            "order": null,
            "_view_module_version": "1.2.0",
            "grid_template_areas": null,
            "object_position": null,
            "object_fit": null,
            "grid_auto_columns": null,
            "margin": null,
            "display": null,
            "left": null
          }
        },
        "c35916e387164600aa20427f11d0adfd": {
          "model_module": "@jupyter-widgets/base",
          "model_name": "LayoutModel",
          "model_module_version": "1.2.0",
          "state": {
            "_view_name": "LayoutView",
            "grid_template_rows": null,
            "right": null,
            "justify_content": null,
            "_view_module": "@jupyter-widgets/base",
            "overflow": null,
            "_model_module_version": "1.2.0",
            "_view_count": null,
            "flex_flow": null,
            "width": null,
            "min_width": null,
            "border": null,
            "align_items": null,
            "bottom": null,
            "_model_module": "@jupyter-widgets/base",
            "top": null,
            "grid_column": null,
            "overflow_y": null,
            "overflow_x": null,
            "grid_auto_flow": null,
            "grid_area": null,
            "grid_template_columns": null,
            "flex": null,
            "_model_name": "LayoutModel",
            "justify_items": null,
            "grid_row": null,
            "max_height": null,
            "align_content": null,
            "visibility": null,
            "align_self": null,
            "height": null,
            "min_height": null,
            "padding": null,
            "grid_auto_rows": null,
            "grid_gap": null,
            "max_width": null,
            "order": null,
            "_view_module_version": "1.2.0",
            "grid_template_areas": null,
            "object_position": null,
            "object_fit": null,
            "grid_auto_columns": null,
            "margin": null,
            "display": null,
            "left": null
          }
        },
        "aee86967a7f34166bbee290078778983": {
          "model_module": "@jupyter-widgets/controls",
          "model_name": "VBoxModel",
          "model_module_version": "1.5.0",
          "state": {
            "_view_name": "VBoxView",
            "_dom_classes": [
              "widget-interact"
            ],
            "_model_name": "VBoxModel",
            "_view_module": "@jupyter-widgets/controls",
            "_model_module_version": "1.5.0",
            "_view_count": null,
            "_view_module_version": "1.5.0",
            "box_style": "",
            "layout": "IPY_MODEL_10f481db7c5f434f92858394f13a6a6b",
            "_model_module": "@jupyter-widgets/controls",
            "children": [
              "IPY_MODEL_cda8b974934348e6acfa68cad9d486e8",
              "IPY_MODEL_e45d0f7dbeb34ce98791c28026e88c88",
              "IPY_MODEL_0d8b51d9e11c4dcb91e8498358b274a5"
            ]
          }
        },
        "10f481db7c5f434f92858394f13a6a6b": {
          "model_module": "@jupyter-widgets/base",
          "model_name": "LayoutModel",
          "model_module_version": "1.2.0",
          "state": {
            "_view_name": "LayoutView",
            "grid_template_rows": null,
            "right": null,
            "justify_content": null,
            "_view_module": "@jupyter-widgets/base",
            "overflow": null,
            "_model_module_version": "1.2.0",
            "_view_count": null,
            "flex_flow": null,
            "width": null,
            "min_width": null,
            "border": null,
            "align_items": null,
            "bottom": null,
            "_model_module": "@jupyter-widgets/base",
            "top": null,
            "grid_column": null,
            "overflow_y": null,
            "overflow_x": null,
            "grid_auto_flow": null,
            "grid_area": null,
            "grid_template_columns": null,
            "flex": null,
            "_model_name": "LayoutModel",
            "justify_items": null,
            "grid_row": null,
            "max_height": null,
            "align_content": null,
            "visibility": null,
            "align_self": null,
            "height": null,
            "min_height": null,
            "padding": null,
            "grid_auto_rows": null,
            "grid_gap": null,
            "max_width": null,
            "order": null,
            "_view_module_version": "1.2.0",
            "grid_template_areas": null,
            "object_position": null,
            "object_fit": null,
            "grid_auto_columns": null,
            "margin": null,
            "display": null,
            "left": null
          }
        },
        "cda8b974934348e6acfa68cad9d486e8": {
          "model_module": "@jupyter-widgets/controls",
          "model_name": "FloatSliderModel",
          "model_module_version": "1.5.0",
          "state": {
            "_view_name": "FloatSliderView",
            "style": "IPY_MODEL_167156442e32492faacd92d8a358414a",
            "_dom_classes": [],
            "description": "guess_theta_0",
            "step": 0.25,
            "_model_name": "FloatSliderModel",
            "orientation": "horizontal",
            "max": 10,
            "_view_module": "@jupyter-widgets/controls",
            "_model_module_version": "1.5.0",
            "value": 0,
            "_view_count": null,
            "disabled": false,
            "_view_module_version": "1.5.0",
            "min": -10,
            "continuous_update": true,
            "readout_format": ".2f",
            "description_tooltip": null,
            "readout": true,
            "_model_module": "@jupyter-widgets/controls",
            "layout": "IPY_MODEL_0cfe25aa35b747498b2b638f198502b4"
          }
        },
        "e45d0f7dbeb34ce98791c28026e88c88": {
          "model_module": "@jupyter-widgets/controls",
          "model_name": "FloatSliderModel",
          "model_module_version": "1.5.0",
          "state": {
            "_view_name": "FloatSliderView",
            "style": "IPY_MODEL_455ac7093833424e930b2a9ae88c989a",
            "_dom_classes": [],
            "description": "guess_theta_1",
            "step": 0.25,
            "_model_name": "FloatSliderModel",
            "orientation": "horizontal",
            "max": 10,
            "_view_module": "@jupyter-widgets/controls",
            "_model_module_version": "1.5.0",
            "value": 1,
            "_view_count": null,
            "disabled": false,
            "_view_module_version": "1.5.0",
            "min": -10,
            "continuous_update": true,
            "readout_format": ".2f",
            "description_tooltip": null,
            "readout": true,
            "_model_module": "@jupyter-widgets/controls",
            "layout": "IPY_MODEL_eecb71b4597b467f801ec07985baac5e"
          }
        },
        "0d8b51d9e11c4dcb91e8498358b274a5": {
          "model_module": "@jupyter-widgets/output",
          "model_name": "OutputModel",
          "model_module_version": "1.0.0",
          "state": {
            "_view_name": "OutputView",
            "msg_id": "",
            "_dom_classes": [],
            "_model_name": "OutputModel",
            "outputs": [
              {
                "output_type": "display_data",
                "data": {
                  "text/markdown": "\nRandomly pick values for $\\boldsymbol{\\theta}$\n  and, then, run the code cell to see how well they did!\n  \n  - $\\theta_0$ = 0.0\n  - $\\theta_1$ = 1.0\n",
                  "text/plain": "<IPython.core.display.Markdown object>"
                },
                "metadata": {}
              },
              {
                "output_type": "display_data",
                "data": {
                  "image/png": "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\n",
                  "text/plain": "<Figure size 432x288 with 1 Axes>"
                },
                "metadata": {
                  "needs_background": "light"
                }
              },
              {
                "output_type": "display_data",
                "data": {
                  "text/plain": "1"
                },
                "metadata": {}
              }
            ],
            "_view_module": "@jupyter-widgets/output",
            "_model_module_version": "1.0.0",
            "_view_count": null,
            "_view_module_version": "1.0.0",
            "layout": "IPY_MODEL_ff79868743084971bcf1bb8c1c8a6067",
            "_model_module": "@jupyter-widgets/output"
          }
        },
        "167156442e32492faacd92d8a358414a": {
          "model_module": "@jupyter-widgets/controls",
          "model_name": "SliderStyleModel",
          "model_module_version": "1.5.0",
          "state": {
            "_view_name": "StyleView",
            "handle_color": null,
            "_model_name": "SliderStyleModel",
            "description_width": "",
            "_view_module": "@jupyter-widgets/base",
            "_model_module_version": "1.5.0",
            "_view_count": null,
            "_view_module_version": "1.2.0",
            "_model_module": "@jupyter-widgets/controls"
          }
        },
        "0cfe25aa35b747498b2b638f198502b4": {
          "model_module": "@jupyter-widgets/base",
          "model_name": "LayoutModel",
          "model_module_version": "1.2.0",
          "state": {
            "_view_name": "LayoutView",
            "grid_template_rows": null,
            "right": null,
            "justify_content": null,
            "_view_module": "@jupyter-widgets/base",
            "overflow": null,
            "_model_module_version": "1.2.0",
            "_view_count": null,
            "flex_flow": null,
            "width": null,
            "min_width": null,
            "border": null,
            "align_items": null,
            "bottom": null,
            "_model_module": "@jupyter-widgets/base",
            "top": null,
            "grid_column": null,
            "overflow_y": null,
            "overflow_x": null,
            "grid_auto_flow": null,
            "grid_area": null,
            "grid_template_columns": null,
            "flex": null,
            "_model_name": "LayoutModel",
            "justify_items": null,
            "grid_row": null,
            "max_height": null,
            "align_content": null,
            "visibility": null,
            "align_self": null,
            "height": null,
            "min_height": null,
            "padding": null,
            "grid_auto_rows": null,
            "grid_gap": null,
            "max_width": null,
            "order": null,
            "_view_module_version": "1.2.0",
            "grid_template_areas": null,
            "object_position": null,
            "object_fit": null,
            "grid_auto_columns": null,
            "margin": null,
            "display": null,
            "left": null
          }
        },
        "455ac7093833424e930b2a9ae88c989a": {
          "model_module": "@jupyter-widgets/controls",
          "model_name": "SliderStyleModel",
          "model_module_version": "1.5.0",
          "state": {
            "_view_name": "StyleView",
            "handle_color": null,
            "_model_name": "SliderStyleModel",
            "description_width": "",
            "_view_module": "@jupyter-widgets/base",
            "_model_module_version": "1.5.0",
            "_view_count": null,
            "_view_module_version": "1.2.0",
            "_model_module": "@jupyter-widgets/controls"
          }
        },
        "eecb71b4597b467f801ec07985baac5e": {
          "model_module": "@jupyter-widgets/base",
          "model_name": "LayoutModel",
          "model_module_version": "1.2.0",
          "state": {
            "_view_name": "LayoutView",
            "grid_template_rows": null,
            "right": null,
            "justify_content": null,
            "_view_module": "@jupyter-widgets/base",
            "overflow": null,
            "_model_module_version": "1.2.0",
            "_view_count": null,
            "flex_flow": null,
            "width": null,
            "min_width": null,
            "border": null,
            "align_items": null,
            "bottom": null,
            "_model_module": "@jupyter-widgets/base",
            "top": null,
            "grid_column": null,
            "overflow_y": null,
            "overflow_x": null,
            "grid_auto_flow": null,
            "grid_area": null,
            "grid_template_columns": null,
            "flex": null,
            "_model_name": "LayoutModel",
            "justify_items": null,
            "grid_row": null,
            "max_height": null,
            "align_content": null,
            "visibility": null,
            "align_self": null,
            "height": null,
            "min_height": null,
            "padding": null,
            "grid_auto_rows": null,
            "grid_gap": null,
            "max_width": null,
            "order": null,
            "_view_module_version": "1.2.0",
            "grid_template_areas": null,
            "object_position": null,
            "object_fit": null,
            "grid_auto_columns": null,
            "margin": null,
            "display": null,
            "left": null
          }
        },
        "ff79868743084971bcf1bb8c1c8a6067": {
          "model_module": "@jupyter-widgets/base",
          "model_name": "LayoutModel",
          "model_module_version": "1.2.0",
          "state": {
            "_view_name": "LayoutView",
            "grid_template_rows": null,
            "right": null,
            "justify_content": null,
            "_view_module": "@jupyter-widgets/base",
            "overflow": null,
            "_model_module_version": "1.2.0",
            "_view_count": null,
            "flex_flow": null,
            "width": null,
            "min_width": null,
            "border": null,
            "align_items": null,
            "bottom": null,
            "_model_module": "@jupyter-widgets/base",
            "top": null,
            "grid_column": null,
            "overflow_y": null,
            "overflow_x": null,
            "grid_auto_flow": null,
            "grid_area": null,
            "grid_template_columns": null,
            "flex": null,
            "_model_name": "LayoutModel",
            "justify_items": null,
            "grid_row": null,
            "max_height": null,
            "align_content": null,
            "visibility": null,
            "align_self": null,
            "height": null,
            "min_height": null,
            "padding": null,
            "grid_auto_rows": null,
            "grid_gap": null,
            "max_width": null,
            "order": null,
            "_view_module_version": "1.2.0",
            "grid_template_areas": null,
            "object_position": null,
            "object_fit": null,
            "grid_auto_columns": null,
            "margin": null,
            "display": null,
            "left": null
          }
        }
      }
    }
  },
  "cells": [
    {
      "cell_type": "markdown",
      "metadata": {
        "id": "view-in-github",
        "colab_type": "text"
      },
      "source": [
        "<a href=\"https://colab.research.google.com/github/inmas-training/fa21-statistical-methods-workshop/blob/main/03a-linear-regression-with-python.ipynb\" target=\"_parent\"><img src=\"https://colab.research.google.com/assets/colab-badge.svg\" alt=\"Open In Colab\"/></a>"
      ]
    },
    {
      "cell_type": "markdown",
      "metadata": {
        "id": "xXo06P7w6URF"
      },
      "source": [
        "# Overview \n",
        "\n",
        "Within this notebook, we introduce linear regression and associated model inference techniques. Please note, this notebook emphasizes regression using `statsmodels` and `NumPy`."
      ]
    },
    {
      "cell_type": "markdown",
      "metadata": {
        "id": "thekEd0k6qV6"
      },
      "source": [
        "## Diagnostics\n"
      ]
    },
    {
      "cell_type": "code",
      "metadata": {
        "colab": {
          "base_uri": "https://localhost:8080/"
        },
        "id": "7NXeOMIS4Qot",
        "cellView": "form",
        "outputId": "92356365-3d6b-44fe-858c-63cb2ff07c98"
      },
      "source": [
        "#@title (Hidden) Diagnostic Check\n",
        "import os\n",
        "import sys\n",
        "import pandas as pd\n",
        "import numpy as np\n",
        "%tensorflow_version 2.x\n",
        "import statsmodels \n",
        "import statsmodels.api as sm\n",
        "import statsmodels.formula.api as smf\n",
        "import matplotlib\n",
        "import matplotlib.pyplot as plt\n",
        "\n",
        "print(f\"\\nPython environment:\\n{sys.version}\")\n",
        "print(\"\\nStatistical packages loaded: \")\n",
        "print(f\"pandas: {pd.__version__}\")\n",
        "print(f\"numpy: {np.__version__}\")\n",
        "print(f\"statsmodels: {statsmodels.__version__}\")\n",
        "print(f\"matplotlib: {matplotlib.__version__}\")\n",
        "\n",
        "print(f\"\\nRuntime location:\")\n",
        "try:\n",
        "  from google.colab import drive\n",
        "  is_google_colab = True\n",
        "  print(\"Notebook is on Google CoLab\")\n",
        "except:\n",
        "  is_google_colab = False\n",
        "  print(\"Notebook is being run locally or through another source.\")\n"
      ],
      "execution_count": null,
      "outputs": [
        {
          "output_type": "stream",
          "name": "stderr",
          "text": [
            "/usr/local/lib/python3.7/dist-packages/statsmodels/tools/_testing.py:19: FutureWarning: pandas.util.testing is deprecated. Use the functions in the public API at pandas.testing instead.\n",
            "  import pandas.util.testing as tm\n"
          ]
        },
        {
          "output_type": "stream",
          "name": "stdout",
          "text": [
            "\n",
            "Python environment:\n",
            "3.7.12 (default, Sep 10 2021, 00:21:48) \n",
            "[GCC 7.5.0]\n",
            "\n",
            "Statistical packages loaded: \n",
            "pandas: 1.1.5\n",
            "numpy: 1.19.5\n",
            "statsmodels: 0.10.2\n",
            "matplotlib: 3.2.2\n",
            "\n",
            "Runtime location:\n",
            "Notebook is on Google CoLab\n"
          ]
        }
      ]
    },
    {
      "cell_type": "markdown",
      "metadata": {
        "id": "LmrtKVB_iJn9"
      },
      "source": [
        "## Save a copy of this notebook!!\n",
        "\n",
        "Before we get started, it is crucially important that you **save a copy of the notebook** to your Google Drive! Please go to: \n",
        "\n",
        "```\n",
        "File -> Save a Copy in Drive\n",
        "```\n",
        "\n"
      ]
    },
    {
      "cell_type": "markdown",
      "metadata": {
        "id": "ThzX5DmppIfT"
      },
      "source": [
        "![google-colab-save-in-drive-reduced.png](data:image/png;base64,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)"
      ]
    },
    {
      "cell_type": "markdown",
      "metadata": {
        "id": "UDfMKO06idvj"
      },
      "source": [
        "**If you _forget_ to save a copy of the notebook, all of your work will be lost when you close out of Google Colab.**"
      ]
    },
    {
      "cell_type": "markdown",
      "metadata": {
        "id": "1hEc2_FRCXX7"
      },
      "source": [
        "# Linear Regression\n",
        "\n"
      ]
    },
    {
      "cell_type": "markdown",
      "metadata": {
        "id": "y1rYSOmZFsve"
      },
      "source": [
        "## Simple Linear Regression\n",
        "\n",
        "Consider the simple linear relationship of a line:\n",
        "\n",
        "$$Y = \\beta_0 + \\beta_1 X$$\n",
        "\n",
        "The input is given as a paired coordinate of ($X$, $Y$), where $X = (X_1, X_2, \\dots, X_n)$ is the input and $Y = (Y_1, Y_2, \\dots, Y_n)$ is the output. Within the statistical framework, we call $\\beta_0$ and $\\beta_1$ **parameters**. With $\\beta_1$ representing the slope of the line or the amount that we predict $Y$ to change for a 1-unit change in $X$ and $\\beta_0$ representing the intercept or the average value when $X = 0$.\n",
        "\n",
        "However, the equation of line assumes the data fits perfectly. In practice, this is not the case and is why we need statistics. As a result, we formulate the model by incorporating an error term: \n",
        "\n",
        "$$Y = \\beta_0 + \\beta_1\\cdot X + \\epsilon, \\, \\epsilon \\sim N(0, \\sigma_\\epsilon)$$\n",
        "\n",
        "This is a foundational example of the regression relationship:\n",
        "\n",
        "$$Y = f(X) + \\varepsilon$$\n",
        "\n",
        "where where $f(X)$ is some function of $X$ and $\\varepsilon$ refers to the error.\n",
        "\n",
        "We're usually interested in estimating the parameters such that we get: \n",
        "$$\\hat{Y} = \\hat{\\beta}_0 + \\hat{\\beta}_1\\cdot X$$\n",
        "\n",
        "As such, we can estimate how error-prone our model is by comparing the truth with our estimate:\n",
        "\n",
        "$$e = Y - \\hat Y$$\n",
        "\n",
        "Note, there is an important distinction between a realized error $e$ and a theorized error $\\varepsilon$. \n",
        "\n",
        "Under our linear regresison model, we can: \n",
        "\n",
        "1. Predict $y$ when given new values of $x$\n",
        "2. Explain variability in $y$\n",
        "3. Describe relationships between $y$ and $x$.\n",
        "\n"
      ]
    },
    {
      "cell_type": "code",
      "metadata": {
        "colab": {
          "base_uri": "https://localhost:8080/",
          "height": 372,
          "referenced_widgets": [
            "2d7e798bb94745208a823543e9c168de",
            "3e14cefec6144c44bc9a868327ca5930",
            "9e7edf5a6f1f4c7fa0e754911dcd8b99",
            "5869dac5f1284380abbaa7158441e338",
            "f13921818b8c4692874e58b4c2d16871",
            "2f2de745f3c24bce9a6de1e07bbfeb25",
            "2ae695fd686042ed81dfaff83635c762",
            "af467bdfd13746748a12dc85791d56d9",
            "1526250a2d104b4584738d0b4c8e2458",
            "c35916e387164600aa20427f11d0adfd"
          ]
        },
        "id": "v2Rco6XEOITW",
        "cellView": "form",
        "outputId": "44ae859c-799f-44a9-d729-1f33db31b83f"
      },
      "source": [
        "#@title  <-- Run! Demo of linear relationship (hidden)\n",
        "from __future__ import print_function\n",
        "from ipywidgets import interact, interactive, fixed, interact_manual\n",
        "import ipywidgets as widgets\n",
        "\n",
        "def highlight_linear_relationship(beta_0, beta_1):\n",
        "  n = 50\n",
        "  # Generate design matrix\n",
        "  X = np.arange(-n, n, 1)*2/n\n",
        "  Y_hat = beta_1 * X + beta_0\n",
        "  # Graph the line of best fit\n",
        "  plt.plot(X, Y_hat, color='blue', linewidth = 3, zorder = 3)\n",
        "  # Plot details\n",
        "  plt.xlabel(r'$x$')\n",
        "  plt.ylabel(r'$y$')\n",
        "  plt.axhline(y=0, color='k')\n",
        "  plt.axvline(x=0, color='k')\n",
        "  plt.ylim((-10, 10))\n",
        "  plt.title(rf\"where $\\beta_0 = {beta_0:.02f}, \\beta_1 = {beta_1:.02f}$ \")\n",
        "  plt.suptitle(f'Linear Line: $Y = {beta_1:.02f}x + {beta_0:.02f}$')\n",
        "  # Show graph\n",
        "  plt.show()\n",
        "\n",
        "a = interact(\n",
        "      highlight_linear_relationship,\n",
        "      beta_0 = widgets.FloatSlider(min=-10, max=10, step=0.25, value = 0),\n",
        "      beta_1 = widgets.FloatSlider(min=-10, max=10, step=0.25, value = 1))\n"
      ],
      "execution_count": null,
      "outputs": [
        {
          "output_type": "display_data",
          "data": {
            "application/vnd.jupyter.widget-view+json": {
              "model_id": "2d7e798bb94745208a823543e9c168de",
              "version_minor": 0,
              "version_major": 2
            },
            "text/plain": [
              "interactive(children=(FloatSlider(value=0.0, description='beta_0', max=10.0, min=-10.0, step=0.25), FloatSlide…"
            ]
          },
          "metadata": {}
        }
      ]
    },
    {
      "cell_type": "markdown",
      "metadata": {
        "id": "pN-PKsJND-nk"
      },
      "source": [
        "## Your Turn: Experiments with Slope\n",
        "\n",
        "In the above widget, experiment with `beta_0` and `beta_1` slide.\n",
        "\n",
        "Determine what values cause the linear line to be\n",
        "\n",
        "1. Positive\n",
        "2. Negative\n",
        "3. Go directly through the origin (where the two black lines cross at 0,0)\n"
      ]
    },
    {
      "cell_type": "markdown",
      "metadata": {
        "id": "JACVURcTEi6H"
      },
      "source": [
        "---\n",
        "\n",
        "answer \n",
        "\n",
        "--- "
      ]
    },
    {
      "cell_type": "markdown",
      "metadata": {
        "id": "JkA-IJsBvksp"
      },
      "source": [
        "## Simulating Linear Data\n",
        "\n",
        "When trying to study various modeling techniques, the best approach is to create a data generation process that matches the assumptions of the model. In the case of linear regression data, generation process is governed by an $X$ value always increasing by 3. To make the problem interesting, we'll incorporate noise by randomly sampling from a Normal Distribution with mean $\\mu = 0$ and standard deviation $\\sigma = 1$, e.g. $\\varepsilon \\sim N(0, 1)$. Under these conditions, we proceed by generating data for a simple linear regression."
      ]
    },
    {
      "cell_type": "code",
      "metadata": {
        "id": "k3nrmnj9vm1J"
      },
      "source": [
        "import numpy as np\n",
        "import pandas as pd\n",
        "\n",
        "# Set parameters\n",
        "true_theta_0 = -1\n",
        "true_theta_1 = 3\n",
        "n = 50\n",
        "\n",
        "# Set seed for reproducibility\n",
        "np.random.seed(831)\n",
        "\n",
        "# Generate design matrix\n",
        "X = np.arange(0, n, 1)*2/n\n",
        "\n",
        "# Create relationship\n",
        "Y = true_theta_0 + true_theta_1*X \n",
        "\n",
        "# Add error\n",
        "error = np.random.randn(n)\n",
        "Y = Y + error"
      ],
      "execution_count": null,
      "outputs": []
    },
    {
      "cell_type": "code",
      "metadata": {
        "colab": {
          "base_uri": "https://localhost:8080/",
          "height": 419
        },
        "id": "7lhgj2F_QPIn",
        "cellView": "form",
        "outputId": "f80cd3cb-d0a5-49bf-9baa-9e72cab6eaba"
      },
      "source": [
        "#@title  <-- Run!  Dynamic data display chunk (hidden)\n",
        "from IPython.display import display, Markdown\n",
        "# Display guesses in a nicely formatted manner\n",
        "display(Markdown(\n",
        "rf\"\"\"\n",
        "\n",
        "$Y$ values were generated under the relationship : \n",
        "\n",
        "$$Y = {true_theta_0} + {true_theta_1} X + \\varepsilon$$\n",
        "\"\"\"\n",
        "))\n",
        "\n",
        "# Display first 10 rows from DataFrame output in a formatted table\n",
        "display(pd.DataFrame({\"x\": X, \"y\": Y}).head(10))"
      ],
      "execution_count": null,
      "outputs": [
        {
          "output_type": "display_data",
          "data": {
            "text/markdown": "\n\n$Y$ values were generated under the relationship : \n\n$$Y = -1 + 3 X + \\varepsilon$$\n",
            "text/plain": [
              "<IPython.core.display.Markdown object>"
            ]
          },
          "metadata": {}
        },
        {
          "output_type": "display_data",
          "data": {
            "text/html": [
              "<div>\n",
              "<style scoped>\n",
              "    .dataframe tbody tr th:only-of-type {\n",
              "        vertical-align: middle;\n",
              "    }\n",
              "\n",
              "    .dataframe tbody tr th {\n",
              "        vertical-align: top;\n",
              "    }\n",
              "\n",
              "    .dataframe thead th {\n",
              "        text-align: right;\n",
              "    }\n",
              "</style>\n",
              "<table border=\"1\" class=\"dataframe\">\n",
              "  <thead>\n",
              "    <tr style=\"text-align: right;\">\n",
              "      <th></th>\n",
              "      <th>x</th>\n",
              "      <th>y</th>\n",
              "    </tr>\n",
              "  </thead>\n",
              "  <tbody>\n",
              "    <tr>\n",
              "      <th>0</th>\n",
              "      <td>0.00</td>\n",
              "      <td>-2.521288</td>\n",
              "    </tr>\n",
              "    <tr>\n",
              "      <th>1</th>\n",
              "      <td>0.04</td>\n",
              "      <td>-0.374091</td>\n",
              "    </tr>\n",
              "    <tr>\n",
              "      <th>2</th>\n",
              "      <td>0.08</td>\n",
              "      <td>-3.366757</td>\n",
              "    </tr>\n",
              "    <tr>\n",
              "      <th>3</th>\n",
              "      <td>0.12</td>\n",
              "      <td>-1.856530</td>\n",
              "    </tr>\n",
              "    <tr>\n",
              "      <th>4</th>\n",
              "      <td>0.16</td>\n",
              "      <td>-2.447937</td>\n",
              "    </tr>\n",
              "    <tr>\n",
              "      <th>5</th>\n",
              "      <td>0.20</td>\n",
              "      <td>0.422861</td>\n",
              "    </tr>\n",
              "    <tr>\n",
              "      <th>6</th>\n",
              "      <td>0.24</td>\n",
              "      <td>-0.922442</td>\n",
              "    </tr>\n",
              "    <tr>\n",
              "      <th>7</th>\n",
              "      <td>0.28</td>\n",
              "      <td>0.833170</td>\n",
              "    </tr>\n",
              "    <tr>\n",
              "      <th>8</th>\n",
              "      <td>0.32</td>\n",
              "      <td>1.030421</td>\n",
              "    </tr>\n",
              "    <tr>\n",
              "      <th>9</th>\n",
              "      <td>0.36</td>\n",
              "      <td>0.720210</td>\n",
              "    </tr>\n",
              "  </tbody>\n",
              "</table>\n",
              "</div>"
            ],
            "text/plain": [
              "      x         y\n",
              "0  0.00 -2.521288\n",
              "1  0.04 -0.374091\n",
              "2  0.08 -3.366757\n",
              "3  0.12 -1.856530\n",
              "4  0.16 -2.447937\n",
              "5  0.20  0.422861\n",
              "6  0.24 -0.922442\n",
              "7  0.28  0.833170\n",
              "8  0.32  1.030421\n",
              "9  0.36  0.720210"
            ]
          },
          "metadata": {}
        }
      ]
    },
    {
      "cell_type": "markdown",
      "metadata": {
        "id": "XDe3NMHv0HW-"
      },
      "source": [
        "Data relationships can be expressed graphically by plotting the points under a scatterplot."
      ]
    },
    {
      "cell_type": "code",
      "metadata": {
        "colab": {
          "base_uri": "https://localhost:8080/",
          "height": 295
        },
        "id": "GPwFsKiMDYit",
        "outputId": "3446823c-e07e-4426-c2e6-6052c7298a89"
      },
      "source": [
        "import matplotlib.pyplot as plt\n",
        "\n",
        "# Construct a scatter plot showing the relationship between\n",
        "# X & Y variables \n",
        "plt.scatter(X, Y)\n",
        "plt.xlabel(r'$x$')\n",
        "plt.ylabel(r'$y$')\n",
        "plt.title(\"Linear Data with Slight Scattering\")\n",
        "plt.show() "
      ],
      "execution_count": null,
      "outputs": [
        {
          "output_type": "display_data",
          "data": {
            "image/png": "[encoded data removed]",
            "text/plain": [
              "<Figure size 432x288 with 1 Axes>"
            ]
          },
          "metadata": {
            "needs_background": "light"
          }
        }
      ]
    },
    {
      "cell_type": "markdown",
      "metadata": {
        "id": "OtcI-ll7jWWZ"
      },
      "source": [
        "## Your Turn: Generating Polynomial Data \n",
        "\n",
        "Simulate data and graph data under the polynomial expressions:\n",
        "\n",
        "- Y_order_2 = $\\beta_0 + X_1\\beta_1 + X_1^2\\beta_2 + \\varepsilon$  \n",
        "- Y_order_3 = $\\beta_0 + X_1\\beta_1 + X_1^2\\beta_2 + X_1^3\\beta_3 + \\varepsilon$ \n",
        "\n",
        "Please try out different values for $\\beta_1$, $\\beta_2$, and $\\beta_3$.\n",
        "\n",
        "Notice, we applying a power transformation under a single feature, $X_1$, not the parameter. \n",
        "\n"
      ]
    },
    {
      "cell_type": "code",
      "metadata": {
        "id": "HlIJRkyQNUg0"
      },
      "source": [
        "## Code here"
      ],
      "execution_count": null,
      "outputs": []
    },
    {
      "cell_type": "markdown",
      "metadata": {
        "id": "uAQKIhZZnM5i"
      },
      "source": [
        "## Estimating with the Normal Equations\n",
        "\n",
        "In this section, we're going to explore how linear regression is applied to the set of generated data.\n",
        "\n",
        "### Linear Regression Formulation\n",
        "Linear regression is expressed usually under:\n",
        "\n",
        "$$\n",
        "\\begin{align}\n",
        "y_i &= X_{i,0}\\beta_0 + X_{i,1}\\beta_1 + \\cdots + X_{1,p-1}\\beta_{p-1} \\\\\n",
        "&= \\sum_{j=0}^{p - 1 }X_{i,j}\\beta_j \\\\\n",
        "\\mathbf{y}_{n \\times 1} &= \\mathbf{X}_{n \\times p}\\mathbf{\\beta}_{p \\times 1}\n",
        "\\end{align}\n",
        "$$\n",
        "\n",
        "where $\\mathbf{X}$ is a design matrix/input, $\\mathbf{\\beta}$ contains the parameters, and $\\mathbf{y}$ is a response vector. The insides of the matrices look like:\n",
        "\n",
        "$$\\mathbf{X} = \\begin{bmatrix}\n",
        "1 & x_{1, 1} & x_{1, 2} & \\cdots & x_{1, p-1} \\\\\n",
        "1 & x_{2, 1} & x_{2, 2} & \\cdots & x_{2, p-1} \\\\\n",
        "\\ldots & & \\ddots & & \\\\\n",
        "1 & x_{n, 1} & x_{n, 2} & \\cdots & x_{n, p-1} \\\\\n",
        "\\end{bmatrix}_{n \\times p}, \\mathbf{\\beta} = \\begin{bmatrix}\n",
        "\\beta_0 \\\\\n",
        "\\beta_1 \\\\\n",
        "\\ldots \\\\\n",
        "\\beta_{p-1} \\\\\n",
        "\\end{bmatrix}_{p \\times 1}, \\mathbf{y} = \\begin{bmatrix}\n",
        "y_1 \\\\\n",
        "y_2 \\\\\n",
        "\\ldots \\\\\n",
        "y_n \\\\\n",
        "\\end{bmatrix}_{n \\times 1}$$\n",
        "\n",
        "\n",
        "\n",
        "\n"
      ]
    },
    {
      "cell_type": "markdown",
      "metadata": {
        "id": "zCshdI5mndNP"
      },
      "source": [
        "### Solutions for Linear Regression\n",
        "\n",
        "The primary approach for estimating regression coefficients was done by using the **normal equations**. Normal Equations provide a **closed-form** solution to estimating regression coefficients by setting equal to zero the partial derivatives of the sum of squared residuals/errors (SSE). In short, the normal equations are given as:\n",
        "\n",
        "$$\\hat \\beta_{p \\times 1} = (X^{\\top}X)_{p \\times p}^{-1}X^{\\top}_{p \\times n}y_{n \\times 1}$$\n",
        "\n"
      ]
    },
    {
      "cell_type": "markdown",
      "metadata": {
        "id": "AnCYMkmi_8MM"
      },
      "source": [
        "We can quickly estimate the beta, $\\beta$, parameters under this scheme."
      ]
    },
    {
      "cell_type": "code",
      "metadata": {
        "colab": {
          "base_uri": "https://localhost:8080/"
        },
        "id": "W5ZNQohb-JLj",
        "outputId": "124a2a31-43b0-405e-e3f3-8c4f6ad763bb"
      },
      "source": [
        "import numpy as np\n",
        "\n",
        "# Incorporate the column of 1's into the design matrix\n",
        "X_intercept = np.concatenate([np.ones((n, 1)), X[:,np.newaxis]], axis=1)\n",
        "\n",
        "beta_hat = np.linalg.inv(X_intercept.T @ X_intercept) @ X_intercept.T @ Y\n",
        "beta_hat"
      ],
      "execution_count": null,
      "outputs": [
        {
          "output_type": "execute_result",
          "data": {
            "text/plain": [
              "array([-1.62881593,  3.4459602 ])"
            ]
          },
          "metadata": {},
          "execution_count": 7
        }
      ]
    },
    {
      "cell_type": "markdown",
      "metadata": {
        "id": "WZrtZkQaffLP"
      },
      "source": [
        "### Minimization of the Sum of Squares\n",
        "\n",
        "When viewing a minimization problem, we're seeking to find the function's **smallest** value. But, what does that mean exactly in the context of regression? Well, given a line and scattered points, the smallest distance to each point from the line is desired. \n",
        "\n",
        "That is, we want the defined sum of squares value $D = \\frac{1}{n}\\sum_{i = 1}^{n} e_i^2$ to be as close to zero as possible. Note, $D$ is a single real-valued number like 1.2132. \n",
        "\n",
        "The bottom line: the closer to zero, the better.\n",
        "\n",
        "\n"
      ]
    },
    {
      "cell_type": "markdown",
      "metadata": {
        "id": "1JLRk9Id_5Vh"
      },
      "source": [
        "Normal equations provide a highly desirable **closed-form solution** to estimating regression coefficients. The equations were derived analytically by **minimizing** SSE through derivatives. Effectively, the minimization equation is written as:\n",
        "\n",
        "$$\n",
        "\\begin{align}\n",
        "\\hat{\\mathbf{\\beta}}_{p \\times 1} &= \\underset{\\beta}{\\operatorname{argmin}}\\; \\sum_{i=1}^{n} e_i^2  \\\\\n",
        "&= \\underset{\\beta}{\\operatorname{argmin}}\\; \\sum_{i=1}^{n} \\left( y_i - \\hat{y}_i \\right)^2  \\\\\n",
        "&= \\underset{\\beta}{\\operatorname{argmin}}\\; \\sum_{i=1}^{n} \\left( y_i - \\sum_{j=0}^{p-1}X_{i,j}\\beta_j \\right)^2  \\\\\n",
        "\\end{align}\n",
        "$$\n",
        "\n",
        "Under matrix-form, the sum of residuals squares can be written succiently as:\n",
        "\n",
        "$$\n",
        "\\begin{align}\n",
        "\\hat{\\mathbf{\\beta}}_{p \\times 1} &= \\underset{\\beta}{\\operatorname{argmin}}\\; (\\mathbf{y} - \\mathbf{X}\\mathbf{\\beta})^{\\top}(\\mathbf{y} - \\mathbf{X}\\mathbf{\\beta}) \\\\\n",
        "&= \\underset{\\beta}{\\operatorname{argmin}}\\; \\lVert \\mathbf{y} - \\mathbf{X}\\mathbf{\\beta} \\lVert^2\n",
        "\\end{align}\n",
        "$$\n",
        "\n"
      ]
    },
    {
      "cell_type": "markdown",
      "metadata": {
        "id": "xU-_xKn7eOmz"
      },
      "source": [
        "The closed form for simple linear regression can be derived to:\n",
        "\n",
        "$$\\begin{align}\n",
        "\\hat{\\beta}_1 &= \\frac{\\sum_{i=1}^{n}{(x_i - \\bar x)(y_i - \\bar y)}}{\\sum_{i=1}^{n}{(x_i - \\bar x)^2}} \\\\ \n",
        "&= \\frac{S_{xy}}{S_{xx}} \\\\\n",
        "&= r_{xy}\\frac{S_{y}}{S_{x}} \\\\\n",
        "\\hat{\\beta}_0 &= \\bar{y} - \\hat{\\beta}_1\\bar{x} \\\\\n",
        "\\end{align}$$\n",
        "\n",
        "where $r_{xy}$ refers to a correlation coefficient given by: \n",
        "\n",
        "$$r_{xy} =\\frac{\\sum\\limits_{i=1}^n (x_i-\\bar{x})(y_i-\\bar{y})}\n",
        "            {\\sqrt{\\sum\\limits_{i=1}^n (x_i-\\bar{x})^2 \\sum\\limits_{i=1}^n (y_i-\\bar{y})^2}}$$\n",
        "\n",
        "further, we have $S_{x}$ and $S_{y}$ are the **uncorrected** sample standard deviations:\n",
        "\n",
        "$$S_{x} = \\sqrt{\\frac{1}{N} \\sum_{i=1}^N \\left(x_i - \\bar{x}\\right)^2}$$\n"
      ]
    },
    {
      "cell_type": "markdown",
      "metadata": {
        "id": "424nvruSE5bI"
      },
      "source": [
        "### Aside: Correlation\n",
        "\n"
      ]
    },
    {
      "cell_type": "markdown",
      "metadata": {
        "id": "sl66EAOQE-Hh"
      },
      "source": [
        "We can explore how our data is related using the idea of spearman correlation coefficient, $r$. The goal of $r$ is to provide a statistical measurement that describes the relationship between between two variables. For instance, we might want to understand the correlation between the price of a car and the amount of gasoline it requires per mile. \n",
        "\n",
        "The correlation values  ranges between $-1.0 \\le r \\le 1.0$. If a correlation coefficient is above -1 or 1, there likely is an error in the function. Any correlation coefficient equal to $r = -1.0$ shows a perfectly negative correlation. Similarly if we have a correlation coefficient equal to $r = 1.0$, we would have a perfect positive correlation. On the other side, if we have a correlation coefficient $r = 0.0$, we could conclude that there is no linear relationship between the two variables.\n"
      ]
    },
    {
      "cell_type": "code",
      "metadata": {
        "colab": {
          "base_uri": "https://localhost:8080/",
          "height": 283
        },
        "cellView": "form",
        "id": "0-2hDjxPK-4F",
        "outputId": "952bcdcf-2862-4b43-ab29-aa3983f70b15"
      },
      "source": [
        "#@title Graph Positive Correlation (Hidden)\n",
        "# Positive correlation\n",
        "x = np.arange(start=0, stop=25, step=1)\n",
        "plt.plot(x, 'o')\n",
        "plt.title(r\"Positive correlation, $r = 1$\")\n",
        "plt.show()"
      ],
      "execution_count": null,
      "outputs": [
        {
          "output_type": "display_data",
          "data": {
            "image/png": "[encoded data removed]",
            "text/plain": [
              "<Figure size 432x288 with 1 Axes>"
            ]
          },
          "metadata": {
            "needs_background": "light"
          }
        }
      ]
    },
    {
      "cell_type": "code",
      "metadata": {
        "colab": {
          "base_uri": "https://localhost:8080/",
          "height": 283
        },
        "cellView": "form",
        "id": "HnTVEFkyLPCg",
        "outputId": "40cb289c-b985-45ec-fc64-5e853027ea3f"
      },
      "source": [
        "#@title Graph Negative Correlation (Hidden)\n",
        "x = np.arange(start=25, stop=0, step=-1)\n",
        "plt.plot(x, 'o')\n",
        "plt.title(r\"Negative correlation, $r = -1$\")\n",
        "plt.show()"
      ],
      "execution_count": null,
      "outputs": [
        {
          "output_type": "display_data",
          "data": {
            "image/png": "[encoded data removed]",
            "text/plain": [
              "<Figure size 432x288 with 1 Axes>"
            ]
          },
          "metadata": {
            "needs_background": "light"
          }
        }
      ]
    },
    {
      "cell_type": "code",
      "metadata": {
        "colab": {
          "base_uri": "https://localhost:8080/",
          "height": 283
        },
        "cellView": "form",
        "id": "FiFiixXVLCbk",
        "outputId": "d74f7291-b014-4cb3-89df-bff790010d33"
      },
      "source": [
        "#@title Graph No Correlation (hidden)\n",
        "x = np.random.rand(25)\n",
        "plt.plot(x, 'o')\n",
        "plt.title(r\"No Correlation, $r = 0$\")\n",
        "plt.show()"
      ],
      "execution_count": null,
      "outputs": [
        {
          "output_type": "display_data",
          "data": {
            "image/png": "[encoded data removed]",
            "text/plain": [
              "<Figure size 432x288 with 1 Axes>"
            ]
          },
          "metadata": {
            "needs_background": "light"
          }
        }
      ]
    },
    {
      "cell_type": "markdown",
      "metadata": {
        "id": "RlknPzf5UFAY"
      },
      "source": [
        "We can see an array of correlation coefficient values and there associated patterns: "
      ]
    },
    {
      "cell_type": "markdown",
      "metadata": {
        "id": "vW92sPuvFD0x"
      },
      "source": [
        "![image.png](data:image/png;base64,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)"
      ]
    },
    {
      "cell_type": "markdown",
      "metadata": {
        "id": "93lZjvXuKYdQ"
      },
      "source": [
        "We can compute the correlation using the `spearmanr` function from `scipy.stats`."
      ]
    },
    {
      "cell_type": "code",
      "metadata": {
        "colab": {
          "base_uri": "https://localhost:8080/"
        },
        "id": "UenOfnbrJ-Fb",
        "outputId": "a9211cc6-31fc-4d51-eff2-9113bdac4f10"
      },
      "source": [
        "from scipy.stats import spearmanr\n",
        "import numpy as np \n",
        "\n",
        "# calculate spearman's correlation\n",
        "corr, _ = spearmanr(X, Y)\n",
        "print(f'Spearmans correlation: {corr:.3f}')"
      ],
      "execution_count": null,
      "outputs": [
        {
          "output_type": "stream",
          "name": "stdout",
          "text": [
            "Spearmans correlation: 0.891\n"
          ]
        }
      ]
    },
    {
      "cell_type": "markdown",
      "metadata": {
        "id": "C7OjlaevKEpD"
      },
      "source": [
        "## Your Turn: Simulate Data\n",
        "\n"
      ]
    },
    {
      "cell_type": "markdown",
      "metadata": {
        "id": "Q6wNRGABOp2x"
      },
      "source": [
        "Please simulate two different sets of data containing 100 observations from a Normal distribution: \n",
        "\n",
        "$$\n",
        "\\begin{align}\n",
        "V_1 &\\sim \\mathcal{N}(\\mu_1 = 100, \\sigma_1 = 20) \\\\\n",
        "V_2 &\\sim \\mathcal{N}(\\mu_2 = 50, \\sigma_2 = 10) \\\\\n",
        "\\end{align}\n",
        "$$\n",
        "\n",
        "Recall that random number can be drawn from a normal distribution using:\n",
        "\n",
        "```python\n",
        "import numpy as np \n",
        "M = sigma * np.random.randn(n) + mu\n",
        "```\n"
      ]
    },
    {
      "cell_type": "code",
      "metadata": {
        "id": "ronyokCkOLB8"
      },
      "source": [
        "## code here"
      ],
      "execution_count": null,
      "outputs": []
    },
    {
      "cell_type": "markdown",
      "metadata": {
        "id": "GFNuPoZFPjni"
      },
      "source": [
        "With the data simulated, let's create a correlation by adding the first data set onto the second:\n",
        "\n",
        "$$\n",
        "O = V_1 + V_2\n",
        "$$\n",
        "\n",
        "From there, calculate the spearman correlation coefficient between $V_1$ and $O$."
      ]
    },
    {
      "cell_type": "code",
      "metadata": {
        "id": "5H9AUJgBOY5S"
      },
      "source": [
        "## code here"
      ],
      "execution_count": null,
      "outputs": []
    },
    {
      "cell_type": "markdown",
      "metadata": {
        "id": "GwYspwvwJ_lQ"
      },
      "source": [
        "### Interpreting Normal Equations for Simple Linear Regression"
      ]
    },
    {
      "cell_type": "markdown",
      "metadata": {
        "id": "Y3q_Z5_ZuScw"
      },
      "source": [
        "Notice that the intercept of the model is given as: \n",
        "\n",
        "$$\\hat{\\beta}_0 = \\bar{y} - \\hat{\\beta}_1\\bar{x}$$\n",
        "\n",
        "As a result, we note that the model must go through $(\\bar x,\\bar y )$ or the sample means.\n",
        "\n",
        "Moreover, from our introductory discussion, we mentioned that the slope of the regression line describes the average change in the predicted response when our explanatory variable changes by 1 unit. However, we can also observe how the slope relates to the level of correlation: \n",
        "\n",
        "$$\\hat{\\beta}_1 = r_{xy}\\frac{S_{y}}{S_{x}}$$\n",
        "\n",
        "The inclusion of the correlation into slope indicates that when $x$ increases by a standard deviation, we see the average change in the predicted response to be a fractional change of $r$ standard deviations in $y$.\n",
        "\n"
      ]
    },
    {
      "cell_type": "markdown",
      "metadata": {
        "id": "uFYM0OxdFqqx"
      },
      "source": [
        "### Solving by Random Guessing\n",
        "\n",
        "Having seen the possible parameter values and the related effect on cost, the question becomes: \"How can we find parameter values that minimize the cost function?\"\n",
        "\n",
        "For a problem like this, perhaps the best way to start is to use the tried and true method of: guessing and checking. After each guess, refine the next guess based on whether the response is close or far away to the target.\n",
        "\n",
        "Try out guessing a few values down below! For each guess, make sure to observe how the regression line changes."
      ]
    },
    {
      "cell_type": "code",
      "metadata": {
        "id": "OvkKWCUckJn9",
        "cellView": "form"
      },
      "source": [
        "#@title <-- Run! Compute and Display Line of Best Fit (Hidden)\n",
        "import numpy as np\n",
        "import matplotlib.pyplot as plt\n",
        "\n",
        "def manual_min_rss(X, Y, guess_theta_0, guess_theta_1):\n",
        "  # Compute predictions under guessed parameters\n",
        "  Y_hat = guess_theta_0 + np.dot(guess_theta_1, X)\n",
        "\n",
        "  # Compute cost\n",
        "  cost = np.mean((Y_hat - Y)**2)\n",
        "\n",
        "  # Add data points\n",
        "  plt.scatter(X, Y, color = 'black', zorder = 2) \n",
        "  # Add the estimated line of best fit\n",
        "  plt.plot([X[0], X[-1]], [Y_hat[0], Y_hat[-1]], color = 'blue', zorder = 3)  \n",
        "  # Plot the residual line\n",
        "  plt.vlines(X, Y, Y_hat, color=\"red\", zorder = 1)\n",
        "  # Provide graph labels\n",
        "  plt.xlabel(r'$x$')\n",
        "  plt.ylabel(r'$y$')\n",
        "  plt.title(rf\"Guessed values for $\\theta_0 = {guess_theta_0:.04f}, \\theta_1 = {guess_theta_1:.04f}$ \")\n",
        "  plt.suptitle(\"Manual Solution Search for Linear Regression\")\n",
        "  # Release graph\n",
        "  plt.show()"
      ],
      "execution_count": null,
      "outputs": []
    },
    {
      "cell_type": "code",
      "metadata": {
        "colab": {
          "base_uri": "https://localhost:8080/",
          "height": 458,
          "referenced_widgets": [
            "aee86967a7f34166bbee290078778983",
            "10f481db7c5f434f92858394f13a6a6b",
            "cda8b974934348e6acfa68cad9d486e8",
            "e45d0f7dbeb34ce98791c28026e88c88",
            "0d8b51d9e11c4dcb91e8498358b274a5",
            "167156442e32492faacd92d8a358414a",
            "0cfe25aa35b747498b2b638f198502b4",
            "455ac7093833424e930b2a9ae88c989a",
            "eecb71b4597b467f801ec07985baac5e",
            "ff79868743084971bcf1bb8c1c8a6067"
          ]
        },
        "id": "8OpVG5bvlze1",
        "cellView": "form",
        "outputId": "8b30e447-c023-47e0-96f7-1fa12ebceaca"
      },
      "source": [
        "#@title  <-- Run! Interactively fit a line.\n",
        "from __future__ import print_function\n",
        "from ipywidgets import interact, interactive, fixed, interact_manual\n",
        "import ipywidgets as widgets\n",
        "from IPython.display import display, Markdown\n",
        "\n",
        "def manual_guessing(guess_theta_0, guess_theta_1):\n",
        "  # Display guesses in a nicely formatted manner\n",
        "  display(Markdown(\n",
        "  rf\"\"\"\n",
        "Randomly pick values for \"\"\"r\"\"\"$\\boldsymbol{\\theta}$\"\"\" \n",
        "  rf\"\"\"\n",
        "  and, then, run the code cell to see how well they did!\n",
        "  \n",
        "  - $\\theta_0$ = {guess_theta_0}\n",
        "  - $\\theta_1$ = {guess_theta_1}\n",
        "\"\"\"\n",
        "  ))\n",
        "\n",
        "  manual_min_rss(X = X, Y = Y, \n",
        "               guess_theta_0 = guess_theta_0, \n",
        "               guess_theta_1 = guess_theta_1)\n",
        "  \n",
        "  return 1\n",
        "\n",
        "\n",
        "b = interact(manual_guessing,\n",
        "         guess_theta_0 = widgets.FloatSlider(min=-10, max=10, step=0.25, value = 0),\n",
        "         guess_theta_1 = widgets.FloatSlider(min=-10, max=10, step=0.25, value = 1))\n"
      ],
      "execution_count": null,
      "outputs": [
        {
          "output_type": "display_data",
          "data": {
            "application/vnd.jupyter.widget-view+json": {
              "model_id": "aee86967a7f34166bbee290078778983",
              "version_minor": 0,
              "version_major": 2
            },
            "text/plain": [
              "interactive(children=(FloatSlider(value=0.0, description='guess_theta_0', max=10.0, min=-10.0, step=0.25), Flo…"
            ]
          },
          "metadata": {}
        }
      ]
    },
    {
      "cell_type": "markdown",
      "metadata": {
        "id": "uOquG6iuFopK"
      },
      "source": [
        "# Linear Regression in Python \n",
        "\n",
        "Many existing libraries have implementations that will quickly estimate the parameters of a linear regression. In the case of `Python`, we'll primarily use `statsmodels`. In a separate notebook, we include `NumPy` implementations for our own simple linear regression variant using the closed-form solutions and numerical optimization.\n"
      ]
    },
    {
      "cell_type": "markdown",
      "metadata": {
        "id": "8HhJNY7lAAfC"
      },
      "source": [
        "## statsmodels: statsmodels.api.OLS\n",
        "\n",
        "`statsmodels` provides a statistical toolkit with an emphasis on diagnostic and inference capabilities. When working on statistical-oriented projects, make sure to use `statsmodels` instead of `scikit-learn`. Though, the latter will be a bit more useful for model selection.\n"
      ]
    },
    {
      "cell_type": "markdown",
      "metadata": {
        "id": "jPA3sbv17tnf"
      },
      "source": [
        "## Modeling Approaches"
      ]
    },
    {
      "cell_type": "markdown",
      "metadata": {
        "id": "2rrh4tOJp6pd"
      },
      "source": [
        "There are two modeling interfaces for `statmodels`: \n",
        "\n",
        "1. The direct approach that assumes you have pre-specified the design matrix $X$ and have separated out $Y$, or\n",
        "2. The *R* like approach using model formulas that automatically constructs the design matrix and response vector."
      ]
    },
    {
      "cell_type": "markdown",
      "metadata": {
        "id": "OfmnfCIiwIhC"
      },
      "source": [
        "### Direct Approach\n",
        "\n",
        "Under the direct approach, we need to ensure that we append an intercept or a column of ones to the design matrix. \n"
      ]
    },
    {
      "cell_type": "code",
      "metadata": {
        "id": "jP2iI7VkiZ_G"
      },
      "source": [
        "# Load modules and data\n",
        "import numpy as np\n",
        "import statsmodels.api as sm\n",
        "\n",
        "# If an intercept isn't provided in the design matrix, make sure to add it!\n",
        "X_with_intercept = sm.add_constant(X)"
      ],
      "execution_count": null,
      "outputs": []
    },
    {
      "cell_type": "markdown",
      "metadata": {
        "id": "hlhoHjilwbE0"
      },
      "source": [
        "From there, we can specify the model using:"
      ]
    },
    {
      "cell_type": "code",
      "metadata": {
        "id": "QbKpSBbCBT3i"
      },
      "source": [
        "# Specify the model\n",
        "model = sm.OLS(Y, X_with_intercept)"
      ],
      "execution_count": null,
      "outputs": []
    },
    {
      "cell_type": "markdown",
      "metadata": {
        "id": "g79OVc5Bwhbu"
      },
      "source": [
        "Then, we can fit the model to the data."
      ]
    },
    {
      "cell_type": "code",
      "metadata": {
        "colab": {
          "base_uri": "https://localhost:8080/"
        },
        "id": "h3ugHI4ywgUD",
        "outputId": "e515fd48-2bb6-4544-b16a-893fafbf11a1"
      },
      "source": [
        "# Obtain a summary report\n",
        "results = model.fit()\n",
        "\n",
        "print(results)"
      ],
      "execution_count": null,
      "outputs": [
        {
          "output_type": "stream",
          "name": "stdout",
          "text": [
            "<statsmodels.regression.linear_model.RegressionResultsWrapper object at 0x7ff753b32490>\n"
          ]
        }
      ]
    },
    {
      "cell_type": "markdown",
      "metadata": {
        "id": "oMR8s16UwtM1"
      },
      "source": [
        "Note, that the results object is just a pointer that can be individually accessed."
      ]
    },
    {
      "cell_type": "markdown",
      "metadata": {
        "id": "DxTU5tB67r-K"
      },
      "source": [
        "### Formula-approach"
      ]
    },
    {
      "cell_type": "markdown",
      "metadata": {
        "id": "xqcghJlq_1Eq"
      },
      "source": [
        "On the other hand, the formula approach relates closely to how we specify the linear model. Generally, we prefer using the formulas compared to manually crafting design matrices. \n",
        "\n",
        "The syntax is given as:\n",
        "\n",
        "```python\n",
        "smf.ols('y ~ x ', data = my_data)\n",
        "```\n",
        "\n",
        "where `my_data` is a pandas data frame with columns named `x` and `y`.\n",
        "\n",
        "We can quickly take our generated data and convert it. "
      ]
    },
    {
      "cell_type": "code",
      "metadata": {
        "id": "tEmDVjAM73oa"
      },
      "source": [
        "# Convert from NumPy matrix into pandas data frame\n",
        "slr_df = pd.DataFrame({'x': X, 'y': Y.ravel()})"
      ],
      "execution_count": null,
      "outputs": []
    },
    {
      "cell_type": "markdown",
      "metadata": {
        "id": "V-dR_8s_ldbO"
      },
      "source": [
        "With the data now converted into a `Pandas` data frame, we can now model:"
      ]
    },
    {
      "cell_type": "code",
      "metadata": {
        "colab": {
          "base_uri": "https://localhost:8080/"
        },
        "id": "xgtnk5Qxlccu",
        "outputId": "475340eb-7b2f-472d-c0ef-3d18ab256ade"
      },
      "source": [
        "# Specify the model \n",
        "model_formulation = smf.ols('y ~ x', data = slr_df)\n",
        "\n",
        "# Fit the model\n",
        "results = model_formulation.fit()\n",
        "\n",
        "# View parameters\n",
        "results.params"
      ],
      "execution_count": null,
      "outputs": [
        {
          "output_type": "execute_result",
          "data": {
            "text/plain": [
              "Intercept   -1.628816\n",
              "x            3.445960\n",
              "dtype: float64"
            ]
          },
          "metadata": {},
          "execution_count": 20
        }
      ]
    },
    {
      "cell_type": "markdown",
      "metadata": {
        "id": "V6nmSlnhi06g"
      },
      "source": [
        "### Aside: Obtaining Values"
      ]
    },
    {
      "cell_type": "markdown",
      "metadata": {
        "id": "qIlAHHMuJFeS"
      },
      "source": [
        "We can extract desired values by looking at the `results` object."
      ]
    },
    {
      "cell_type": "code",
      "metadata": {
        "colab": {
          "base_uri": "https://localhost:8080/"
        },
        "id": "vWiyoU3aJFOk",
        "outputId": "ed30925a-921c-42c9-8402-142b9074ad97"
      },
      "source": [
        "results.params # Estimated parameters"
      ],
      "execution_count": null,
      "outputs": [
        {
          "output_type": "execute_result",
          "data": {
            "text/plain": [
              "Intercept   -1.628816\n",
              "x            3.445960\n",
              "dtype: float64"
            ]
          },
          "metadata": {},
          "execution_count": 21
        }
      ]
    },
    {
      "cell_type": "code",
      "metadata": {
        "colab": {
          "base_uri": "https://localhost:8080/"
        },
        "id": "y7zEB7kQJPEm",
        "outputId": "e596b736-8125-4067-99db-b0efa4e6c662"
      },
      "source": [
        "results.aic    # Model selection"
      ],
      "execution_count": null,
      "outputs": [
        {
          "output_type": "execute_result",
          "data": {
            "text/plain": [
              "149.26419866897334"
            ]
          },
          "metadata": {},
          "execution_count": 22
        }
      ]
    },
    {
      "cell_type": "code",
      "metadata": {
        "colab": {
          "base_uri": "https://localhost:8080/"
        },
        "id": "kmQYxl30JUYw",
        "outputId": "d16caf09-ca2c-4b65-eb4b-311f085b58a5"
      },
      "source": [
        "results.fvalue # F-statistic"
      ],
      "execution_count": null,
      "outputs": [
        {
          "output_type": "execute_result",
          "data": {
            "text/plain": [
              "177.53839761321126"
            ]
          },
          "metadata": {},
          "execution_count": 23
        }
      ]
    },
    {
      "cell_type": "markdown",
      "metadata": {
        "id": "O_zNG448ph56"
      },
      "source": [
        "Additional possibilities can be listed out by using:"
      ]
    },
    {
      "cell_type": "code",
      "metadata": {
        "colab": {
          "base_uri": "https://localhost:8080/"
        },
        "id": "uG9hInj8pmZf",
        "outputId": "e5231794-1384-47fe-d1f3-930a9775dedf"
      },
      "source": [
        "dir(results)[0:10]"
      ],
      "execution_count": null,
      "outputs": [
        {
          "output_type": "execute_result",
          "data": {
            "text/plain": [
              "['HC0_se',\n",
              " 'HC1_se',\n",
              " 'HC2_se',\n",
              " 'HC3_se',\n",
              " '_HCCM',\n",
              " '__class__',\n",
              " '__delattr__',\n",
              " '__dict__',\n",
              " '__dir__',\n",
              " '__doc__']"
            ]
          },
          "metadata": {},
          "execution_count": 24
        }
      ]
    },
    {
      "cell_type": "markdown",
      "metadata": {
        "id": "XI92its8oGQA"
      },
      "source": [
        "\n",
        "In particular, note that it contains: \n",
        "\n",
        "- Coefficient of Determination: R^2/Adj R^2\n",
        "- Model selection criteria: AIC, BIC\n",
        "- Null vs. Fit model under ANOVA: F-statistic"
      ]
    },
    {
      "cell_type": "markdown",
      "metadata": {
        "id": "iU8srIUW7nRi"
      },
      "source": [
        "## Model Summary Overview"
      ]
    },
    {
      "cell_type": "markdown",
      "metadata": {
        "id": "ghL8ezLcwzaS"
      },
      "source": [
        "To view the overarching characteristics of the model, we would need to call `.summary()`."
      ]
    },
    {
      "cell_type": "code",
      "metadata": {
        "colab": {
          "base_uri": "https://localhost:8080/"
        },
        "id": "6vaB9fCooEXm",
        "outputId": "cbb02595-4183-48e1-d594-2343a88ee6e5"
      },
      "source": [
        "model_summary = results.summary()\n",
        "print(model_summary)"
      ],
      "execution_count": null,
      "outputs": [
        {
          "output_type": "stream",
          "name": "stdout",
          "text": [
            "                            OLS Regression Results                            \n",
            "==============================================================================\n",
            "Dep. Variable:                      y   R-squared:                       0.787\n",
            "Model:                            OLS   Adj. R-squared:                  0.783\n",
            "Method:                 Least Squares   F-statistic:                     177.5\n",
            "Date:                Sat, 13 Nov 2021   Prob (F-statistic):           9.58e-18\n",
            "Time:                        19:33:22   Log-Likelihood:                -72.632\n",
            "No. Observations:                  50   AIC:                             149.3\n",
            "Df Residuals:                      48   BIC:                             153.1\n",
            "Df Model:                           1                                         \n",
            "Covariance Type:            nonrobust                                         \n",
            "==============================================================================\n",
            "                 coef    std err          t      P>|t|      [0.025      0.975]\n",
            "------------------------------------------------------------------------------\n",
            "Intercept     -1.6288      0.294     -5.537      0.000      -2.220      -1.037\n",
            "x              3.4460      0.259     13.324      0.000       2.926       3.966\n",
            "==============================================================================\n",
            "Omnibus:                        4.074   Durbin-Watson:                   2.302\n",
            "Prob(Omnibus):                  0.130   Jarque-Bera (JB):                1.911\n",
            "Skew:                          -0.118   Prob(JB):                        0.385\n",
            "Kurtosis:                       2.072   Cond. No.                         3.70\n",
            "==============================================================================\n",
            "\n",
            "Warnings:\n",
            "[1] Standard Errors assume that the covariance matrix of the errors is correctly specified.\n"
          ]
        }
      ]
    },
    {
      "cell_type": "markdown",
      "metadata": {
        "id": "YRcoZOKrluzy"
      },
      "source": [
        "## Inference"
      ]
    },
    {
      "cell_type": "markdown",
      "metadata": {
        "id": "9lMeBe9fhsUU"
      },
      "source": [
        "### Hypothesis Testing \n",
        "\n",
        "We can assess whether the predictor should be included or excluded from the model by checking to see if it is significant. In particular, we establish a relationship between a known distribution and assess how much the observation deviates. For regression, the hypotheses are:"
      ]
    },
    {
      "cell_type": "markdown",
      "metadata": {
        "id": "gZ7mg6MtiFfu"
      },
      "source": [
        "$$\n",
        "\\begin{align*}\n",
        "H_0: \\beta_1 = 0 \\\\\n",
        "H_A: \\beta_1 \\neq 0\n",
        "\\end{align*}\n",
        "$$\n",
        "\n",
        "where $H_0$ refers to the null hypothesis (or assumed truth) and $H_A$ refers to the alternative hypothesis. "
      ]
    },
    {
      "cell_type": "markdown",
      "metadata": {
        "id": "WDr94JYymgOg"
      },
      "source": [
        "We can generate a test statistic then of: $$t = \\frac{\\hat{\\beta_1}}{SE_{\\hat{\\beta_1}}}$$"
      ]
    },
    {
      "cell_type": "markdown",
      "metadata": {
        "id": "KPW073z7mme1"
      },
      "source": [
        "This statistic is approximately distributed to $t$-distribution with $df=n-k-1$ degrees of freedom. We can use this statistic to generate a $p$-value. Using this $p$-value, we can compare it to a significance level of $\\alpha = 0.05$. If the value is below that, we reject the null hypothesis ($H_0$). This means that there is evidence to suggest that the parameter is _not_ equivalent to zero. \n",
        " "
      ]
    },
    {
      "cell_type": "markdown",
      "metadata": {
        "id": "LMOVrfQbvDK7"
      },
      "source": [
        "From the `results.summary()`, we can see that all $p$-values associated with model parameters ($\\beta_0$ and $\\beta_1$) are well below the $\\alpha = 0.05$ level. Thus, both of these parameters contribute significantly to the model. If we removed them, the explanatory power of the model would be harmed. "
      ]
    },
    {
      "cell_type": "markdown",
      "metadata": {
        "id": "nGOBXVNlmGLA"
      },
      "source": [
        "### Confidence Interval\n",
        "\n",
        "Another approach to inference on the model is to construct a confidence interval. Confidence intervals provide an estimated range of values that are likely to include an unknown population parameter. We usually like to be about 95% confident that the interval will contain the observation. However, the interval is specified in terms of _long-run_ expected frequency. \n",
        "\n",
        "That is to say, if we use a 95% confidence interval, we would assume that the true parameter is captured 95 times out of every 100 experiments.\n",
        "\n",
        "$$\n",
        "\\begin{align*}\n",
        "&\\hat{\\beta}_1 \\pm t^* \\cdot SE_{\\hat{\\beta}_1}\\\\ \n",
        "&[\\hat{\\beta}_1 - t^* \\cdot SE_{\\hat{\\beta}_1} , \\hat{\\beta}_1 + t^* \\cdot SE_{\\hat{\\beta}_1}]\n",
        "\\end{align*}\n",
        "$$\n",
        "\n",
        "We interpret a confidence interval as: \n",
        "\n",
        "> \"We are 95% confident that for a 1-unit increase in $x$, we would see an [increase/decrease] in the response of between [bottom] and [top] units.\"\n",
        "\n",
        "\n"
      ]
    },
    {
      "cell_type": "markdown",
      "metadata": {
        "id": "3f5-rH9Fi4XJ"
      },
      "source": [
        "## Model Fit"
      ]
    },
    {
      "cell_type": "markdown",
      "metadata": {
        "id": "jyMVR_u6Y5oY"
      },
      "source": [
        "We can assess fit by partitioning the variability in our response variable as:\n",
        "\n",
        "$$SST =SSM+SSE$$\n",
        "\n",
        "Here we are relating the total sum of squares (SST), model sum of squares (SSM), and the residual sum of squares (SSE). Each of these terms breakdown to:"
      ]
    },
    {
      "cell_type": "markdown",
      "metadata": {
        "id": "lwuJReKhXAx5"
      },
      "source": [
        "\\begin{eqnarray*}\n",
        "SST &=& \\sum_{i=1}^n (y_i-\\bar{y})^2 \\\\\n",
        "SSM &=& \\sum_{i=1}^n (\\bar{y} - \\hat{y})^2 \\\\\n",
        "SSE &=& \\sum_{i=1}^n (y_i -\\hat{y})^2\n",
        "\\end{eqnarray*}\n"
      ]
    },
    {
      "cell_type": "markdown",
      "metadata": {
        "id": "2LUVNbA-ZC_h"
      },
      "source": [
        "### Coefficient of Determination \n",
        "We can use the coefficient of determination or $R^2$ to assess the model.\n",
        "The larger the  \n",
        "  value, the more variability we can explain using the model."
      ]
    },
    {
      "cell_type": "markdown",
      "metadata": {
        "id": "yXHFVV0AZgrF"
      },
      "source": [
        "$$R^2 = 1 - \\frac{SSE}{SST} = \\frac{SSM}{SST}$$\n",
        "\n",
        "For example, let's assume we have an $R^2 = 0.75$.\n",
        "\n",
        "It can be referred that 75% of the variation of the output can be explained by the model while the remaining 25% of the variability is still unaccounted for.\n"
      ]
    },
    {
      "cell_type": "markdown",
      "metadata": {
        "id": "ivRlYIyfbHa9"
      },
      "source": [
        "### Adjusted R-squared\n",
        "\n",
        "Unfortunately, if we were trying to compared how well the model performs with another model, we would not be able to use $R^2$ by itself. The reason for this comes from how fitted sum of squares or $SSM$ will always increase for each new parameter added. As a result, we need to derive a new metric for comparing across models. In this case, we propose the adjusted $R^2$ value given by:\n",
        "\n",
        "$$R^2_{adj} = 1- \\frac{SSE/(n-1)}{SST/(n-k-1)}$$"
      ]
    },
    {
      "cell_type": "markdown",
      "metadata": {
        "id": "aA95SrjJhdpN"
      },
      "source": [
        "where $n$ is the number of observations, $k$ is the number of predictors excluding the intercept, and the $-1$ accounts for the intercept."
      ]
    },
    {
      "cell_type": "markdown",
      "metadata": {
        "id": "I2Z7lKk6Xu5N"
      },
      "source": [
        "## Predictions"
      ]
    },
    {
      "cell_type": "markdown",
      "metadata": {
        "id": "bJokZ0JQYQIF"
      },
      "source": [
        "With the model, the response values available in $y$ may now be predicted using the parameter estimates of our model under:\n",
        "\n",
        "$$\\hat y = X \\hat \\beta$$ "
      ]
    },
    {
      "cell_type": "code",
      "metadata": {
        "colab": {
          "base_uri": "https://localhost:8080/"
        },
        "id": "x-nBVJ78WguE",
        "outputId": "1283a8e6-db5e-4fc3-db73-1399477000f6"
      },
      "source": [
        "# Retrieve beta estimates from statsmodels\n",
        "beta_hat = results.params\n",
        "\n",
        "# Compute estimates\n",
        "Y_hat = np.dot(X_with_intercept, beta_hat)\n",
        "\n",
        "print(f\"Number of Predictions: {Y_hat.shape}\")"
      ],
      "execution_count": null,
      "outputs": [
        {
          "output_type": "stream",
          "name": "stdout",
          "text": [
            "Number of Predictions: (50,)\n"
          ]
        }
      ]
    },
    {
      "cell_type": "markdown",
      "metadata": {
        "id": "uPorcnQtbDv6"
      },
      "source": [
        "In low-dimensional cases, we can observe how well the relationship is captured by graphing the line of best fit alongside of the actual data. "
      ]
    },
    {
      "cell_type": "code",
      "metadata": {
        "colab": {
          "base_uri": "https://localhost:8080/",
          "height": 308
        },
        "id": "lBRU9piGZ7CJ",
        "outputId": "8f07bb1d-1113-4e9b-e09a-baa6dc2b07dd"
      },
      "source": [
        "# Show data points\n",
        "plt.scatter(X, Y,  color='black', zorder = 2)\n",
        "\n",
        "# Graph the line of best fit\n",
        "plt.plot(X, Y_hat, color='blue', linewidth = 3, zorder = 3)\n",
        "\n",
        "# Plot details\n",
        "plt.xlabel(r'$x$')\n",
        "plt.ylabel(r'$y$')\n",
        "plt.title(rf\"Estimated values for $\\beta_0 = {beta_hat[0]:.04f}, \\beta_1 = {beta_hat[1]:.04f}$ \")\n",
        "plt.suptitle('Linear Regression under Normal Equation')\n",
        "plt.show()"
      ],
      "execution_count": null,
      "outputs": [
        {
          "output_type": "display_data",
          "data": {
            "image/png": "[encoded data removed]",
            "text/plain": [
              "<Figure size 432x288 with 1 Axes>"
            ]
          },
          "metadata": {
            "needs_background": "light"
          }
        }
      ]
    },
    {
      "cell_type": "markdown",
      "metadata": {
        "id": "_5g6udjcVxeU"
      },
      "source": [
        "## Residual \n",
        "\n"
      ]
    },
    {
      "cell_type": "markdown",
      "metadata": {
        "id": "RO-JwHAnbYtP"
      },
      "source": [
        "The \"residuals\" of the fit are the difference between the model's prediction $\\hat y = X \\hat \\beta$ and the original $y$ values:\n",
        "\n",
        "$$r = y - \\hat y = y - X \\hat \\beta$$\n",
        "\n",
        "We can modify the prediction graph slightly to show the residual fit given by the \"red\" lines. "
      ]
    },
    {
      "cell_type": "code",
      "metadata": {
        "colab": {
          "base_uri": "https://localhost:8080/",
          "height": 308
        },
        "id": "Ismp4QksbZqE",
        "outputId": "694a7e38-a8d2-432d-d654-8f77133ec11d"
      },
      "source": [
        "# Show data points\n",
        "plt.scatter(X, Y,  color='black', zorder = 2)\n",
        "\n",
        "# Graph the line of best fit\n",
        "plt.plot(X, Y_hat, color='blue', linewidth = 3, zorder = 3)\n",
        "\n",
        "# Show residual lines\n",
        "plt.vlines(X, Y, Y_hat, color=\"red\", zorder = 1)\n",
        "\n",
        "# Plot details\n",
        "plt.xlabel(r'$x$')\n",
        "plt.ylabel(r'$y$')\n",
        "plt.title(rf\"Estimated values for $\\beta_0 = {beta_hat[0]:.04f}, \\beta_1 = {beta_hat[1]:.04f}$ \")\n",
        "plt.suptitle('Linear Regression under Normal Equation')\n",
        "plt.show()"
      ],
      "execution_count": null,
      "outputs": [
        {
          "output_type": "display_data",
          "data": {
            "image/png": "[encoded data removed]",
            "text/plain": [
              "<Figure size 432x288 with 1 Axes>"
            ]
          },
          "metadata": {
            "needs_background": "light"
          }
        }
      ]
    },
    {
      "cell_type": "markdown",
      "metadata": {
        "id": "cw3KwuFGemeL"
      },
      "source": [
        "The residuals can be obtained from the `results` object under:"
      ]
    },
    {
      "cell_type": "code",
      "metadata": {
        "id": "d8XD0GUVesbu"
      },
      "source": [
        "residuals = results.resid"
      ],
      "execution_count": null,
      "outputs": []
    },
    {
      "cell_type": "markdown",
      "metadata": {
        "id": "Wk3gkjAWerd6"
      },
      "source": [
        "Alternatively, we could compare the predicted values with the fit values ourselves:"
      ]
    },
    {
      "cell_type": "code",
      "metadata": {
        "id": "xLffVVmBe5Ap"
      },
      "source": [
        "residuals = Y - Y_hat"
      ],
      "execution_count": null,
      "outputs": []
    },
    {
      "cell_type": "markdown",
      "metadata": {
        "id": "mJqkEa-be51Q"
      },
      "source": [
        "With the residuals in hand, we do want to check to see if the residuals vs. fitted plot exhibits **Homoscedasticity** behavior (same error is consistent). If the graph displays **Heteroscedasticity** behavior, we would need to re-evaluate this model."
      ]
    },
    {
      "cell_type": "code",
      "metadata": {
        "colab": {
          "base_uri": "https://localhost:8080/",
          "height": 295
        },
        "id": "Y_DchsuJU-UE",
        "outputId": "722e3036-0a50-47f6-dfa4-e17d6ac0e597"
      },
      "source": [
        "plt.scatter(X_with_intercept[:, 1], residuals)\n",
        "plt.xlabel(r'$x$')\n",
        "plt.ylabel('Residuals')\n",
        "plt.title(\"Comparing residuals against covariate\")\n",
        "plt.show()"
      ],
      "execution_count": null,
      "outputs": [
        {
          "output_type": "display_data",
          "data": {
            "image/png": "[encoded data removed]",
            "text/plain": [
              "<Figure size 432x288 with 1 Axes>"
            ]
          },
          "metadata": {
            "needs_background": "light"
          }
        }
      ]
    },
    {
      "cell_type": "markdown",
      "metadata": {
        "id": "yMAnbbeGknCT"
      },
      "source": [
        "When looking at the graph, we are seeking to see if the data points are equally scattered (homoscedasticity). If the points are **not** equally scatter, then we would have a case of **heteroscedasticity**."
      ]
    },
    {
      "cell_type": "markdown",
      "metadata": {
        "id": "QYkHM0xKk64U"
      },
      "source": [
        "![image.png](data:image/png;base64,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)"
      ]
    },
    {
      "cell_type": "markdown",
      "metadata": {
        "id": "PaoIyOBdgRT3"
      },
      "source": [
        "### Verify Assumptions"
      ]
    },
    {
      "cell_type": "markdown",
      "metadata": {
        "id": "0lXylCfvfMCk"
      },
      "source": [
        "In order for a linear regression model to be appropriate, a number of conditions must be met.\n",
        "\n",
        "- **L**inearity\n",
        "- **I**ndependence\n",
        "- **N**ormality\n",
        "- **E**quality of variance\n",
        "\n",
        "These conditions are mainly related to the distribution of the residuals.\n",
        "\n",
        "Assumption |\tConsequence |\tDiagnostic\t| Solution\n",
        "----| ---| --|--\n",
        "Independence | Inaccurate inference | Common sense/context | Use a different technique/ don’t model  \n",
        "$\\mathbb{E}[\\varepsilon] = 0$ | Lack of model fit | Plot of residuals vs. Fitted values | Transform either input $x$and/or $y$\n",
        "$\\operatorname{Var}(\\varepsilon)=\\sigma^2$ | Inaccurate inference | Plot of residuals v. fitted values | Transform  $y$ \n",
        "$\\varepsilon \\sim N(\\mu, \\sigma)$  | If extreme, inaccurate inference | QQ plot | Transform  $y$ |"
      ]
    },
    {
      "cell_type": "markdown",
      "metadata": {
        "id": "2Ck60MPEjU-H"
      },
      "source": [
        "### Expectation of residuals\n",
        "\n",
        "One assumption of the linear model is the expectation or the average value across residuals is 0. We can verify that by taking the mean:"
      ]
    },
    {
      "cell_type": "code",
      "metadata": {
        "colab": {
          "base_uri": "https://localhost:8080/"
        },
        "id": "v52sSyiyjbja",
        "outputId": "aef2ce79-18ba-4268-bf3b-50cbb88accb1"
      },
      "source": [
        "results.resid.mean()"
      ],
      "execution_count": null,
      "outputs": [
        {
          "output_type": "execute_result",
          "data": {
            "text/plain": [
              "-8.43769498715119e-17"
            ]
          },
          "metadata": {},
          "execution_count": 32
        }
      ]
    },
    {
      "cell_type": "markdown",
      "metadata": {
        "id": "r4ZOn77LjlXg"
      },
      "source": [
        "Notice, this number is very small on the order of `E-17` that results from working with a decimal number. "
      ]
    },
    {
      "cell_type": "markdown",
      "metadata": {
        "id": "SF1tZ1iTseCQ"
      },
      "source": [
        "### Assessing Normality of Residuals"
      ]
    },
    {
      "cell_type": "markdown",
      "metadata": {
        "id": "Pnd435eAtF2_"
      },
      "source": [
        "We can employ visual methods for assessing the quality of the residuals through either graphing them with a histogram or a **Q–Q** (quantile-quantile) plot.  The **Q-Q plot** focuses on comparing two distributions to each other to see if they come from populations with a common distribution. We add a 45-degree reference line that helps us visually assess this information. In particular, if points fall on this line, they should come from the same distribution. If they are significantly far away, then the underlying distributions are different. "
      ]
    },
    {
      "cell_type": "code",
      "metadata": {
        "colab": {
          "base_uri": "https://localhost:8080/",
          "height": 404
        },
        "id": "HpI2ij0Wsdej",
        "outputId": "dc7de07a-d80c-43cb-c4c9-94c12d70f81f"
      },
      "source": [
        "import scipy.stats as stats\n",
        "import seaborn as sns\n",
        "\n",
        "residuals = Y - Y_hat\n",
        "\n",
        "fig, (ax1, ax2) = plt.subplots(1, 2, figsize=(12, 5))\n",
        "sns.distplot(residuals, fit=stats.norm, ax=ax1)\n",
        "ax1.set_title('Distribution of Residuals')\n",
        "ax1.set_xlabel('Residual')\n",
        "ax1.set_ylabel('Probability')\n",
        "_ = stats.probplot(residuals.ravel(), plot=ax2)"
      ],
      "execution_count": null,
      "outputs": [
        {
          "output_type": "stream",
          "name": "stderr",
          "text": [
            "/usr/local/lib/python3.7/dist-packages/seaborn/distributions.py:2619: FutureWarning: `distplot` is a deprecated function and will be removed in a future version. Please adapt your code to use either `displot` (a figure-level function with similar flexibility) or `histplot` (an axes-level function for histograms).\n",
            "  warnings.warn(msg, FutureWarning)\n"
          ]
        },
        {
          "output_type": "display_data",
          "data": {
            "image/png": "[encoded data removed]",
            "text/plain": [
              "<Figure size 864x360 with 2 Axes>"
            ]
          },
          "metadata": {
            "needs_background": "light"
          }
        }
      ]
    },
    {
      "cell_type": "markdown",
      "metadata": {
        "id": "lHfaxECxtSLF"
      },
      "source": [
        "Alternatively, we can apply a hypothesis test designed to assess normality called the D'Agostino's K-squared test. "
      ]
    },
    {
      "cell_type": "code",
      "metadata": {
        "colab": {
          "base_uri": "https://localhost:8080/"
        },
        "id": "FiP_aDw3tT2V",
        "outputId": "f91f9c28-5b18-4b7b-ff2e-7c33da91a546"
      },
      "source": [
        "import scipy.stats as stats\n",
        "\n",
        "residuals = Y - Y_hat\n",
        "\n",
        "stats.normaltest(residuals)"
      ],
      "execution_count": null,
      "outputs": [
        {
          "output_type": "execute_result",
          "data": {
            "text/plain": [
              "NormaltestResult(statistic=4.074190459911396, pvalue=0.13040696348514055)"
            ]
          },
          "metadata": {},
          "execution_count": 34
        }
      ]
    },
    {
      "cell_type": "markdown",
      "metadata": {
        "id": "osM5rTQeigEk"
      },
      "source": [
        "# Real world: Salaries"
      ]
    },
    {
      "cell_type": "markdown",
      "metadata": {
        "id": "ep3Bb4KErEIe"
      },
      "source": [
        "## Importing Data"
      ]
    },
    {
      "cell_type": "markdown",
      "metadata": {
        "id": "YgpPesxYjFj2"
      },
      "source": [
        "Let's take a look at the Salaries data set.\n",
        "\n",
        "<https://raw.githubusercontent.com/inmas-training/fa21-statistical-methods-workshop/main/data/Salaries.csv>\n",
        "\n",
        "The data set contains 397 observations on the following 6 variables.\n",
        "\n",
        "- rank: a factor \n",
        "  - AssocProf, AsstProf, Prof\n",
        "- discipline: a factor\n",
        "  - A (“theoretical” departments) or B (“applied” departments).\n",
        "- yrs.since.phd: integer\n",
        "  - years since PhD.\n",
        "- yrs.service: integer\n",
        "  - years of service.\n",
        "- sex: a factor\n",
        "  - Female Male\n",
        "- salary: number\n",
        "  - nine-month salary, in dollars."
      ]
    },
    {
      "cell_type": "markdown",
      "metadata": {
        "id": "I4NdFMN4oNge"
      },
      "source": [
        "We can import the `Salaries` data set into Python using:"
      ]
    },
    {
      "cell_type": "code",
      "metadata": {
        "colab": {
          "base_uri": "https://localhost:8080/",
          "height": 419
        },
        "id": "RH3e8WpsiffD",
        "outputId": "fc86ef02-5461-4713-9b84-db1542d3be20"
      },
      "source": [
        "import pandas as pd \n",
        "\n",
        "url = \"https://raw.githubusercontent.com/inmas-training/fa21-statistical-methods-workshop/main/data/Salaries.csv\"\n",
        "Salaries = pd.read_csv(url)\n",
        "\n",
        "display(Salaries)"
      ],
      "execution_count": null,
      "outputs": [
        {
          "output_type": "display_data",
          "data": {
            "text/html": [
              "<div>\n",
              "<style scoped>\n",
              "    .dataframe tbody tr th:only-of-type {\n",
              "        vertical-align: middle;\n",
              "    }\n",
              "\n",
              "    .dataframe tbody tr th {\n",
              "        vertical-align: top;\n",
              "    }\n",
              "\n",
              "    .dataframe thead th {\n",
              "        text-align: right;\n",
              "    }\n",
              "</style>\n",
              "<table border=\"1\" class=\"dataframe\">\n",
              "  <thead>\n",
              "    <tr style=\"text-align: right;\">\n",
              "      <th></th>\n",
              "      <th>rank</th>\n",
              "      <th>discipline</th>\n",
              "      <th>yrs.since.phd</th>\n",
              "      <th>yrs.service</th>\n",
              "      <th>sex</th>\n",
              "      <th>salary</th>\n",
              "    </tr>\n",
              "  </thead>\n",
              "  <tbody>\n",
              "    <tr>\n",
              "      <th>0</th>\n",
              "      <td>Prof</td>\n",
              "      <td>B</td>\n",
              "      <td>19</td>\n",
              "      <td>18</td>\n",
              "      <td>Male</td>\n",
              "      <td>139750</td>\n",
              "    </tr>\n",
              "    <tr>\n",
              "      <th>1</th>\n",
              "      <td>Prof</td>\n",
              "      <td>B</td>\n",
              "      <td>20</td>\n",
              "      <td>16</td>\n",
              "      <td>Male</td>\n",
              "      <td>173200</td>\n",
              "    </tr>\n",
              "    <tr>\n",
              "      <th>2</th>\n",
              "      <td>AsstProf</td>\n",
              "      <td>B</td>\n",
              "      <td>4</td>\n",
              "      <td>3</td>\n",
              "      <td>Male</td>\n",
              "      <td>79750</td>\n",
              "    </tr>\n",
              "    <tr>\n",
              "      <th>3</th>\n",
              "      <td>Prof</td>\n",
              "      <td>B</td>\n",
              "      <td>45</td>\n",
              "      <td>39</td>\n",
              "      <td>Male</td>\n",
              "      <td>115000</td>\n",
              "    </tr>\n",
              "    <tr>\n",
              "      <th>4</th>\n",
              "      <td>Prof</td>\n",
              "      <td>B</td>\n",
              "      <td>40</td>\n",
              "      <td>41</td>\n",
              "      <td>Male</td>\n",
              "      <td>141500</td>\n",
              "    </tr>\n",
              "    <tr>\n",
              "      <th>...</th>\n",
              "      <td>...</td>\n",
              "      <td>...</td>\n",
              "      <td>...</td>\n",
              "      <td>...</td>\n",
              "      <td>...</td>\n",
              "      <td>...</td>\n",
              "    </tr>\n",
              "    <tr>\n",
              "      <th>392</th>\n",
              "      <td>Prof</td>\n",
              "      <td>A</td>\n",
              "      <td>33</td>\n",
              "      <td>30</td>\n",
              "      <td>Male</td>\n",
              "      <td>103106</td>\n",
              "    </tr>\n",
              "    <tr>\n",
              "      <th>393</th>\n",
              "      <td>Prof</td>\n",
              "      <td>A</td>\n",
              "      <td>31</td>\n",
              "      <td>19</td>\n",
              "      <td>Male</td>\n",
              "      <td>150564</td>\n",
              "    </tr>\n",
              "    <tr>\n",
              "      <th>394</th>\n",
              "      <td>Prof</td>\n",
              "      <td>A</td>\n",
              "      <td>42</td>\n",
              "      <td>25</td>\n",
              "      <td>Male</td>\n",
              "      <td>101738</td>\n",
              "    </tr>\n",
              "    <tr>\n",
              "      <th>395</th>\n",
              "      <td>Prof</td>\n",
              "      <td>A</td>\n",
              "      <td>25</td>\n",
              "      <td>15</td>\n",
              "      <td>Male</td>\n",
              "      <td>95329</td>\n",
              "    </tr>\n",
              "    <tr>\n",
              "      <th>396</th>\n",
              "      <td>AsstProf</td>\n",
              "      <td>A</td>\n",
              "      <td>8</td>\n",
              "      <td>4</td>\n",
              "      <td>Male</td>\n",
              "      <td>81035</td>\n",
              "    </tr>\n",
              "  </tbody>\n",
              "</table>\n",
              "<p>397 rows × 6 columns</p>\n",
              "</div>"
            ],
            "text/plain": [
              "         rank discipline  yrs.since.phd  yrs.service   sex  salary\n",
              "0        Prof          B             19           18  Male  139750\n",
              "1        Prof          B             20           16  Male  173200\n",
              "2    AsstProf          B              4            3  Male   79750\n",
              "3        Prof          B             45           39  Male  115000\n",
              "4        Prof          B             40           41  Male  141500\n",
              "..        ...        ...            ...          ...   ...     ...\n",
              "392      Prof          A             33           30  Male  103106\n",
              "393      Prof          A             31           19  Male  150564\n",
              "394      Prof          A             42           25  Male  101738\n",
              "395      Prof          A             25           15  Male   95329\n",
              "396  AsstProf          A              8            4  Male   81035\n",
              "\n",
              "[397 rows x 6 columns]"
            ]
          },
          "metadata": {}
        }
      ]
    },
    {
      "cell_type": "markdown",
      "metadata": {
        "id": "4v-_HKS7jw4J"
      },
      "source": [
        "Let's look at how each variable interacts with another to see if there are any notable signs of **colinearity**. "
      ]
    },
    {
      "cell_type": "code",
      "metadata": {
        "colab": {
          "base_uri": "https://localhost:8080/",
          "height": 550
        },
        "id": "SOzaVaywjzd-",
        "outputId": "4c2bbd90-5ffd-4212-d41c-23161ce414e0"
      },
      "source": [
        "import seaborn as sns\n",
        "\n",
        "sns.pairplot(Salaries);"
      ],
      "execution_count": null,
      "outputs": [
        {
          "output_type": "display_data",
          "data": {
            "image/png": "[encoded data removed]",
            "text/plain": [
              "<Figure size 540x540 with 12 Axes>"
            ]
          },
          "metadata": {
            "needs_background": "light"
          }
        }
      ]
    },
    {
      "cell_type": "markdown",
      "metadata": {
        "id": "ZuNmVIaLrnt6"
      },
      "source": [
        "Looking at the pair-wise plot, we can see there appears to be \"colinearity\" between `yrs.service` and `yrs.since.phd`. This is to be expected as professors usually only become professors after completing a PhD."
      ]
    },
    {
      "cell_type": "markdown",
      "metadata": {
        "id": "47MJEn1wpv5X"
      },
      "source": [
        "## Correlation Matrix\n",
        "\n",
        "An alternative to the pair-wise plot is to use a **correlation matrix**. This correlation matrix stores the values of strength between variables. "
      ]
    },
    {
      "cell_type": "code",
      "metadata": {
        "colab": {
          "base_uri": "https://localhost:8080/",
          "height": 142
        },
        "id": "XsbcmwuSpvXV",
        "outputId": "45ba0b92-69a0-46e3-fac0-1234cab5c3b3"
      },
      "source": [
        "round(Salaries.corr(), 2)"
      ],
      "execution_count": null,
      "outputs": [
        {
          "output_type": "execute_result",
          "data": {
            "text/html": [
              "<div>\n",
              "<style scoped>\n",
              "    .dataframe tbody tr th:only-of-type {\n",
              "        vertical-align: middle;\n",
              "    }\n",
              "\n",
              "    .dataframe tbody tr th {\n",
              "        vertical-align: top;\n",
              "    }\n",
              "\n",
              "    .dataframe thead th {\n",
              "        text-align: right;\n",
              "    }\n",
              "</style>\n",
              "<table border=\"1\" class=\"dataframe\">\n",
              "  <thead>\n",
              "    <tr style=\"text-align: right;\">\n",
              "      <th></th>\n",
              "      <th>yrs.since.phd</th>\n",
              "      <th>yrs.service</th>\n",
              "      <th>salary</th>\n",
              "    </tr>\n",
              "  </thead>\n",
              "  <tbody>\n",
              "    <tr>\n",
              "      <th>yrs.since.phd</th>\n",
              "      <td>1.00</td>\n",
              "      <td>0.91</td>\n",
              "      <td>0.42</td>\n",
              "    </tr>\n",
              "    <tr>\n",
              "      <th>yrs.service</th>\n",
              "      <td>0.91</td>\n",
              "      <td>1.00</td>\n",
              "      <td>0.33</td>\n",
              "    </tr>\n",
              "    <tr>\n",
              "      <th>salary</th>\n",
              "      <td>0.42</td>\n",
              "      <td>0.33</td>\n",
              "      <td>1.00</td>\n",
              "    </tr>\n",
              "  </tbody>\n",
              "</table>\n",
              "</div>"
            ],
            "text/plain": [
              "               yrs.since.phd  yrs.service  salary\n",
              "yrs.since.phd           1.00         0.91    0.42\n",
              "yrs.service             0.91         1.00    0.33\n",
              "salary                  0.42         0.33    1.00"
            ]
          },
          "metadata": {},
          "execution_count": 37
        }
      ]
    },
    {
      "cell_type": "markdown",
      "metadata": {
        "id": "V7rPTPJ3qCnA"
      },
      "source": [
        "In the case of Salaries, we have a slightly high correlation of `0.91` between `yrs.since.phd` and `yrs.service`. So, we have further confirmed our initial visual findings."
      ]
    },
    {
      "cell_type": "markdown",
      "metadata": {
        "id": "wm7TkCZNrHIT"
      },
      "source": [
        "## Fitting a model"
      ]
    },
    {
      "cell_type": "markdown",
      "metadata": {
        "id": "wr54NFbAkM5g"
      },
      "source": [
        "Note, when we imported `Salaries`, the variable names contained a period."
      ]
    },
    {
      "cell_type": "code",
      "metadata": {
        "colab": {
          "base_uri": "https://localhost:8080/"
        },
        "id": "pAILh0lfkNwy",
        "outputId": "15a6e4f7-1564-48f6-9f29-a258f394fd44"
      },
      "source": [
        "Salaries.columns"
      ],
      "execution_count": null,
      "outputs": [
        {
          "output_type": "execute_result",
          "data": {
            "text/plain": [
              "Index(['rank', 'discipline', 'yrs.since.phd', 'yrs.service', 'sex', 'salary'], dtype='object')"
            ]
          },
          "metadata": {},
          "execution_count": 38
        }
      ]
    },
    {
      "cell_type": "markdown",
      "metadata": {
        "id": "SkNGhc2pobs7"
      },
      "source": [
        "Because some of the variable names contain a period, we need to quote any variable using a period with `Q(\" \")` inside of our regression formula ([This is due to a parsing issue](https://patsy.readthedocs.io/en/latest/builtins-reference.html#patsy.builtins.Q)). In this case, we can fit a model between `Salary` and `yrs.since.phd`."
      ]
    },
    {
      "cell_type": "code",
      "metadata": {
        "colab": {
          "base_uri": "https://localhost:8080/"
        },
        "id": "KJxD1BdQjvhW",
        "outputId": "a6749ec9-1fee-4a0f-9ea2-ef1f76c7d3e4"
      },
      "source": [
        "results = smf.ols('salary ~ Q(\"yrs.since.phd\")', data = Salaries).fit()\n",
        "results.params"
      ],
      "execution_count": null,
      "outputs": [
        {
          "output_type": "execute_result",
          "data": {
            "text/plain": [
              "Intercept             91718.685447\n",
              "Q(\"yrs.since.phd\")      985.342124\n",
              "dtype: float64"
            ]
          },
          "metadata": {},
          "execution_count": 39
        }
      ]
    },
    {
      "cell_type": "markdown",
      "metadata": {
        "id": "t6fb6lQSid5C"
      },
      "source": [
        "We can extract out the model parameter estimated and incorporate them as a description within our own model. Using our mathematical notation for linear regression, we have:\n",
        "\n",
        "$$\\hat{\\text{salary}} = 91,718.7 + 985.3 \\cdot \\text{yrs.since.phd}$$\n",
        "\n",
        "where $\\beta_0 = 91,718.7$ and $\\beta_1 = 985.3$.\n"
      ]
    },
    {
      "cell_type": "markdown",
      "metadata": {
        "id": "azTuvExkklRH"
      },
      "source": [
        "## Your Turn: Interpreting Output \n",
        "\n",
        "What would this model predict for the salary of a professor who had just finished their PhD?\n"
      ]
    },
    {
      "cell_type": "code",
      "metadata": {
        "id": "-vBSalNIo74S"
      },
      "source": [
        "## code here"
      ],
      "execution_count": null,
      "outputs": []
    },
    {
      "cell_type": "markdown",
      "metadata": {
        "id": "-EjO49hmkmiK"
      },
      "source": [
        "\n",
        "What does the model predict for a professor who has had their PhD for 51 years?\n",
        "\n"
      ]
    },
    {
      "cell_type": "markdown",
      "metadata": {
        "id": "hHKySkZSktWN"
      },
      "source": [
        "---\n",
        "\n",
        "answer\n",
        "\n",
        "---"
      ]
    },
    {
      "cell_type": "markdown",
      "metadata": {
        "id": "YRCT4F5bqGF6"
      },
      "source": [
        "## Multiple Variables\n",
        "\n",
        "Once we use more than one variable within the regression, we move from doing \"simple\" linear regression to \"multiple\" linear regressions. We will still use one quantitative response variable $Y$, but now we will incorporate more than one explanatory variable, e.g. $x_{1}, x_{2}$ where $j$ refers to the variable. \n",
        "\n",
        "\n",
        "$$Y = \\beta_0 + \\beta_1 \\cdot X_1 + \\beta_2 \\cdot X_2 + \\cdots + \\beta_p \\cdot X_p + \\epsilon, \\text{ where } \\epsilon \\sim N(0, \\sigma_\\epsilon)$$\n"
      ]
    },
    {
      "cell_type": "markdown",
      "metadata": {
        "id": "e7YMVbJOtJk3"
      },
      "source": [
        "For instance, if we wanted to model `salary` based on `yrs.since.phd` and `yrs.service`, we would use:"
      ]
    },
    {
      "cell_type": "code",
      "metadata": {
        "colab": {
          "base_uri": "https://localhost:8080/"
        },
        "id": "6fx5ec6ZtCKD",
        "outputId": "ad97f495-4757-4ded-a830-985a0c26a872"
      },
      "source": [
        "results = smf.ols('salary ~ Q(\"yrs.since.phd\") + Q(\"yrs.service\")', data = Salaries).fit()\n",
        "results.params"
      ],
      "execution_count": null,
      "outputs": [
        {
          "output_type": "execute_result",
          "data": {
            "text/plain": [
              "Intercept             89912.184464\n",
              "Q(\"yrs.since.phd\")     1562.888902\n",
              "Q(\"yrs.service\")       -629.101389\n",
              "dtype: float64"
            ]
          },
          "metadata": {},
          "execution_count": 41
        }
      ]
    },
    {
      "cell_type": "markdown",
      "metadata": {
        "id": "DY-BA70snz-8"
      },
      "source": [
        "### Exploiting Categorical Variables"
      ]
    },
    {
      "cell_type": "markdown",
      "metadata": {
        "id": "Qq1XxEMLn2a6"
      },
      "source": [
        "Within the `Salaries` data set, we have a few categorical variables such as: `rank`, `discipline`, and `sex`. These variables can be identifed using `.info()` \n",
        "\n"
      ]
    },
    {
      "cell_type": "code",
      "metadata": {
        "colab": {
          "base_uri": "https://localhost:8080/"
        },
        "id": "WcNDYldXn_EC",
        "outputId": "49e53683-69e7-4323-b71c-4ea1ffaa095d"
      },
      "source": [
        "Salaries.info()"
      ],
      "execution_count": null,
      "outputs": [
        {
          "output_type": "stream",
          "name": "stdout",
          "text": [
            "<class 'pandas.core.frame.DataFrame'>\n",
            "RangeIndex: 397 entries, 0 to 396\n",
            "Data columns (total 6 columns):\n",
            " #   Column         Non-Null Count  Dtype \n",
            "---  ------         --------------  ----- \n",
            " 0   rank           397 non-null    object\n",
            " 1   discipline     397 non-null    object\n",
            " 2   yrs.since.phd  397 non-null    int64 \n",
            " 3   yrs.service    397 non-null    int64 \n",
            " 4   sex            397 non-null    object\n",
            " 5   salary         397 non-null    int64 \n",
            "dtypes: int64(3), object(3)\n",
            "memory usage: 18.7+ KB\n"
          ]
        }
      ]
    },
    {
      "cell_type": "markdown",
      "metadata": {
        "id": "Dzrt7zvRoPjr"
      },
      "source": [
        "Let's refit a model to the `Salaries` data set that takes into account the `rank` of the professor. Before we begin, let's look at the levels available within this variable:"
      ]
    },
    {
      "cell_type": "code",
      "metadata": {
        "colab": {
          "base_uri": "https://localhost:8080/"
        },
        "id": "nn21OBnZoiYv",
        "outputId": "80ae0ce0-68e5-4c3f-c393-b94d1d112997"
      },
      "source": [
        "Salaries['rank'].value_counts()"
      ],
      "execution_count": null,
      "outputs": [
        {
          "output_type": "execute_result",
          "data": {
            "text/plain": [
              "Prof         266\n",
              "AsstProf      67\n",
              "AssocProf     64\n",
              "Name: rank, dtype: int64"
            ]
          },
          "metadata": {},
          "execution_count": 43
        }
      ]
    },
    {
      "cell_type": "markdown",
      "metadata": {
        "id": "k1DbWpNEouiT"
      },
      "source": [
        "When we go to fit a new **multiple** linear regression, we just add the variable after the first variable using `+`. For example:"
      ]
    },
    {
      "cell_type": "code",
      "metadata": {
        "colab": {
          "base_uri": "https://localhost:8080/"
        },
        "id": "A1qcwrh1oVP7",
        "outputId": "f08e092d-3ed8-4112-98a4-3ceb3e56dbda"
      },
      "source": [
        "results = smf.ols('salary ~ Q(\"yrs.since.phd\") + rank', data = Salaries).fit()\n",
        "results.params"
      ],
      "execution_count": null,
      "outputs": [
        {
          "output_type": "execute_result",
          "data": {
            "text/plain": [
              "Intercept             95118.411050\n",
              "rank[T.AsstProf]     -13932.177163\n",
              "rank[T.Prof]          33928.240195\n",
              "Q(\"yrs.since.phd\")      -80.370381\n",
              "dtype: float64"
            ]
          },
          "metadata": {},
          "execution_count": 44
        }
      ]
    },
    {
      "cell_type": "markdown",
      "metadata": {
        "id": "YIxDrs7_ocY0"
      },
      "source": [
        "However, when we look at the coefficients estimated, we notice that one rank is missing. Or is it? "
      ]
    },
    {
      "cell_type": "markdown",
      "metadata": {
        "id": "rSXL_JaSpCrg"
      },
      "source": [
        "In reality, the `Assoc` professor is included in the `intercept` as part of a **baseline** comparison. As a result, we're left with two \"dummy\" variables that cover the space."
      ]
    },
    {
      "cell_type": "markdown",
      "metadata": {
        "id": "uU6EfF9gn93N"
      },
      "source": [
        "$$\\text{rankAsstProf} = \\left\\{ \\begin{array}{ll}\n",
        "1 \\text{ if AsstProf} \\\\\n",
        "0 \\text{ otherwise}\n",
        "\\end{array}\n",
        "\\right. \\text{ and  } \n",
        "\\text{rankProf} = \\left\\{ \\begin{array}{ll}\n",
        "1 \\text{ if Prof} \\\\\n",
        "0 \\text{ otherwise}\n",
        "\\end{array}\n",
        "\\right.$$"
      ]
    },
    {
      "cell_type": "markdown",
      "metadata": {
        "id": "X4jYxUqFpLQP"
      },
      "source": [
        "### Aside: Pandas Dummy Variables \n",
        "\n",
        "We can automatically generate dummy variables using `pandas`:"
      ]
    },
    {
      "cell_type": "code",
      "metadata": {
        "colab": {
          "base_uri": "https://localhost:8080/",
          "height": 204
        },
        "id": "02JeXzwnnFYd",
        "outputId": "4f7319aa-1eed-45a4-f635-50a0b9c5e0a6"
      },
      "source": [
        "rank_levels = pd.get_dummies(Salaries['rank'])\n",
        "rank_levels.head(5)"
      ],
      "execution_count": null,
      "outputs": [
        {
          "output_type": "execute_result",
          "data": {
            "text/html": [
              "<div>\n",
              "<style scoped>\n",
              "    .dataframe tbody tr th:only-of-type {\n",
              "        vertical-align: middle;\n",
              "    }\n",
              "\n",
              "    .dataframe tbody tr th {\n",
              "        vertical-align: top;\n",
              "    }\n",
              "\n",
              "    .dataframe thead th {\n",
              "        text-align: right;\n",
              "    }\n",
              "</style>\n",
              "<table border=\"1\" class=\"dataframe\">\n",
              "  <thead>\n",
              "    <tr style=\"text-align: right;\">\n",
              "      <th></th>\n",
              "      <th>AssocProf</th>\n",
              "      <th>AsstProf</th>\n",
              "      <th>Prof</th>\n",
              "    </tr>\n",
              "  </thead>\n",
              "  <tbody>\n",
              "    <tr>\n",
              "      <th>0</th>\n",
              "      <td>0</td>\n",
              "      <td>0</td>\n",
              "      <td>1</td>\n",
              "    </tr>\n",
              "    <tr>\n",
              "      <th>1</th>\n",
              "      <td>0</td>\n",
              "      <td>0</td>\n",
              "      <td>1</td>\n",
              "    </tr>\n",
              "    <tr>\n",
              "      <th>2</th>\n",
              "      <td>0</td>\n",
              "      <td>1</td>\n",
              "      <td>0</td>\n",
              "    </tr>\n",
              "    <tr>\n",
              "      <th>3</th>\n",
              "      <td>0</td>\n",
              "      <td>0</td>\n",
              "      <td>1</td>\n",
              "    </tr>\n",
              "    <tr>\n",
              "      <th>4</th>\n",
              "      <td>0</td>\n",
              "      <td>0</td>\n",
              "      <td>1</td>\n",
              "    </tr>\n",
              "  </tbody>\n",
              "</table>\n",
              "</div>"
            ],
            "text/plain": [
              "   AssocProf  AsstProf  Prof\n",
              "0          0         0     1\n",
              "1          0         0     1\n",
              "2          0         1     0\n",
              "3          0         0     1\n",
              "4          0         0     1"
            ]
          },
          "metadata": {},
          "execution_count": 45
        }
      ]
    },
    {
      "cell_type": "markdown",
      "metadata": {
        "id": "_9ke_LdzsHXy"
      },
      "source": [
        "\\begin{eqnarray*}\n",
        "\\begin{pmatrix}\n",
        "Prof \\\\\n",
        "Prof\\\\\n",
        "AsstProf\\\\\n",
        "Prof\\\\\n",
        "Prof\\\\\n",
        "AssocProf\n",
        "\\end{pmatrix} \\rightarrow \n",
        "AsstProf = \\begin{pmatrix}\n",
        "0 \\\\\n",
        "0 \\\\\n",
        "1 \\\\\n",
        "0 \\\\\n",
        "0 \\\\\n",
        "0\n",
        "\\end{pmatrix},\n",
        "AssocProf =  \\begin{pmatrix}\n",
        "0 \\\\\n",
        "0 \\\\\n",
        "0 \\\\\n",
        "0 \\\\\n",
        "0 \\\\\n",
        "1\n",
        "\\end{pmatrix},\n",
        "Prof = \n",
        " \\begin{pmatrix}\n",
        "1 \\\\\n",
        "1 \\\\\n",
        "0 \\\\\n",
        "1 \\\\\n",
        "1 \\\\\n",
        "0\n",
        "\\end{pmatrix}\n",
        "\\end{eqnarray*}\n"
      ]
    },
    {
      "cell_type": "markdown",
      "metadata": {
        "id": "yf8pygVLpY5v"
      },
      "source": [
        "If we wanted to change the _base-line_, then we would need to modify the design matrix:"
      ]
    },
    {
      "cell_type": "code",
      "metadata": {
        "colab": {
          "base_uri": "https://localhost:8080/",
          "height": 142
        },
        "id": "BS01c2gtskOr",
        "outputId": "ed47480a-f3e5-48e9-d0b8-31aa13324f82"
      },
      "source": [
        "rank_levels.drop(columns='AsstProf', inplace=True)\n",
        "rank_levels.head(3)"
      ],
      "execution_count": null,
      "outputs": [
        {
          "output_type": "execute_result",
          "data": {
            "text/html": [
              "<div>\n",
              "<style scoped>\n",
              "    .dataframe tbody tr th:only-of-type {\n",
              "        vertical-align: middle;\n",
              "    }\n",
              "\n",
              "    .dataframe tbody tr th {\n",
              "        vertical-align: top;\n",
              "    }\n",
              "\n",
              "    .dataframe thead th {\n",
              "        text-align: right;\n",
              "    }\n",
              "</style>\n",
              "<table border=\"1\" class=\"dataframe\">\n",
              "  <thead>\n",
              "    <tr style=\"text-align: right;\">\n",
              "      <th></th>\n",
              "      <th>AssocProf</th>\n",
              "      <th>Prof</th>\n",
              "    </tr>\n",
              "  </thead>\n",
              "  <tbody>\n",
              "    <tr>\n",
              "      <th>0</th>\n",
              "      <td>0</td>\n",
              "      <td>1</td>\n",
              "    </tr>\n",
              "    <tr>\n",
              "      <th>1</th>\n",
              "      <td>0</td>\n",
              "      <td>1</td>\n",
              "    </tr>\n",
              "    <tr>\n",
              "      <th>2</th>\n",
              "      <td>0</td>\n",
              "      <td>0</td>\n",
              "    </tr>\n",
              "  </tbody>\n",
              "</table>\n",
              "</div>"
            ],
            "text/plain": [
              "   AssocProf  Prof\n",
              "0          0     1\n",
              "1          0     1\n",
              "2          0     0"
            ]
          },
          "metadata": {},
          "execution_count": 46
        }
      ]
    },
    {
      "cell_type": "markdown",
      "metadata": {
        "id": "z2N43BgCvfGU"
      },
      "source": [
        "Now, the `AsstProf` is the **baseline** value that `AssocProf` and `Prof` are compared to."
      ]
    },
    {
      "cell_type": "markdown",
      "metadata": {
        "id": "GHUFMfkswXtt"
      },
      "source": [
        "## Kitchen Sink Model \n"
      ]
    },
    {
      "cell_type": "markdown",
      "metadata": {
        "id": "wqtGuhLwwesU"
      },
      "source": [
        "In a \"kitchen sink\" model, we seek to fit all parameters inside of the data frame."
      ]
    },
    {
      "cell_type": "code",
      "metadata": {
        "colab": {
          "base_uri": "https://localhost:8080/"
        },
        "id": "ZK5-4WAjwb_X",
        "outputId": "287bd8c1-82ce-4c0d-abbf-4a879e1f992c"
      },
      "source": [
        "results = smf.ols('salary ~ Q(\"yrs.since.phd\") + Q(\"yrs.service\") + rank + sex + discipline', data = Salaries).fit()\n",
        "\n",
        "kitchen_sink_model = results.summary()\n",
        "\n",
        "print(kitchen_sink_model)"
      ],
      "execution_count": null,
      "outputs": [
        {
          "output_type": "stream",
          "name": "stdout",
          "text": [
            "                            OLS Regression Results                            \n",
            "==============================================================================\n",
            "Dep. Variable:                 salary   R-squared:                       0.455\n",
            "Model:                            OLS   Adj. R-squared:                  0.446\n",
            "Method:                 Least Squares   F-statistic:                     54.20\n",
            "Date:                Sat, 13 Nov 2021   Prob (F-statistic):           1.79e-48\n",
            "Time:                        19:33:28   Log-Likelihood:                -4538.9\n",
            "No. Observations:                 397   AIC:                             9092.\n",
            "Df Residuals:                     390   BIC:                             9120.\n",
            "Df Model:                           6                                         \n",
            "Covariance Type:            nonrobust                                         \n",
            "======================================================================================\n",
            "                         coef    std err          t      P>|t|      [0.025      0.975]\n",
            "--------------------------------------------------------------------------------------\n",
            "Intercept           7.886e+04   4990.326     15.803      0.000    6.91e+04    8.87e+04\n",
            "rank[T.AsstProf]   -1.291e+04   4145.278     -3.114      0.002   -2.11e+04   -4757.700\n",
            "rank[T.Prof]        3.216e+04   3540.647      9.083      0.000    2.52e+04    3.91e+04\n",
            "sex[T.Male]         4783.4928   3858.668      1.240      0.216   -2802.901    1.24e+04\n",
            "discipline[T.B]     1.442e+04   2342.875      6.154      0.000    9811.380     1.9e+04\n",
            "Q(\"yrs.since.phd\")   535.0583    240.994      2.220      0.027      61.248    1008.869\n",
            "Q(\"yrs.service\")    -489.5157    211.938     -2.310      0.021    -906.199     -72.833\n",
            "==============================================================================\n",
            "Omnibus:                       46.385   Durbin-Watson:                   1.919\n",
            "Prob(Omnibus):                  0.000   Jarque-Bera (JB):               82.047\n",
            "Skew:                           0.699   Prob(JB):                     1.53e-18\n",
            "Kurtosis:                       4.733   Cond. No.                         183.\n",
            "==============================================================================\n",
            "\n",
            "Warnings:\n",
            "[1] Standard Errors assume that the covariance matrix of the errors is correctly specified.\n"
          ]
        }
      ]
    },
    {
      "cell_type": "markdown",
      "metadata": {
        "id": "orSFm1-ppF4s"
      },
      "source": [
        "## Your Turn: Fitting a New Model\n",
        "\n",
        "In the prior model, we focused on comparing `Salary` against `yrs.since.phd`. In the next model, please compare `Salary` against `yrs.service`."
      ]
    },
    {
      "cell_type": "code",
      "metadata": {
        "id": "VGdPvggipCX5"
      },
      "source": [
        "## code here"
      ],
      "execution_count": null,
      "outputs": []
    },
    {
      "cell_type": "markdown",
      "metadata": {
        "id": "7cGVowrEkn7S"
      },
      "source": [
        "What was the observed salary value for the person with 51 years of experience?\n",
        "\n"
      ]
    },
    {
      "cell_type": "code",
      "metadata": {
        "id": "KBxyumDvpXgR"
      },
      "source": [
        "## code here"
      ],
      "execution_count": null,
      "outputs": []
    },
    {
      "cell_type": "markdown",
      "metadata": {
        "id": "9ReNcp7plngg"
      },
      "source": [
        "# Your Turn: Modeling Palmer Penguins \n",
        "\n",
        "\n",
        "\n"
      ]
    },
    {
      "cell_type": "markdown",
      "metadata": {
        "id": "mJZuf0_antBc"
      },
      "source": [
        "In this exercise, we return the Palmer Penguin data set."
      ]
    },
    {
      "cell_type": "code",
      "metadata": {
        "colab": {
          "base_uri": "https://localhost:8080/",
          "height": 204
        },
        "id": "_NsKaT4FnwPC",
        "outputId": "da120f0c-fd59-43f2-fc5e-85def0e595f7"
      },
      "source": [
        "import seaborn as sns\n",
        "penguins = sns.load_dataset(\"penguins\")\n",
        "\n",
        "penguins.head()"
      ],
      "execution_count": null,
      "outputs": [
        {
          "output_type": "execute_result",
          "data": {
            "text/html": [
              "<div>\n",
              "<style scoped>\n",
              "    .dataframe tbody tr th:only-of-type {\n",
              "        vertical-align: middle;\n",
              "    }\n",
              "\n",
              "    .dataframe tbody tr th {\n",
              "        vertical-align: top;\n",
              "    }\n",
              "\n",
              "    .dataframe thead th {\n",
              "        text-align: right;\n",
              "    }\n",
              "</style>\n",
              "<table border=\"1\" class=\"dataframe\">\n",
              "  <thead>\n",
              "    <tr style=\"text-align: right;\">\n",
              "      <th></th>\n",
              "      <th>species</th>\n",
              "      <th>island</th>\n",
              "      <th>bill_length_mm</th>\n",
              "      <th>bill_depth_mm</th>\n",
              "      <th>flipper_length_mm</th>\n",
              "      <th>body_mass_g</th>\n",
              "      <th>sex</th>\n",
              "    </tr>\n",
              "  </thead>\n",
              "  <tbody>\n",
              "    <tr>\n",
              "      <th>0</th>\n",
              "      <td>Adelie</td>\n",
              "      <td>Torgersen</td>\n",
              "      <td>39.1</td>\n",
              "      <td>18.7</td>\n",
              "      <td>181.0</td>\n",
              "      <td>3750.0</td>\n",
              "      <td>Male</td>\n",
              "    </tr>\n",
              "    <tr>\n",
              "      <th>1</th>\n",
              "      <td>Adelie</td>\n",
              "      <td>Torgersen</td>\n",
              "      <td>39.5</td>\n",
              "      <td>17.4</td>\n",
              "      <td>186.0</td>\n",
              "      <td>3800.0</td>\n",
              "      <td>Female</td>\n",
              "    </tr>\n",
              "    <tr>\n",
              "      <th>2</th>\n",
              "      <td>Adelie</td>\n",
              "      <td>Torgersen</td>\n",
              "      <td>40.3</td>\n",
              "      <td>18.0</td>\n",
              "      <td>195.0</td>\n",
              "      <td>3250.0</td>\n",
              "      <td>Female</td>\n",
              "    </tr>\n",
              "    <tr>\n",
              "      <th>3</th>\n",
              "      <td>Adelie</td>\n",
              "      <td>Torgersen</td>\n",
              "      <td>NaN</td>\n",
              "      <td>NaN</td>\n",
              "      <td>NaN</td>\n",
              "      <td>NaN</td>\n",
              "      <td>NaN</td>\n",
              "    </tr>\n",
              "    <tr>\n",
              "      <th>4</th>\n",
              "      <td>Adelie</td>\n",
              "      <td>Torgersen</td>\n",
              "      <td>36.7</td>\n",
              "      <td>19.3</td>\n",
              "      <td>193.0</td>\n",
              "      <td>3450.0</td>\n",
              "      <td>Female</td>\n",
              "    </tr>\n",
              "  </tbody>\n",
              "</table>\n",
              "</div>"
            ],
            "text/plain": [
              "  species     island  bill_length_mm  ...  flipper_length_mm  body_mass_g     sex\n",
              "0  Adelie  Torgersen            39.1  ...              181.0       3750.0    Male\n",
              "1  Adelie  Torgersen            39.5  ...              186.0       3800.0  Female\n",
              "2  Adelie  Torgersen            40.3  ...              195.0       3250.0  Female\n",
              "3  Adelie  Torgersen             NaN  ...                NaN          NaN     NaN\n",
              "4  Adelie  Torgersen            36.7  ...              193.0       3450.0  Female\n",
              "\n",
              "[5 rows x 7 columns]"
            ]
          },
          "metadata": {},
          "execution_count": 50
        }
      ]
    },
    {
      "cell_type": "markdown",
      "metadata": {
        "id": "NvKda71Yl5aT"
      },
      "source": [
        "## a: Fit a Simple Linear Regression\n",
        "\n",
        "Fit a simple linear regression between `body_mass_g` (y) and `flipper_length_mm` (x)  and look at the model summary:\n"
      ]
    },
    {
      "cell_type": "code",
      "metadata": {
        "id": "b81O85B6l1qj"
      },
      "source": [
        "## code here"
      ],
      "execution_count": null,
      "outputs": []
    },
    {
      "cell_type": "markdown",
      "metadata": {
        "id": "EMILIg_8mQwe"
      },
      "source": [
        "What is the equation of the fitted model?"
      ]
    },
    {
      "cell_type": "markdown",
      "metadata": {
        "id": "V2dIt0n8mTF6"
      },
      "source": [
        "---\n",
        "\n",
        "answer\n",
        "\n",
        "---"
      ]
    },
    {
      "cell_type": "markdown",
      "metadata": {
        "id": "cez08TzJmWhc"
      },
      "source": [
        "## b: Interpret Model Parameters \n",
        "\n",
        "Interpret the slope and the intercept. That is, for every 1-unit change in `flipper_length_mm` what happens? \n",
        "\n"
      ]
    },
    {
      "cell_type": "markdown",
      "metadata": {
        "id": "vkq5tNZDmmfW"
      },
      "source": [
        "---\n",
        "\n",
        "answer\n",
        "\n",
        "---"
      ]
    },
    {
      "cell_type": "markdown",
      "metadata": {
        "id": "QwbwyV4Wmk1f"
      },
      "source": [
        "Are the coefficients significant?"
      ]
    },
    {
      "cell_type": "markdown",
      "metadata": {
        "id": "rWE19iEWmq9B"
      },
      "source": [
        "## c: Creating Predictions\n",
        "\n",
        "If we had two additional penguins added to the data set with Flipper Length equivalent to 175 and 200 mm respectively, what would their body mass be?"
      ]
    },
    {
      "cell_type": "code",
      "metadata": {
        "id": "6nq34P3Gm-Jk"
      },
      "source": [
        "## Code here"
      ],
      "execution_count": null,
      "outputs": []
    },
    {
      "cell_type": "markdown",
      "metadata": {
        "id": "uGa0NcS0nDzh"
      },
      "source": [
        "## d: Residuals \n",
        "\n",
        "Confirm that the mean of residuals generated by the model is zero. "
      ]
    },
    {
      "cell_type": "code",
      "metadata": {
        "id": "3QYgPaoRnLrp"
      },
      "source": [
        "## Code here"
      ],
      "execution_count": null,
      "outputs": []
    },
    {
      "cell_type": "markdown",
      "metadata": {
        "id": "UiEAqpu_nOCy"
      },
      "source": [
        "## e: Your favorite Model\n",
        "\n",
        "Please try fitting a slightly more complex model that includes at least 2 or more independent variables ($x_1$, $x_2$, ... )."
      ]
    },
    {
      "cell_type": "code",
      "metadata": {
        "id": "3ZS6TwiIndVf"
      },
      "source": [
        "### "
      ],
      "execution_count": null,
      "outputs": []
    },
    {
      "cell_type": "markdown",
      "metadata": {
        "id": "EEYf6DtUneHy"
      },
      "source": [
        "How does youre model perform? "
      ]
    },
    {
      "cell_type": "markdown",
      "metadata": {
        "id": "9z1qCEXanfs0"
      },
      "source": [
        "----\n",
        "\n",
        "answer \n",
        "\n",
        "--- "
      ]
    },
    {
      "cell_type": "markdown",
      "metadata": {
        "id": "cuBKZcUmcWPm"
      },
      "source": [
        "# Your Turn: Diving into Residuals\n",
        "\n",
        "Consider the `surreal_residual` data set found here:\n",
        "\n",
        "<https://raw.githubusercontent.com/inmas-training/fa21-statistical-methods-workshop/main/data/surreal-residuals.csv>\n",
        "\n",
        "The data set contains 7 variables. The first variable is the response and the remaining variables in columns 2 - 7 contain the predictors. \n",
        "\n"
      ]
    },
    {
      "cell_type": "markdown",
      "metadata": {
        "id": "_j90XPXBYpn_"
      },
      "source": [
        "## a: Data import \n",
        "\n",
        "Please import the data into Python using pandas."
      ]
    },
    {
      "cell_type": "code",
      "metadata": {
        "id": "oO6HaebKcu80"
      },
      "source": [
        "## code here"
      ],
      "execution_count": null,
      "outputs": []
    },
    {
      "cell_type": "markdown",
      "metadata": {
        "id": "vEZElVfyYyOf"
      },
      "source": [
        "## b: Pair-wise plot \n",
        "\n",
        "Construct a pair-wise graph using seaborn's [`sns.pairplot()`](https://seaborn.pydata.org/generated/seaborn.pairplot.html). Comment if any values look abnormal."
      ]
    },
    {
      "cell_type": "code",
      "metadata": {
        "id": "bGBJ5kYQWp42"
      },
      "source": [
        "## code here"
      ],
      "execution_count": null,
      "outputs": []
    },
    {
      "cell_type": "markdown",
      "metadata": {
        "id": "BvzkNx5mY6u8"
      },
      "source": [
        "## c: Fit Multiple Linear Regression \n",
        "\n",
        "Fit a model using the variable in the first column as the response and columns 2 - 7 as the response. Please ensure that the model contains an intercept"
      ]
    },
    {
      "cell_type": "code",
      "metadata": {
        "id": "NpHQYSGZhAQI"
      },
      "source": [
        "## code here"
      ],
      "execution_count": null,
      "outputs": []
    },
    {
      "cell_type": "markdown",
      "metadata": {
        "id": "Zg_WXFW-ZpF4"
      },
      "source": [
        "## d: Model Overview\n",
        "\n",
        "Please show the estimated parameters of the model using the model summary feature of `statsmodels`. "
      ]
    },
    {
      "cell_type": "code",
      "metadata": {
        "id": "qX0r0AmwaVsM"
      },
      "source": [
        "## code here"
      ],
      "execution_count": null,
      "outputs": []
    },
    {
      "cell_type": "markdown",
      "metadata": {
        "id": "W4UEu5Txaa8K"
      },
      "source": [
        "Looking at the model overview, does there appear to be any issues? "
      ]
    },
    {
      "cell_type": "markdown",
      "metadata": {
        "id": "_wtd0jPUZJof"
      },
      "source": [
        "---\n",
        "\n",
        "answer\n",
        "\n",
        "---"
      ]
    },
    {
      "cell_type": "markdown",
      "metadata": {
        "id": "Ll2-NpP7af2P"
      },
      "source": [
        "## e: Compute and Visualize \n",
        "\n",
        "Please compute the predicted values and the resulting residuals.\n",
        "\n"
      ]
    },
    {
      "cell_type": "code",
      "metadata": {
        "id": "geqdNFRvVpUO"
      },
      "source": [
        "## code here"
      ],
      "execution_count": null,
      "outputs": []
    },
    {
      "cell_type": "markdown",
      "metadata": {
        "id": "7pStU1ihbKDo"
      },
      "source": [
        "## f: Visualizing Residuals \n",
        "\n",
        "Create a graph of the predicted values ($x$-axis) against the residuals ($y$-axis).\n"
      ]
    },
    {
      "cell_type": "code",
      "metadata": {
        "id": "WcHRBEmpfA4-"
      },
      "source": [
        "## code here"
      ],
      "execution_count": null,
      "outputs": []
    },
    {
      "cell_type": "markdown",
      "metadata": {
        "id": "sD13ay8UbaTS"
      },
      "source": [
        "What do you notice about the residual pattern? What does this indicate about the benefits of using a residual plot?"
      ]
    },
    {
      "cell_type": "markdown",
      "metadata": {
        "id": "RxlqEXpAbdCY"
      },
      "source": [
        "--- \n",
        "\n",
        "answer\n",
        "\n",
        "---"
      ]
    },
    {
      "cell_type": "markdown",
      "metadata": {
        "id": "dmU8BhqiU68k"
      },
      "source": [
        "# Derivation of Normal Equations"
      ]
    },
    {
      "cell_type": "markdown",
      "metadata": {
        "id": "41CA3l_y-5Ei"
      },
      "source": [
        "## Refresh of Matrix Derivatives\n",
        "\n",
        "Before beginning, it is helpful to know about matrix differentiation. So, let's\n",
        "quickly go over two differentiation rules for matrices that will be employed\n",
        "next.\n",
        "\n",
        "Consider vectors $\\mathbf{a}_{p \\times 1}$ and $\\mathbf{b}_{p \\times 1}$, then the\n",
        "derivative with respect to $\\mathbf{b}$ of the product is given as:\n",
        "\n",
        "$$\\frac{ {\\partial {\\mathbf{a}^\\top}\\mathbf{b} } }{ {\\partial \\mathbf{b} } } = \\frac{ {\\partial {\\mathbf{b}^\\top}\\mathbf{a} } }{ {\\partial \\mathbf{b} } } = \\mathbf{a}$$\n",
        "\n",
        "Now, consider the quadratic form (${\\mathbf{b}^\\top}A\\mathbf{b}$) with symmetric matrix $A_{pxp}$, then we have:\n",
        "\n",
        "$$\\frac{ {\\partial {\\mathbf{b}^\\top}A\\mathbf{b} } }{ {\\partial \\mathbf{b} } } = 2A\\mathbf{b} = 2 \\mathbf{b}^\\top A$$\n",
        "\n",
        "Note, if $A$ is not symmetric, then we can use:\n",
        "\n",
        "$$ {\\mathbf{b}^\\top}A\\mathbf{b} = \\mathbf{b}^{\\top}\\left( {\\left( {A + {A^\\top} } \\right)/2} \\right)\\mathbf{b}$$\n"
      ]
    },
    {
      "cell_type": "markdown",
      "metadata": {
        "id": "op7u1Ntr_WMu"
      },
      "source": [
        "## Derivation of Least Squares with Multiple Linear Regression (MLR)\n",
        "\n",
        "**Goal: Obtain the minimization of RSS.**\n",
        "\n",
        "$$\\hat \\beta  = \\mathop {\\arg \\min }\\limits_\\beta  {\\left\\| {y - X\\beta } \\right\\|^2}$$\n",
        "\n",
        "**Errors:** \n",
        "\n",
        "$$\\begin{aligned}\n",
        "  \\mathbf{e} &= \\mathbf{y} - \\mathbf{\\hat{y} } \\\\\n",
        "   &= \\mathbf{y} - X\\hat{\\beta}  \\\\ \n",
        "\\end{aligned} $$\n",
        "\n",
        "\n",
        "**RSS Definition:**\n",
        "\n",
        "$$\\begin{aligned}\n",
        "RSS &= {e^{\\top} }e = \\left[ {\\begin{array}{*{20}{c} }\n",
        "  { {e_1} }&{ {e_2} }& \\cdots &{ {e_N} } \n",
        "\\end{array} } \\right]_{1 \\times n}\\left[ {\\begin{array}{*{20}{c} }\n",
        "  { {e_1} } \\\\ \n",
        "  { {e_2} } \\\\ \n",
        "   \\vdots  \\\\ \n",
        "  { {e_N} } \n",
        "\\end{array} } \\right]_{n \\times 1} \\\\\n",
        "&= {\\left[ { {e_1} \\times {e_1} + {e_2} \\times {e_2} +  \\cdots  + {e_n} \\times {e_n} } \\right]_{1 \\times 1} } = \\sum\\limits_{i = 1}^n {e_i^2} \n",
        "\\end{aligned} $$\n",
        "\n",
        "**Note:** $e \\neq \\varepsilon$ since $e$ is the realization of $\\varepsilon$ from the regression procedure.\n",
        "\n",
        "**Expand RSS:**\n",
        "\n",
        "$$\\begin{aligned}\n",
        "  RSS &= {\\left( {y - X\\beta } \\right)^{\\top} }\\left( {y - X\\beta } \\right) \\\\\n",
        "   &= \\left( { {y^{\\top} } - {\\beta^{\\top} }{X^{\\top} } } \\right)\\left( {y - X\\beta } \\right) \\\\\n",
        "   &= {y^{\\top} }y - {\\beta^{\\top} }{X^{\\top} }y - {y^{\\top} }X\\beta  + {\\beta^{\\top} }{X^{\\top} }X\\beta  \\\\\n",
        "   &= {y^{\\top} }y - {\\left( { {\\beta^{\\top} }{X^{\\top} }y} \\right)^{\\top} } - {y^{\\top} }X\\beta  + {\\beta^{\\top} }{X^{\\top} }X\\beta  \\\\\n",
        "   &= {y^{\\top} }y - {y^{\\top} }X\\beta  - {y^{\\top} }X\\beta  + {\\beta^{\\top} }{X^{\\top} }X\\beta  \\\\\n",
        "   &= {y^{\\top} }y - 2{\\beta^{\\top} }{X^{\\top} }y + {\\beta^{\\top} }{X^{\\top} }X\\beta  \\\\\n",
        "\\end{aligned}$$\n",
        "\n",
        "**Note:** \n",
        "\n",
        "$$\\beta _{1 \\times p}^{\\top} X_{p \\times n}^{\\top} {y_{n \\times 1} } = {\\left( {\\beta _{1 \\times p}^{\\top} X_{p \\times n}^{\\top} {y_{n \\times 1} } } \\right)^{\\top} } = y_{1 \\times n}^{\\top} {X_{n \\times p} }{\\beta _{p \\times 1} }$$\n",
        "\n",
        "We are able to perform a transpose in place as the result is scalar. \n",
        "\n",
        "**Take the derivative with respect to $\\beta$:**\n",
        "\n",
        "$$\\begin{aligned}\n",
        "  RSS &= {y^{\\top} }y - 2{\\beta^{\\top} }{X^{\\top} }y + {\\beta^{\\top} }{X^{\\top} }X\\beta  \\\\\n",
        "  \\frac{ {\\partial RSS} }{ {\\partial \\beta } } &=  - 2{X^{\\top} }y + 2{X^{\\top} }X\\beta  \n",
        "\\end{aligned}$$\n",
        "\n",
        "**Set equal to zero and solve:**\n",
        "\n",
        "$$\\begin{aligned}\n",
        "  0 &=  - 2{X^{\\top} }y + 2{X^{\\top} }X\\beta  \\\\\n",
        "  2{X^{\\top} }X\\beta  &= 2{X^{\\top} }y \\\\\n",
        "  {X^{\\top} }X\\beta  &= {X^{\\top} }y \\\\\n",
        "  \\hat \\beta  &= {\\left( { {X^{\\top} }X} \\right)^{ - 1} }{X^{\\top} }y \n",
        "\\end{aligned}$$"
      ]
    }
  ]
}