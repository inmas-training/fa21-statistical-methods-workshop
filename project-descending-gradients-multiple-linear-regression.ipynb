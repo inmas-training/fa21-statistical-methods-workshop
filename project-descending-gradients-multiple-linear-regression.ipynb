{
  "nbformat": 4,
  "nbformat_minor": 0,
  "metadata": {
    "colab": {
      "name": "project-descending-gradients-multiple-linear-regression.ipynb",
      "provenance": [],
      "collapsed_sections": [],
      "authorship_tag": "ABX9TyP1c4UuEpnMUIpZxqNgbTER",
      "include_colab_link": true
    },
    "kernelspec": {
      "name": "python3",
      "display_name": "Python 3"
    },
    "language_info": {
      "name": "python"
    }
  },
  "cells": [
    {
      "cell_type": "markdown",
      "metadata": {
        "id": "view-in-github",
        "colab_type": "text"
      },
      "source": [
        "<a href=\"https://colab.research.google.com/github/inmas-training/fa21-statistical-methods-workshop/blob/main/project-descending-gradients-multiple-linear-regression.ipynb\" target=\"_parent\"><img src=\"https://colab.research.google.com/assets/colab-badge.svg\" alt=\"Open In Colab\"/></a>"
      ]
    },
    {
      "cell_type": "markdown",
      "metadata": {
        "id": "rWVLCAyv6bkE"
      },
      "source": [
        "## Your Turn: Descending Gradients\n",
        "\n",
        "The objective of this exercise is to expand simple linear regression to estimating multiple linear regression with parameters estimated by gradient descent.\n",
        "\n",
        "\n"
      ]
    },
    {
      "cell_type": "markdown",
      "metadata": {
        "id": "_ApjZcw6Divu"
      },
      "source": [
        "### (a) \n",
        "\n",
        "Design and implement a function that randomly generates a set of data and observed values for linear regression given dimensions and parameter values. Make sure to add \"noise\" to the predictions to avoid having a perfectly linear relationship and ensure that the first column of the design matrix contains only the value **1** so that the model has an intercept term.\n",
        "\n",
        "$$\\boldsymbol{Y} = \\boldsymbol{X}\\boldsymbol{\\beta} + \\boldsymbol{\\varepsilon}$$\n",
        "\n",
        "Implementation Guidelines:\n",
        "\n",
        "- **Arguments:**\n",
        "    - `n`: Number of Observations\n",
        "    - `theta`: A vector of true parameter values up to `p`.\n",
        "    - `noise`: A single value that adds distortion. \n",
        "    - `seed`: Value to generate the data under. \n",
        "- **Return:**\n",
        "    - `X` the design matrix of dimensions `n x p`, with the first column a series of 1s. \n",
        "    - `y` the values observed with added noise.\n",
        "\n",
        "_Hints:_\n",
        "\n",
        "- NumPy has a built in way of generating random data with [`np.random.randn(n, p)`](https://numpy.org/doc/stable/reference/random/generated/numpy.random.randn.html)\n",
        "- Moreover, to add a column, consider using [`np.append(new_col, data, 1)`](https://docs.scipy.org/doc/numpy/reference/generated/numpy.append.html).\n",
        "\n",
        "\n",
        "**Note:** _Python_ allows a function to return multiple values by having them prefixed by a comma `,` in the `return` statement. E.g. `return x1, x2` would return both `x1` and `x2`. These values may be unpacked and assigned individually on the same line as a function call:\n",
        "\n",
        "```\n",
        "output_x_1, output_x_2 = my_function()\n",
        "```"
      ]
    },
    {
      "cell_type": "code",
      "metadata": {
        "id": "DLrrMX_0S6Xm"
      },
      "source": [
        "## Code here"
      ],
      "execution_count": 1,
      "outputs": []
    },
    {
      "cell_type": "markdown",
      "metadata": {
        "id": "2_81cENrMzDf"
      },
      "source": [
        "### (b)\n",
        "Create a function that computes predictions under multiple linear regression.\n",
        "\n",
        "$$\\hat Y = X \\hat\\beta$$\n",
        "\n",
        "Implementation Guidelines:\n",
        "\n",
        "- **Arguments:**\n",
        "    - `X`: A design matrix of dimension `n x p`\n",
        "    - `theta`: A vector holding the parameters `p`.\n",
        "- **Return:**\n",
        "    - A vector of prediction length `n`.\n",
        "\n"
      ]
    },
    {
      "cell_type": "code",
      "metadata": {
        "id": "L2DSMYwdLj0_"
      },
      "source": [
        "## Code here"
      ],
      "execution_count": 2,
      "outputs": []
    },
    {
      "cell_type": "markdown",
      "metadata": {
        "id": "sKg3A3uSLO40"
      },
      "source": [
        "### (c) \n",
        "\n",
        "Implement the mean squared error cost function for multiple linear regression in Python.\n",
        "\n",
        "$$MSE(y_i, \\hat y_i) = \\frac{1}{n}\\sum_{i=1}^{n} \\left({y_i - \\hat y_i}\\right)^2$$\n",
        "\n",
        "Implementation Guidelines:\n",
        "\n",
        "- **Arguments:**\n",
        "    - `X`: A design matrix of dimension `n x p`\n",
        "    - `y`: Vector containing the actual values `n`.\n",
        "    - `theta`: A vector of parameter estimates `p`.\n",
        "- **Return:**\n",
        "    - Single value of cost."
      ]
    },
    {
      "cell_type": "code",
      "metadata": {
        "id": "aJN7uX_ZLpTQ"
      },
      "source": [
        "## Code here"
      ],
      "execution_count": 3,
      "outputs": []
    },
    {
      "cell_type": "markdown",
      "metadata": {
        "id": "NOaEK_UNZft1"
      },
      "source": [
        "### (d)\n",
        "\n",
        "Build a function that performs gradient descent for multiple linear regression across all parameters.\n",
        "\n",
        "That is, compute:\n",
        "\n",
        "$$\\theta_j := \\theta_j - \\alpha \\frac{\\partial }{\\partial \\theta_j} J(\\theta_0, \\theta_1, \\cdots, \\theta_p)$$\n",
        "\n",
        "where:\n",
        "\n",
        "$$\\begin{align}\n",
        "\\frac{\\partial }{\\partial \\theta_j} J(\\theta_0, \\theta_1, \\cdots, \\theta_p) &= \\frac{2}{n} \\sum_{i=1}^n \\left[\\left({ y_i - \\hat y_i }\\right) \\left(-x_{ij}\\right)\\right] \\\\\n",
        "&= \\frac{2}{n} \\sum_{i=1}^n \\left[\\left({  \\hat y_i - y_i  }\\right)x_{ij}\\right] \\\\\n",
        "&= \\frac{2}{n} \\sum_{i=1}^n \\left[\\left({ \\left[ \\sum_{j=1}^{p}   x_{ij} \\hat\\theta_j \\right] - y_i  }\\right)x_{ij}\\right] \\\\\n",
        "\\end{align}$$\n",
        "\n",
        "Make sure to store the value of the cost function at each epoch.\n",
        "\n",
        "Implementation Guidelines:\n",
        "\n",
        "- **Arguments:**\n",
        "    - `X`: A design matrix of dimension `n x p`\n",
        "    - `y`: Vector containing the actual values `n`.\n",
        "    - `theta`: A vector of parameter estimates `p`.\n",
        "    - `alpha`: The learning rate for the problem. \n",
        "     - Default: `0.002`\n",
        "    -  `epochs`: Number of times to run gradient descent\n",
        "- **Return:**\n",
        "    - `theta_hat`: The estimated values for the parameters.\n",
        "    - `cost`: Final cost value.\n",
        "    - `cost_history`: An array containing the cost at each epoch."
      ]
    },
    {
      "cell_type": "code",
      "metadata": {
        "id": "uiO962e9Ltfd"
      },
      "source": [
        "## Code here"
      ],
      "execution_count": 4,
      "outputs": []
    },
    {
      "cell_type": "markdown",
      "metadata": {
        "id": "gKnGZ8TefMPx"
      },
      "source": [
        "### (e)\n",
        "\n",
        "With the functions in hand, attempt to perform two estimations under conditions:\n",
        "\n",
        "_Scenario 1_:\n",
        "\n",
        "$$\n",
        "\\begin{align}\n",
        "\\theta_0 &= -3.1, \\theta_1 = 1.5\\\\\n",
        "n &= 1000, \\text{epoch} = 9000 \\\\\n",
        "\\end{align}\n",
        "$$\n",
        "\n",
        "_Scenario 2_:\n",
        "\n",
        "$$\n",
        "\\begin{align}\n",
        "\\theta_0 &= 2, \\theta_1 = -1, \\theta_2 = 3.3 \\\\\n",
        "n &= 500, \\text{epoch} = 6000 \\\\\n",
        "\\end{align}\n",
        "$$\n",
        "\n",
        "**Note:** Feel free to see what happens when $\\alpha$ is set to be higher or lower than the default.\n",
        "\n",
        "**For reproducibility, set a seed using your favorite 4 digit number.**\n",
        "\n",
        "As the data is generated using NumPy, please use [`np.random.seed(seed_value)`](https://numpy.org/doc/stable/reference/random/generated/numpy.random.seed.html) to set the seed. \n",
        "\n"
      ]
    },
    {
      "cell_type": "code",
      "metadata": {
        "id": "WQvhIKNyLzQJ"
      },
      "source": [
        "## Code here"
      ],
      "execution_count": 5,
      "outputs": []
    },
    {
      "cell_type": "markdown",
      "metadata": {
        "id": "j7nOfSf--iM_"
      },
      "source": [
        "### (f)\n",
        "\n",
        "Using the cost history for _one_ of the scenarios, create a convergence plot of cost function values. That is, graph the outcome $J(\\boldsymbol{\\theta})$ by epoch."
      ]
    },
    {
      "cell_type": "code",
      "metadata": {
        "id": "-uHAB06hL5Kg"
      },
      "source": [
        "%matplotlib inline\n",
        "import matplotlib.pyplot as plt\n",
        "\n",
        "## Code here"
      ],
      "execution_count": 6,
      "outputs": []
    },
    {
      "cell_type": "markdown",
      "metadata": {
        "id": "TSuVPM-X_LEg"
      },
      "source": [
        "Provide an interpretation of the graph. Please make sure to address:\n",
        "\n",
        "1. Does the cost converge to a minimum value?\n",
        "2. Does the cost values continually decrease or does it \"jumping\"? "
      ]
    },
    {
      "cell_type": "markdown",
      "metadata": {
        "id": "j0QCbBWib4_U"
      },
      "source": [
        "---\n",
        "\n",
        "answer \n",
        "\n",
        "---"
      ]
    }
  ]
}